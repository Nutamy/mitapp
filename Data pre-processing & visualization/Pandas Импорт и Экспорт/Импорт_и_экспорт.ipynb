{
 "cells": [
  {
   "cell_type": "markdown",
   "metadata": {
    "id": "uGnNNjSTPnAj"
   },
   "source": [
    "### pandas: Импорт & Экспорт [Домашнее задание]\n",
    "> **Вы должны импортировать все необходимые пакеты самостоятельно.**\n",
    "\n",
    "> **Пишите код только там, где это показано для записи. Не удаляйте комментарии!**\n",
    " "
   ]
  },
  {
   "cell_type": "markdown",
   "metadata": {
    "id": "GueCjKJaPnAk"
   },
   "source": [
    "1. Пожалуйста, напишите функцию ```load_data(filename)```, которая будет загружать данные из csv-файла в ```DataFrame```. Файл ```Social_Network_Ads.csv``` предоставлен вместе с этим jupyter notebook.\n",
    "\n",
    "\n",
    "**Примечание:**\n",
    "\n",
    "* В случае, если имя файла задано неверно, функция ```load_data``` должна вывести следующее сообщение об ошибке:\n",
    "\n",
    "```{имя файла} does not exist```"
   ]
  },
  {
   "cell_type": "code",
   "execution_count": 2,
   "metadata": {
    "id": "LcERcaylPnAk"
   },
   "outputs": [],
   "source": [
    "#Начало вашего кода\n",
    "import pandas as pd\n",
    "\n",
    "def load_data(filename):\n",
    "    try:\n",
    "        with open(filename) as f:\n",
    "            data_frame = pd.read_csv(f)\n",
    "        return data_frame.columns.values, data_frame\n",
    "    except:\n",
    "        print(filename,'does not exist')\n",
    "        return None, None\n",
    "#Конец вашего кода"
   ]
  },
  {
   "cell_type": "code",
   "execution_count": 3,
   "metadata": {
    "colab": {
     "base_uri": "https://localhost:8080/"
    },
    "id": "n7YzhABmPnAk",
    "outputId": "aa6a2589-4ad9-4a18-bbc0-440047c76186"
   },
   "outputs": [
    {
     "name": "stdout",
     "output_type": "stream",
     "text": [
      "./SocialNetworkAds.csv does not exist\n"
     ]
    }
   ],
   "source": [
    "filename = \"./SocialNetworkAds.csv\"\n",
    "header, data = load_data(filename=filename)"
   ]
  },
  {
   "cell_type": "markdown",
   "metadata": {
    "id": "47z6vserPnAl"
   },
   "source": [
    "### Ожидаемый результат:\n",
    "\n",
    "```\n",
    "./SocialNetworkAds.csv does not exist\n",
    "```"
   ]
  },
  {
   "cell_type": "code",
   "execution_count": 4,
   "metadata": {
    "colab": {
     "base_uri": "https://localhost:8080/"
    },
    "id": "nf3uPklZPnAl",
    "outputId": "f4dec7f1-88fc-40bf-e3ec-6dd7c3112932"
   },
   "outputs": [
    {
     "name": "stdout",
     "output_type": "stream",
     "text": [
      "None\n",
      "None\n"
     ]
    }
   ],
   "source": [
    "print(header)\n",
    "print(data)"
   ]
  },
  {
   "cell_type": "markdown",
   "metadata": {
    "id": "byiPCKTYPnAl"
   },
   "source": [
    "### Ожидаемый результат:\n",
    "\n",
    "```\n",
    "None\n",
    "None\n",
    "```"
   ]
  },
  {
   "cell_type": "code",
   "execution_count": 5,
   "metadata": {
    "id": "jz39qYdqPnAm"
   },
   "outputs": [],
   "source": [
    "filename = \"./Social_Network_Ads.csv\"\n",
    "header, data = load_data(filename=filename)"
   ]
  },
  {
   "cell_type": "code",
   "execution_count": 6,
   "metadata": {
    "colab": {
     "base_uri": "https://localhost:8080/"
    },
    "id": "u1Bqw7KAPnAm",
    "outputId": "d1752c20-4769-4af1-8915-1eff74a594ce"
   },
   "outputs": [
    {
     "name": "stdout",
     "output_type": "stream",
     "text": [
      "['User ID' 'Gender' 'Age' 'EstimatedSalary' 'Purchased']\n",
      "<class 'pandas.core.frame.DataFrame'>\n",
      "(400, 5)\n"
     ]
    }
   ],
   "source": [
    "print(header)\n",
    "print(type(data))\n",
    "print(data.shape)"
   ]
  },
  {
   "cell_type": "markdown",
   "metadata": {
    "id": "2ZGuEjANPnAm"
   },
   "source": [
    "### Ожидаемый результат:\n",
    "\n",
    "```\n",
    "['User ID', 'Gender', 'Age', 'EstimatedSalary', 'Purchased']\n",
    "```"
   ]
  },
  {
   "cell_type": "markdown",
   "metadata": {
    "id": "8xkMjy33PnAm"
   },
   "source": [
    "**Распечатайте первые и последние 5 строк pandas.DataFrame:**"
   ]
  },
  {
   "cell_type": "code",
   "execution_count": 7,
   "metadata": {
    "colab": {
     "base_uri": "https://localhost:8080/"
    },
    "id": "3JQVq3k4PnAm",
    "outputId": "0d298d07-2a67-4e09-e438-1ec512b854e8"
   },
   "outputs": [
    {
     "name": "stdout",
     "output_type": "stream",
     "text": [
      "    User ID  Gender  Age  EstimatedSalary  Purchased\n",
      "0  15624510    Male   19            19000          0\n",
      "1  15810944    Male   35            20000          0\n",
      "2  15668575  Female   26            43000          0\n",
      "3  15603246  Female   27            57000          0\n",
      "4  15804002    Male   19            76000          0\n",
      "      User ID  Gender  Age  EstimatedSalary  Purchased\n",
      "395  15691863  Female   46            41000          1\n",
      "396  15706071    Male   51            23000          1\n",
      "397  15654296  Female   50            20000          1\n",
      "398  15755018    Male   36            33000          0\n",
      "399  15594041  Female   49            36000          1\n"
     ]
    }
   ],
   "source": [
    "#Начало вашего кода\n",
    "print(data.iloc[:5])\n",
    "print(data.iloc[-5:])\n",
    "#Конец вашего кода"
   ]
  },
  {
   "cell_type": "code",
   "execution_count": 8,
   "metadata": {
    "id": "hqYIprpWeI_n"
   },
   "outputs": [],
   "source": [
    "# Функция извлекает столбцы\n",
    "def extract(data=None, columns=None):\n",
    "    if type(data)==type(pd.DataFrame()) and type(columns) == type(['list']):\n",
    "        column = []\n",
    "        for i in range(len(columns)):\n",
    "            for j in data.columns:\n",
    "                if j[0] == columns[i]:\n",
    "                    column.append(j[0])\n",
    "        return data[column]\n",
    "    else:\n",
    "        print('Error: input arguments are not provided properly extract(data, columns)')\n",
    "        return None\n",
    "# Конец вашего кода"
   ]
  },
  {
   "cell_type": "markdown",
   "metadata": {
    "id": "0-JRpRsJPnAm"
   },
   "source": [
    "### Ожидаемый результат:\n",
    "\n",
    "```\n",
    "User ID  Gender  Age  EstimatedSalary  Purchased\n",
    "0  15624510    Male   19            19000          0\n",
    "1  15810944    Male   35            20000          0\n",
    "2  15668575  Female   26            43000          0\n",
    "3  15603246  Female   27            57000          0\n",
    "4  15804002    Male   19            76000          0\n",
    "      User ID  Gender  Age  EstimatedSalary  Purchased\n",
    "395  15691863  Female   46            41000          1\n",
    "396  15706071    Male   51            23000          1\n",
    "397  15654296  Female   50            20000          1\n",
    "398  15755018    Male   36            33000          0\n",
    "399  15594041  Female   49            36000          1\n",
    "```"
   ]
  },
  {
   "cell_type": "markdown",
   "metadata": {
    "id": "hfMUbFC6PnAn"
   },
   "source": [
    "2. Пожалуйста, реализуйте функцию ```export2csv(filename,data,columns)```, которая будет экспортировать целевые столбцы из входного аргумента ```DataFrame``` в файл в формате csv. Входной аргументы:\n",
    "    * ```filename``` должен быть типа string\n",
    "    * ```data``` должен быть типа pandas.DataFrame\n",
    "    * ```columns``` должен быть списком список с именами целевых столбцов\n",
    "\n",
    "Кроме того, \n",
    "* если ```filename``` или/и ```data``` не предоставлены, функция должна вернуть сообщение об ошибке.\n",
    "* если ```columns``` не предоставлен, функция должна экспортировать весь ```data```.\n"
   ]
  },
  {
   "cell_type": "code",
   "execution_count": 9,
   "metadata": {
    "id": "miLGzfTYPnAn"
   },
   "outputs": [],
   "source": [
    "#Начало вашего кода\n",
    "def export2csv(filename=None,data=None,columns=None):\n",
    "  if filename==None or data==None:\n",
    "    return \"Error: input arguments are not provided properly export2csv(filename, data, [columns optional])\"\n",
    "  else:\n",
    "    if filename[-4:]=='.csv':\n",
    "      data_to_w = extract(data=data, columns=columns)\n",
    "      data_to_w.to_csv(filename)\n",
    "      print(\"Done: {} with shape: {}\".format(filename,data_to_w.shape))\n",
    "    else:\n",
    "      print(\"Error: exported5csv should be of csv-format\")\n",
    "   \n",
    "#Конец вашего кода"
   ]
  },
  {
   "cell_type": "code",
   "execution_count": 10,
   "metadata": {
    "colab": {
     "base_uri": "https://localhost:8080/",
     "height": 458
    },
    "id": "E2iJ4myNPnAn",
    "outputId": "b99bae25-8ae8-475d-e0c9-6937790e266d"
   },
   "outputs": [
    {
     "name": "stdout",
     "output_type": "stream",
     "text": [
      "Error: input arguments are not provided properly export2csv(filename, data, [columns optional])\n",
      "Error: input arguments are not provided properly export2csv(filename, data, [columns optional])\n",
      "Error: input arguments are not provided properly export2csv(filename, data, [columns optional])\n",
      "Error: input arguments are not provided properly export2csv(filename, data, [columns optional])\n"
     ]
    },
    {
     "ename": "ValueError",
     "evalue": "ignored",
     "output_type": "error",
     "traceback": [
      "\u001b[0;31m---------------------------------------------------------------------------\u001b[0m",
      "\u001b[0;31mValueError\u001b[0m                                Traceback (most recent call last)",
      "\u001b[0;32m<ipython-input-10-84050144cf6a>\u001b[0m in \u001b[0;36m<module>\u001b[0;34m()\u001b[0m\n\u001b[1;32m      3\u001b[0m \u001b[0mprint\u001b[0m\u001b[0;34m(\u001b[0m\u001b[0mexport2csv\u001b[0m\u001b[0;34m(\u001b[0m\u001b[0mdata\u001b[0m\u001b[0;34m=\u001b[0m\u001b[0mdata\u001b[0m\u001b[0;34m)\u001b[0m\u001b[0;34m)\u001b[0m\u001b[0;34m\u001b[0m\u001b[0;34m\u001b[0m\u001b[0m\n\u001b[1;32m      4\u001b[0m \u001b[0mprint\u001b[0m\u001b[0;34m(\u001b[0m\u001b[0mexport2csv\u001b[0m\u001b[0;34m(\u001b[0m\u001b[0mcolumns\u001b[0m\u001b[0;34m=\u001b[0m\u001b[0;34m[\u001b[0m\u001b[0;34m\"User ID\"\u001b[0m\u001b[0;34m]\u001b[0m\u001b[0;34m)\u001b[0m\u001b[0;34m)\u001b[0m\u001b[0;34m\u001b[0m\u001b[0;34m\u001b[0m\u001b[0m\n\u001b[0;32m----> 5\u001b[0;31m \u001b[0mprint\u001b[0m\u001b[0;34m(\u001b[0m\u001b[0mexport2csv\u001b[0m\u001b[0;34m(\u001b[0m\u001b[0mfilename\u001b[0m\u001b[0;34m=\u001b[0m\u001b[0;34m\"exported1.csv\"\u001b[0m\u001b[0;34m,\u001b[0m \u001b[0mdata\u001b[0m\u001b[0;34m=\u001b[0m\u001b[0mdata\u001b[0m\u001b[0;34m,\u001b[0m \u001b[0mcolumns\u001b[0m\u001b[0;34m=\u001b[0m\u001b[0;34m[\u001b[0m\u001b[0;34m\"User ID\"\u001b[0m\u001b[0;34m,\u001b[0m \u001b[0;34m\"EstimatedSalary\"\u001b[0m\u001b[0;34m]\u001b[0m\u001b[0;34m)\u001b[0m\u001b[0;34m)\u001b[0m\u001b[0;34m\u001b[0m\u001b[0;34m\u001b[0m\u001b[0m\n\u001b[0m\u001b[1;32m      6\u001b[0m \u001b[0mprint\u001b[0m\u001b[0;34m(\u001b[0m\u001b[0mexport2csv\u001b[0m\u001b[0;34m(\u001b[0m\u001b[0mfilename\u001b[0m\u001b[0;34m=\u001b[0m\u001b[0;34m\"exported2.csv\"\u001b[0m\u001b[0;34m,\u001b[0m \u001b[0mdata\u001b[0m\u001b[0;34m=\u001b[0m\u001b[0mdata\u001b[0m\u001b[0;34m,\u001b[0m \u001b[0mcolumns\u001b[0m\u001b[0;34m=\u001b[0m\u001b[0;34m[\u001b[0m\u001b[0;34m\"UserID\"\u001b[0m\u001b[0;34m,\u001b[0m \u001b[0;34m\"EstimatedSalary\"\u001b[0m\u001b[0;34m]\u001b[0m\u001b[0;34m)\u001b[0m\u001b[0;34m)\u001b[0m\u001b[0;34m\u001b[0m\u001b[0;34m\u001b[0m\u001b[0m\n\u001b[1;32m      7\u001b[0m \u001b[0mprint\u001b[0m\u001b[0;34m(\u001b[0m\u001b[0mexport2csv\u001b[0m\u001b[0;34m(\u001b[0m\u001b[0mfilename\u001b[0m\u001b[0;34m=\u001b[0m\u001b[0;34m\"exported3.csv\"\u001b[0m\u001b[0;34m,\u001b[0m \u001b[0mdata\u001b[0m\u001b[0;34m=\u001b[0m\u001b[0mdata\u001b[0m\u001b[0;34m,\u001b[0m \u001b[0mcolumns\u001b[0m\u001b[0;34m=\u001b[0m\u001b[0;34m[\u001b[0m\u001b[0;34m\"UserID\"\u001b[0m\u001b[0;34m]\u001b[0m\u001b[0;34m)\u001b[0m\u001b[0;34m)\u001b[0m\u001b[0;34m\u001b[0m\u001b[0;34m\u001b[0m\u001b[0m\n",
      "\u001b[0;32m<ipython-input-9-61fba7a501c9>\u001b[0m in \u001b[0;36mexport2csv\u001b[0;34m(filename, data, columns)\u001b[0m\n\u001b[1;32m      1\u001b[0m \u001b[0;31m#Начало вашего кода\u001b[0m\u001b[0;34m\u001b[0m\u001b[0;34m\u001b[0m\u001b[0;34m\u001b[0m\u001b[0m\n\u001b[1;32m      2\u001b[0m \u001b[0;32mdef\u001b[0m \u001b[0mexport2csv\u001b[0m\u001b[0;34m(\u001b[0m\u001b[0mfilename\u001b[0m\u001b[0;34m=\u001b[0m\u001b[0;32mNone\u001b[0m\u001b[0;34m,\u001b[0m\u001b[0mdata\u001b[0m\u001b[0;34m=\u001b[0m\u001b[0;32mNone\u001b[0m\u001b[0;34m,\u001b[0m\u001b[0mcolumns\u001b[0m\u001b[0;34m=\u001b[0m\u001b[0;32mNone\u001b[0m\u001b[0;34m)\u001b[0m\u001b[0;34m:\u001b[0m\u001b[0;34m\u001b[0m\u001b[0;34m\u001b[0m\u001b[0m\n\u001b[0;32m----> 3\u001b[0;31m   \u001b[0;32mif\u001b[0m \u001b[0mfilename\u001b[0m\u001b[0;34m==\u001b[0m\u001b[0;32mNone\u001b[0m \u001b[0;32mor\u001b[0m \u001b[0mdata\u001b[0m\u001b[0;34m==\u001b[0m\u001b[0;32mNone\u001b[0m\u001b[0;34m:\u001b[0m\u001b[0;34m\u001b[0m\u001b[0;34m\u001b[0m\u001b[0m\n\u001b[0m\u001b[1;32m      4\u001b[0m     \u001b[0;32mreturn\u001b[0m \u001b[0;34m\"Error: input arguments are not provided properly export2csv(filename, data, [columns optional])\"\u001b[0m\u001b[0;34m\u001b[0m\u001b[0;34m\u001b[0m\u001b[0m\n\u001b[1;32m      5\u001b[0m   \u001b[0;32melse\u001b[0m\u001b[0;34m:\u001b[0m\u001b[0;34m\u001b[0m\u001b[0;34m\u001b[0m\u001b[0m\n",
      "\u001b[0;32m/usr/local/lib/python3.7/dist-packages/pandas/core/generic.py\u001b[0m in \u001b[0;36m__nonzero__\u001b[0;34m(self)\u001b[0m\n\u001b[1;32m   1328\u001b[0m     \u001b[0;32mdef\u001b[0m \u001b[0m__nonzero__\u001b[0m\u001b[0;34m(\u001b[0m\u001b[0mself\u001b[0m\u001b[0;34m)\u001b[0m\u001b[0;34m:\u001b[0m\u001b[0;34m\u001b[0m\u001b[0;34m\u001b[0m\u001b[0m\n\u001b[1;32m   1329\u001b[0m         raise ValueError(\n\u001b[0;32m-> 1330\u001b[0;31m             \u001b[0;34mf\"The truth value of a {type(self).__name__} is ambiguous. \"\u001b[0m\u001b[0;34m\u001b[0m\u001b[0;34m\u001b[0m\u001b[0m\n\u001b[0m\u001b[1;32m   1331\u001b[0m             \u001b[0;34m\"Use a.empty, a.bool(), a.item(), a.any() or a.all().\"\u001b[0m\u001b[0;34m\u001b[0m\u001b[0;34m\u001b[0m\u001b[0m\n\u001b[1;32m   1332\u001b[0m         )\n",
      "\u001b[0;31mValueError\u001b[0m: The truth value of a DataFrame is ambiguous. Use a.empty, a.bool(), a.item(), a.any() or a.all()."
     ]
    }
   ],
   "source": [
    "print(export2csv())\n",
    "print(export2csv(filename=\"exported.csv\"))\n",
    "print(export2csv(data=data))\n",
    "print(export2csv(columns=[\"User ID\"]))\n",
    "print(export2csv(filename=\"exported1.csv\", data=data, columns=[\"User ID\", \"EstimatedSalary\"]))\n",
    "print(export2csv(filename=\"exported2.csv\", data=data, columns=[\"UserID\", \"EstimatedSalary\"]))\n",
    "print(export2csv(filename=\"exported3.csv\", data=data, columns=[\"UserID\"]))\n",
    "print(export2csv(filename=\"exported4.cs\", data=data, columns=[\"User ID\", \"EstimatedSalary\"]))\n",
    "print(export2csv(filename=\"exported5csv\", data=data, columns=[\"User ID\", \"EstimatedSalary\"]))"
   ]
  },
  {
   "cell_type": "markdown",
   "metadata": {
    "id": "8Me2HO-CPnAn"
   },
   "source": [
    "### Ожидаемый результат:\n",
    "\n",
    "```\n",
    "Error: input arguments are not provided properly export2csv(filename, data, [columns optional])\n",
    "Error: input arguments are not provided properly export2csv(filename, data, [columns optional])\n",
    "Error: input arguments are not provided properly export2csv(filename, data, [columns optional])\n",
    "Error: input arguments are not provided properly export2csv(filename, data, [columns optional])\n",
    "Done: exported1.csv with shape: (400, 2)\n",
    "Done: exported2.csv with shape: (400, 1)\n",
    "Error: DataFrame to export is empty \n",
    "Error: exported4.cs should be of csv-format\n",
    "Error: exported5csv should be of csv-format\n",
    "```"
   ]
  },
  {
   "cell_type": "markdown",
   "metadata": {
    "id": "AaxU3HP9PnAn"
   },
   "source": [
    "3. Вы должны реализовать функцию ```export_sliced_data(filename, data, rows, cols)```. которая будет срезать целевые строки и столбцы из ```data``` и будет экспортировать в файл в формате xlsx. Входной аргументы:\n",
    "    * ```filename``` должен быть типа string (xlsx-формат)\n",
    "    * ```data``` должен быть типа pandas.DataFrame\n",
    "    * ```rows``` должен быть кортежем с индексами начальных и конечных строк.\n",
    "    * ```cols``` должен быть кортежем с индексами начальных и конечных строк.\n",
    "    \n",
    "    **Во всех остальных случаях функция возвращает сообщение об ошибке.**"
   ]
  },
  {
   "cell_type": "code",
   "execution_count": null,
   "metadata": {
    "id": "auyOEPhNPnAo"
   },
   "outputs": [],
   "source": [
    "#Начало вашего кода\n",
    "\n",
    "#Конец вашего кода"
   ]
  },
  {
   "cell_type": "code",
   "execution_count": null,
   "metadata": {
    "id": "F-xyqiHtPnAo"
   },
   "outputs": [],
   "source": [
    "print(export_sliced_data())\n",
    "print(export_sliced_data(filename=\"exported_sliced.xlsx\"))\n",
    "print(export_sliced_data(data=data))\n",
    "print(export_sliced_data(rows=(0,10),cols=(2,4)))\n",
    "print(export_sliced_data(filename=\"exported_sliced1.xlsx\",data=data,rows=(0,10),cols=(2,4)))\n",
    "print(export_sliced_data(filename=\"exported_sliced2xlsx\",data=data,rows=(10,20),cols=(2,4)))\n",
    "print(export_sliced_data(filename=\"exported_sliced3.xlsx\",data=data,rows=(0,20),cols=(5,10)))"
   ]
  },
  {
   "cell_type": "markdown",
   "metadata": {
    "id": "1IT1KYjMPnAo"
   },
   "source": [
    "### Ожидаемый результат:\n",
    "\n",
    "```\n",
    "Error: input arguments are not provided properly export_sliced_data(filename, data,rows,cols)\n",
    "Error: input arguments are not provided properly export_sliced_data(filename, data,rows,cols)\n",
    "Error: input arguments are not provided properly export_sliced_data(filename, data,rows,cols)\n",
    "Error: input arguments are not provided properly export_sliced_data(filename, data,rows,cols)\n",
    "Done: exported_sliced1.xlsx with shape: (10, 2)\n",
    "Error: exported_sliced2xlsx should be of xlsx-format\n",
    "Error: DataFrame to export is empty \n",
    "```"
   ]
  },
  {
   "cell_type": "markdown",
   "metadata": {
    "id": "RWy-WRnuPnAp"
   },
   "source": [
    "# Прекрасная работа!"
   ]
  }
 ],
 "metadata": {
  "colab": {
   "collapsed_sections": [],
   "name": "Импорт и экспорт.ipynb",
   "provenance": []
  },
  "kernelspec": {
   "display_name": "Python 3",
   "language": "python",
   "name": "python3"
  },
  "language_info": {
   "codemirror_mode": {
    "name": "ipython",
    "version": 3
   },
   "file_extension": ".py",
   "mimetype": "text/x-python",
   "name": "python",
   "nbconvert_exporter": "python",
   "pygments_lexer": "ipython3",
   "version": "3.8.5"
  }
 },
 "nbformat": 4,
 "nbformat_minor": 1
}

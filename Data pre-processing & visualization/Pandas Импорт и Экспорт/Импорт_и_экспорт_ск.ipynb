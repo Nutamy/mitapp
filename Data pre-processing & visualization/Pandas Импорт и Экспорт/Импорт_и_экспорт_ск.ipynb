{
  "nbformat": 4,
  "nbformat_minor": 0,
  "metadata": {
    "kernelspec": {
      "display_name": "Python 3",
      "language": "python",
      "name": "python3"
    },
    "language_info": {
      "codemirror_mode": {
        "name": "ipython",
        "version": 3
      },
      "file_extension": ".py",
      "mimetype": "text/x-python",
      "name": "python",
      "nbconvert_exporter": "python",
      "pygments_lexer": "ipython3",
      "version": "3.6.10"
    },
    "colab": {
      "name": "Импорт и экспорт.ipynb",
      "provenance": [],
      "collapsed_sections": []
    }
  },
  "cells": [
    {
      "cell_type": "markdown",
      "metadata": {
        "id": "uGnNNjSTPnAj"
      },
      "source": [
        "### pandas: Импорт & Экспорт [Домашнее задание]\n",
        "> **Вы должны импортировать все необходимые пакеты самостоятельно.**\n",
        "\n",
        "> **Пишите код только там, где это показано для записи. Не удаляйте комментарии!**\n",
        " "
      ]
    },
    {
      "cell_type": "markdown",
      "metadata": {
        "id": "GueCjKJaPnAk"
      },
      "source": [
        "1. Пожалуйста, напишите функцию ```load_data(filename)```, которая будет загружать данные из csv-файла в ```DataFrame```. Файл ```Social_Network_Ads.csv``` предоставлен вместе с этим jupyter notebook.\n",
        "\n",
        "\n",
        "**Примечание:**\n",
        "\n",
        "* В случае, если имя файла задано неверно, функция ```load_data``` должна вывести следующее сообщение об ошибке:\n",
        "\n",
        "```{имя файла} does not exist```"
      ]
    },
    {
      "cell_type": "code",
      "metadata": {
        "id": "LcERcaylPnAk"
      },
      "source": [
        "#Начало вашего кода\n",
        "import pandas as pd\n",
        "\n",
        "def load_data(filename):\n",
        "    try:\n",
        "        with open(filename) as f:\n",
        "            data_frame = pd.read_csv(f)\n",
        "        return data_frame.columns.values, data_frame\n",
        "    except:\n",
        "        print(filename,'does not exist')\n",
        "        return None, None\n",
        "#Конец вашего кода"
      ],
      "execution_count": null,
      "outputs": []
    },
    {
      "cell_type": "code",
      "metadata": {
        "colab": {
          "base_uri": "https://localhost:8080/"
        },
        "id": "n7YzhABmPnAk",
        "outputId": "75e060eb-4336-4c7f-cee6-dc99317969f9"
      },
      "source": [
        "filename = \"./SocialNetworkAds.csv\"\n",
        "header, data = load_data(filename=filename)"
      ],
      "execution_count": null,
      "outputs": [
        {
          "output_type": "stream",
          "text": [
            "./SocialNetworkAds.csv does not exist\n"
          ],
          "name": "stdout"
        }
      ]
    },
    {
      "cell_type": "markdown",
      "metadata": {
        "id": "47z6vserPnAl"
      },
      "source": [
        "### Ожидаемый результат:\n",
        "\n",
        "```\n",
        "./SocialNetworkAds.csv does not exist\n",
        "```"
      ]
    },
    {
      "cell_type": "code",
      "metadata": {
        "colab": {
          "base_uri": "https://localhost:8080/"
        },
        "id": "nf3uPklZPnAl",
        "outputId": "3c23d43d-a390-4fa2-8eba-a021e68b6ad7"
      },
      "source": [
        "print(header)\n",
        "print(data)"
      ],
      "execution_count": null,
      "outputs": [
        {
          "output_type": "stream",
          "text": [
            "None\n",
            "None\n"
          ],
          "name": "stdout"
        }
      ]
    },
    {
      "cell_type": "markdown",
      "metadata": {
        "id": "byiPCKTYPnAl"
      },
      "source": [
        "### Ожидаемый результат:\n",
        "\n",
        "```\n",
        "None\n",
        "None\n",
        "```"
      ]
    },
    {
      "cell_type": "code",
      "metadata": {
        "id": "jz39qYdqPnAm"
      },
      "source": [
        "filename = \"./Social_Network_Ads.csv\"\n",
        "header, data = load_data(filename=filename)"
      ],
      "execution_count": null,
      "outputs": []
    },
    {
      "cell_type": "code",
      "metadata": {
        "colab": {
          "base_uri": "https://localhost:8080/"
        },
        "id": "u1Bqw7KAPnAm",
        "outputId": "a7e62acb-6790-44ca-b6ec-883b18615f68"
      },
      "source": [
        "print(header)\n",
        "print(type(data))\n",
        "print(data.shape)"
      ],
      "execution_count": null,
      "outputs": [
        {
          "output_type": "stream",
          "text": [
            "['User ID' 'Gender' 'Age' 'EstimatedSalary' 'Purchased']\n",
            "<class 'pandas.core.frame.DataFrame'>\n",
            "(400, 5)\n"
          ],
          "name": "stdout"
        }
      ]
    },
    {
      "cell_type": "markdown",
      "metadata": {
        "id": "2ZGuEjANPnAm"
      },
      "source": [
        "### Ожидаемый результат:\n",
        "\n",
        "```\n",
        "['User ID', 'Gender', 'Age', 'EstimatedSalary', 'Purchased']\n",
        "```"
      ]
    },
    {
      "cell_type": "markdown",
      "metadata": {
        "id": "8xkMjy33PnAm"
      },
      "source": [
        "**Распечатайте первые и последние 5 строк pandas.DataFrame:**"
      ]
    },
    {
      "cell_type": "code",
      "metadata": {
        "colab": {
          "base_uri": "https://localhost:8080/"
        },
        "id": "3JQVq3k4PnAm",
        "outputId": "8984f636-b557-4b60-f335-c0f2a58febfe"
      },
      "source": [
        "#Начало вашего кода\n",
        "print(data.iloc[:5])\n",
        "print(data.iloc[-5:])\n",
        "#Конец вашего кода"
      ],
      "execution_count": null,
      "outputs": [
        {
          "output_type": "stream",
          "text": [
            "    User ID  Gender  Age  EstimatedSalary  Purchased\n",
            "0  15624510    Male   19            19000          0\n",
            "1  15810944    Male   35            20000          0\n",
            "2  15668575  Female   26            43000          0\n",
            "3  15603246  Female   27            57000          0\n",
            "4  15804002    Male   19            76000          0\n",
            "      User ID  Gender  Age  EstimatedSalary  Purchased\n",
            "395  15691863  Female   46            41000          1\n",
            "396  15706071    Male   51            23000          1\n",
            "397  15654296  Female   50            20000          1\n",
            "398  15755018    Male   36            33000          0\n",
            "399  15594041  Female   49            36000          1\n"
          ],
          "name": "stdout"
        }
      ]
    },
    {
      "cell_type": "code",
      "metadata": {
        "colab": {
          "base_uri": "https://localhost:8080/"
        },
        "id": "hqYIprpWeI_n",
        "outputId": "92fb92cc-b1db-4ac9-e412-65c33bda5459"
      },
      "source": [
        "# Функция извлекает столбцы\n",
        "def extract(data=None, columns=None):\n",
        "  if type(data)==type(pd.DataFrame()) and type(columns) == type(['list']):\n",
        "    column = []\n",
        "    for i in data.columns:\n",
        "      for j in range(len(columns)):\n",
        "        if i == columns[j]:\n",
        "          column.append(i)\n",
        "  else:\n",
        "    print('Error: input arguments are not provided properly extract(data, columns)')\n",
        "  return data[column]\n",
        "        \n",
        "print(extract(data=data, columns=[\"User ID\", \"EstimatedSalary\"]))\n",
        "# Конец вашего кода"
      ],
      "execution_count": null,
      "outputs": [
        {
          "output_type": "stream",
          "text": [
            "      User ID  EstimatedSalary\n",
            "0    15624510            19000\n",
            "1    15810944            20000\n",
            "2    15668575            43000\n",
            "3    15603246            57000\n",
            "4    15804002            76000\n",
            "..        ...              ...\n",
            "395  15691863            41000\n",
            "396  15706071            23000\n",
            "397  15654296            20000\n",
            "398  15755018            33000\n",
            "399  15594041            36000\n",
            "\n",
            "[400 rows x 2 columns]\n"
          ],
          "name": "stdout"
        }
      ]
    },
    {
      "cell_type": "markdown",
      "metadata": {
        "id": "0-JRpRsJPnAm"
      },
      "source": [
        "### Ожидаемый результат:\n",
        "\n",
        "```\n",
        "User ID  Gender  Age  EstimatedSalary  Purchased\n",
        "0  15624510    Male   19            19000          0\n",
        "1  15810944    Male   35            20000          0\n",
        "2  15668575  Female   26            43000          0\n",
        "3  15603246  Female   27            57000          0\n",
        "4  15804002    Male   19            76000          0\n",
        "      User ID  Gender  Age  EstimatedSalary  Purchased\n",
        "395  15691863  Female   46            41000          1\n",
        "396  15706071    Male   51            23000          1\n",
        "397  15654296  Female   50            20000          1\n",
        "398  15755018    Male   36            33000          0\n",
        "399  15594041  Female   49            36000          1\n",
        "```"
      ]
    },
    {
      "cell_type": "markdown",
      "metadata": {
        "id": "hfMUbFC6PnAn"
      },
      "source": [
        "2. Пожалуйста, реализуйте функцию ```export2csv(filename,data,columns)```, которая будет экспортировать целевые столбцы из входного аргумента ```DataFrame``` в файл в формате csv. Входной аргументы:\n",
        "    * ```filename``` должен быть типа string\n",
        "    * ```data``` должен быть типа pandas.DataFrame\n",
        "    * ```columns``` должен быть списком список с именами целевых столбцов\n",
        "\n",
        "Кроме того, \n",
        "* если ```filename``` или/и ```data``` не предоставлены, функция должна вернуть сообщение об ошибке.\n",
        "* если ```columns``` не предоставлен, функция должна экспортировать весь ```data```.\n"
      ]
    },
    {
      "cell_type": "code",
      "metadata": {
        "id": "miLGzfTYPnAn"
      },
      "source": [
        "#Начало вашего кода\n",
        "def export2csv(filename=None,data=None,columns=None):\n",
        "  if filename==None or type(data)==type(None):\n",
        "    return \"Error: input arguments are not provided properly export2csv(filename, data, [columns optional])\"\n",
        "  else:\n",
        "    if filename[-4:]=='.csv':\n",
        "      data_to_w = extract(data=data, columns=columns)\n",
        "      if data_to_w.shape[1]==0:\n",
        "        return \"Error: DataFrame to export is empty \"\n",
        "      data_to_w.to_csv(filename)\n",
        "      return \"Done: {} with shape: {}\".format(filename,data_to_w.shape)\n",
        "    else:\n",
        "      return \"Error: exported5csv should be of csv-format\"\n",
        "   \n",
        "#Конец вашего кода"
      ],
      "execution_count": null,
      "outputs": []
    },
    {
      "cell_type": "code",
      "metadata": {
        "id": "E2iJ4myNPnAn",
        "colab": {
          "base_uri": "https://localhost:8080/"
        },
        "outputId": "30d1e579-3f93-411a-ce49-3bf69dc41c23"
      },
      "source": [
        "print(export2csv())\n",
        "print(export2csv(filename=\"exported.csv\"))\n",
        "print(export2csv(data=data))\n",
        "print(export2csv(columns=[\"User ID\"]))\n",
        "print(export2csv(filename=\"exported1.csv\", data=data, columns=[\"User ID\", \"EstimatedSalary\"]))\n",
        "print(export2csv(filename=\"exported2.csv\", data=data, columns=[\"UserID\", \"EstimatedSalary\"]))\n",
        "print(export2csv(filename=\"exported3.csv\", data=data, columns=[\"UserID\"]))\n",
        "print(export2csv(filename=\"exported4.cs\", data=data, columns=[\"User ID\", \"EstimatedSalary\"]))\n",
        "print(export2csv(filename=\"exported5csv\", data=data, columns=[\"User ID\", \"EstimatedSalary\"]))"
      ],
      "execution_count": null,
      "outputs": [
        {
          "output_type": "stream",
          "text": [
            "Error: input arguments are not provided properly export2csv(filename, data, [columns optional])\n",
            "Error: input arguments are not provided properly export2csv(filename, data, [columns optional])\n",
            "Error: input arguments are not provided properly export2csv(filename, data, [columns optional])\n",
            "Error: input arguments are not provided properly export2csv(filename, data, [columns optional])\n",
            "Done: exported1.csv with shape: (400, 2)\n",
            "Done: exported2.csv with shape: (400, 1)\n",
            "Error: DataFrame to export is empty \n",
            "Error: exported5csv should be of csv-format\n",
            "Error: exported5csv should be of csv-format\n"
          ],
          "name": "stdout"
        }
      ]
    },
    {
      "cell_type": "markdown",
      "metadata": {
        "id": "8Me2HO-CPnAn"
      },
      "source": [
        "### Ожидаемый результат:\n",
        "\n",
        "```\n",
        "Error: input arguments are not provided properly export2csv(filename, data, [columns optional])\n",
        "Error: input arguments are not provided properly export2csv(filename, data, [columns optional])\n",
        "Error: input arguments are not provided properly export2csv(filename, data, [columns optional])\n",
        "Error: input arguments are not provided properly export2csv(filename, data, [columns optional])\n",
        "Done: exported1.csv with shape: (400, 2)\n",
        "Done: exported2.csv with shape: (400, 1)\n",
        "Error: DataFrame to export is empty \n",
        "Error: exported4.cs should be of csv-format\n",
        "Error: exported5csv should be of csv-format\n",
        "```"
      ]
    },
    {
      "cell_type": "markdown",
      "metadata": {
        "id": "AaxU3HP9PnAn"
      },
      "source": [
        "3. Вы должны реализовать функцию ```export_sliced_data(filename, data, rows, cols)```. которая будет срезать целевые строки и столбцы из ```data``` и будет экспортировать в файл в формате xlsx. Входной аргументы:\n",
        "    * ```filename``` должен быть типа string (xlsx-формат)\n",
        "    * ```data``` должен быть типа pandas.DataFrame\n",
        "    * ```rows``` должен быть кортежем с индексами начальных и конечных строк.\n",
        "    * ```cols``` должен быть кортежем с индексами начальных и конечных строк.\n",
        "    \n",
        "    **Во всех остальных случаях функция возвращает сообщение об ошибке.**"
      ]
    },
    {
      "cell_type": "code",
      "metadata": {
        "id": "auyOEPhNPnAo"
      },
      "source": [
        "#Начало вашего кода\n",
        "def export_sliced_data(filename=None, data=None, rows=None, cols=None):\n",
        "  if filename==None or type(data)==type(None) or rows==None or cols==None:\n",
        "    return \"Error: input arguments are not provided properly export_sliced_data(filename, data,rows,cols)\"\n",
        "  else:\n",
        "    if filename[-5:]=='.xlsx':\n",
        "      if cols[0]>len(data.columns.to_list()) or cols[1]>len(data.columns.to_list()):\n",
        "        return \"Error: DataFrame to export is empty\"\n",
        "      data_columns = data.columns.to_list()\n",
        "      column_required = []\n",
        "      for i in data_columns:\n",
        "        for j in cols:\n",
        "          if data_columns[j] not in column_required:\n",
        "            column_required.append(data_columns[j])\n",
        "      data_columns_filtered = data[column_required]\n",
        "      data_rows_filtered = data_columns_filtered.loc[rows[0]:rows[1]]\n",
        "      data_rows_filtered.to_excel(filename)\n",
        "      return \"Done: exported_sliced1.xlsx with shape: {}\".format(data_rows_filtered.shape)\n",
        "    else:\n",
        "      return \"Error: exported_sliced2xlsx should be of xlsx-format\"\n",
        "#Конец вашего кода"
      ],
      "execution_count": null,
      "outputs": []
    },
    {
      "cell_type": "code",
      "metadata": {
        "id": "F-xyqiHtPnAo",
        "colab": {
          "base_uri": "https://localhost:8080/"
        },
        "outputId": "a9af1680-3323-4a86-aa69-7e200385e8f6"
      },
      "source": [
        "print(export_sliced_data())\n",
        "print(export_sliced_data(filename=\"exported_sliced.xlsx\"))\n",
        "print(export_sliced_data(data=data))\n",
        "print(export_sliced_data(rows=(0,10),cols=(2,4)))\n",
        "print(export_sliced_data(filename=\"exported_sliced1.xlsx\",data=data,rows=(0,10),cols=(2,4)))\n",
        "print(export_sliced_data(filename=\"exported_sliced2xlsx\",data=data,rows=(10,20),cols=(2,4)))\n",
        "print(export_sliced_data(filename=\"exported_sliced3.xlsx\",data=data,rows=(0,20),cols=(5,10)))"
      ],
      "execution_count": null,
      "outputs": [
        {
          "output_type": "stream",
          "text": [
            "Error: input arguments are not provided properly export_sliced_data(filename, data,rows,cols)\n",
            "Error: input arguments are not provided properly export_sliced_data(filename, data,rows,cols)\n",
            "Error: input arguments are not provided properly export_sliced_data(filename, data,rows,cols)\n",
            "Error: input arguments are not provided properly export_sliced_data(filename, data,rows,cols)\n",
            "Done: exported_sliced1.xlsx with shape: (11, 2)\n",
            "Error: exported_sliced2xlsx should be of xlsx-format\n",
            "Error: DataFrame to export is empty\n"
          ],
          "name": "stdout"
        }
      ]
    },
    {
      "cell_type": "markdown",
      "metadata": {
        "id": "1IT1KYjMPnAo"
      },
      "source": [
        "### Ожидаемый результат:\n",
        "\n",
        "```\n",
        "Error: input arguments are not provided properly export_sliced_data(filename, data,rows,cols)\n",
        "Error: input arguments are not provided properly export_sliced_data(filename, data,rows,cols)\n",
        "Error: input arguments are not provided properly export_sliced_data(filename, data,rows,cols)\n",
        "Error: input arguments are not provided properly export_sliced_data(filename, data,rows,cols)\n",
        "Done: exported_sliced1.xlsx with shape: (10, 2)\n",
        "Error: exported_sliced2xlsx should be of xlsx-format\n",
        "Error: DataFrame to export is empty \n",
        "```"
      ]
    },
    {
      "cell_type": "markdown",
      "metadata": {
        "id": "RWy-WRnuPnAp"
      },
      "source": [
        "# Прекрасная работа!"
      ]
    }
  ]
}
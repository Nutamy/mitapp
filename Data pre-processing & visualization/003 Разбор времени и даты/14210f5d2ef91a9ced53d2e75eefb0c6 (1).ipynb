{
 "cells": [
  {
   "cell_type": "markdown",
   "metadata": {},
   "source": [
    "### Разбор времени и даты [Домашнее задание]"
   ]
  },
  {
   "cell_type": "markdown",
   "metadata": {},
   "source": [
    "### Задания:\n",
    "\n",
    "1. Загрузите данные из следующего CSV-файла **\"scrubbed.csv\"** (который прикреплен к видео)\n",
    "\n",
    "2. Найдите, какой из столбцов содержит информацию о дате и времени.\n",
    "\n",
    "3. Измените дату и время в столбце на следующее: '10/10/1949 20:30' -> 'October 10 of 1949 at 08:30 PM'\n",
    "\n",
    "4. Сохраните данные с обновленным форматом даты и времени в новый файл в формате csv **\"format_scrubbed.csv\"**\n",
    "\n"
   ]
  },
  {
   "cell_type": "code",
   "execution_count": 12,
   "metadata": {},
   "outputs": [
    {
     "name": "stdout",
     "output_type": "stream",
     "text": [
      "C:\\Users\\Асмодианин\n"
     ]
    }
   ],
   "source": [
    "import os\n",
    "print(os.getcwd())"
   ]
  },
  {
   "cell_type": "code",
   "execution_count": 1,
   "metadata": {},
   "outputs": [],
   "source": [
    "import datetime as dt"
   ]
  },
  {
   "cell_type": "code",
   "execution_count": 2,
   "metadata": {},
   "outputs": [
    {
     "name": "stdout",
     "output_type": "stream",
     "text": [
      "date = 10/12/2021\n",
      "day = 10\n",
      "month = 12\n",
      "year = 2021\n",
      "cur_date = 2021-12-10 00:00:00\n"
     ]
    }
   ],
   "source": [
    "# Первый. Метод без datatime.strptime\n",
    "\n",
    "date = '10/12/2021'\n",
    "print(f'date = {date}')\n",
    "day, month, year = [int(d) for d in date.split('/')]\n",
    "print(f'day = {day}')\n",
    "print(f'month = {month}')\n",
    "print(f'year = {year}')\n",
    "cur_date = dt.datetime(year, month, day)\n",
    "print(f'cur_date = {cur_date}')"
   ]
  },
  {
   "cell_type": "code",
   "execution_count": 3,
   "metadata": {},
   "outputs": [
    {
     "name": "stdout",
     "output_type": "stream",
     "text": [
      "new_date = 2021-12-10 00:00:00\n"
     ]
    }
   ],
   "source": [
    "# Второй. Правильный метод\n",
    "\n",
    "new_date = dt.datetime.strptime(date, '%d/%m/%Y')\n",
    "print(f'new_date = {new_date}')"
   ]
  },
  {
   "cell_type": "code",
   "execution_count": 4,
   "metadata": {},
   "outputs": [],
   "source": [
    "import csv"
   ]
  },
  {
   "cell_type": "code",
   "execution_count": 11,
   "metadata": {},
   "outputs": [
    {
     "name": "stdout",
     "output_type": "stream",
     "text": [
      "1955-10-10 17:00:00\n",
      "October 10 of 1955 at 05:00 PM\n"
     ]
    }
   ],
   "source": [
    "with open('scrubbed.csv', 'r') as file:\n",
    "    csv_data = csv.reader(file)\n",
    "    data = list(csv_data)\n",
    "    old_d = dt.datetime.strptime(data[3][0], '%d/%m/%Y %H:%M')\n",
    "    print(old_d)\n",
    "    new_d = dt.datetime.strftime(old_d, '%B %d of %Y at %I:%M %p')\n",
    "    print(new_d)"
   ]
  },
  {
   "cell_type": "code",
   "execution_count": 9,
   "metadata": {},
   "outputs": [],
   "source": [
    "with open('scrubbed.csv', 'r') as file:\n",
    "    csv_data = csv.reader(file)\n",
    "    data = list(csv_data)\n",
    "for row in data:\n",
    "    new_d = dt.datetime.strptime(row[0], '%d/%m/%Y %H:%M')\n",
    "    row[0] = dt.datetime.strftime(new_d, '%B %d of %Y at %I:%M %p')"
   ]
  },
  {
   "cell_type": "code",
   "execution_count": 6,
   "metadata": {},
   "outputs": [
    {
     "name": "stdout",
     "output_type": "stream",
     "text": [
      "September 09 of 2009 at 03:14 AM\n"
     ]
    }
   ],
   "source": [
    "test_time = '9/9/2009 03:14'\n",
    "new_test_time = dt.datetime.strptime(test_time, '%d/%m/%Y %H:%M')\n",
    "# October 10 of 1949 at 08:30 PM\n",
    "time_for_print = dt.datetime.strftime(new_test_time, '%B %d of %Y at %I:%M %p')\n",
    "print(time_for_print)"
   ]
  },
  {
   "cell_type": "code",
   "execution_count": 10,
   "metadata": {},
   "outputs": [],
   "source": [
    "with open('new_format_scrubbed.csv', 'w') as f:\n",
    "    writer = csv.writer(f)\n",
    "    for row in data:\n",
    "        writer.writerow(row)"
   ]
  }
 ],
 "metadata": {
  "kernelspec": {
   "display_name": "Python 3",
   "language": "python",
   "name": "python3"
  },
  "language_info": {
   "codemirror_mode": {
    "name": "ipython",
    "version": 3
   },
   "file_extension": ".py",
   "mimetype": "text/x-python",
   "name": "python",
   "nbconvert_exporter": "python",
   "pygments_lexer": "ipython3",
   "version": "3.8.5"
  }
 },
 "nbformat": 4,
 "nbformat_minor": 2
}
{
 "cells": [
  {
   "cell_type": "markdown",
   "metadata": {},
   "source": [
    "### Разбор времени и даты [Домашнее задание]"
   ]
  },
  {
   "cell_type": "markdown",
   "metadata": {},
   "source": [
    "### Задания:\n",
    "\n",
    "1. Загрузите данные из следующего CSV-файла **\"scrubbed.csv\"** (который прикреплен к видео)\n",
    "\n",
    "2. Найдите, какой из столбцов содержит информацию о дате и времени.\n",
    "\n",
    "3. Измените дату и время в столбце на следующее: '10/10/1949 20:30' -> 'October 10 of 1949 at 08:30 PM'\n",
    "\n",
    "4. Сохраните данные с обновленным форматом даты и времени в новый файл в формате csv **\"format_scrubbed.csv\"**\n",
    "\n"
   ]
  },
  {
   "cell_type": "code",
   "execution_count": 1,
   "metadata": {},
   "outputs": [],
   "source": [
    "import datetime as dt"
   ]
  },
  {
   "cell_type": "code",
   "execution_count": 2,
   "metadata": {},
   "outputs": [
    {
     "output_type": "stream",
     "name": "stdout",
     "text": [
      "date = 10/12/2021\nday = 10\nmonth = 12\nyear = 2021\ncur_date = 2021-12-10 00:00:00\n"
     ]
    }
   ],
   "source": [
    "# Первый. Метод без datatime.strptime\n",
    "\n",
    "date = '10/12/2021'\n",
    "print(f'date = {date}')\n",
    "day, month, year = [int(d) for d in date.split('/')]\n",
    "print(f'day = {day}')\n",
    "print(f'month = {month}')\n",
    "print(f'year = {year}')\n",
    "cur_date = dt.datetime(year, month, day)\n",
    "print(f'cur_date = {cur_date}')"
   ]
  },
  {
   "cell_type": "code",
   "execution_count": 3,
   "metadata": {},
   "outputs": [
    {
     "output_type": "stream",
     "name": "stdout",
     "text": [
      "new_date = 2021-12-10 00:00:00\n"
     ]
    }
   ],
   "source": [
    "# Второй. Правильный метод\n",
    "\n",
    "new_date = dt.datetime.strptime(date, '%d/%m/%Y')\n",
    "print(f'new_date = {new_date}')"
   ]
  },
  {
   "cell_type": "code",
   "execution_count": 4,
   "metadata": {},
   "outputs": [],
   "source": [
    "import csv"
   ]
  },
  {
   "cell_type": "code",
   "execution_count": null,
   "metadata": {},
   "outputs": [],
   "source": []
  },
  {
   "cell_type": "code",
   "execution_count": 5,
   "metadata": {},
   "outputs": [
    {
     "output_type": "stream",
     "name": "stdout",
     "text": [
      "September 09 of 2009 at 03:14 AM\n"
     ]
    }
   ],
   "source": [
    "with open('scrubbed.csv', 'r') as file:\n",
    "    reader = csv.reader(file)\n",
    "    data = list(reader)\n",
    "    for row in data:\n",
    "        for i in range(len(row)):\n",
    "            try:\n",
    "                new_d = dt.datetime.strptime(row[i], '%d/%m/%Y % %H:%M')\n",
    "                row[i] = dt.datetime.strftime(new_d, '%B %d of %Y at %I:%M %p')\n",
    "            except:\n",
    "                pass"
   ]
  },
  {
   "cell_type": "code",
   "execution_count": 6,
   "metadata": {},
   "outputs": [
    {
     "output_type": "error",
     "ename": "NameError",
     "evalue": "name 'data' is not defined",
     "traceback": [
      "\u001b[0;31m---------------------------------------------------------------------------\u001b[0m",
      "\u001b[0;31mNameError\u001b[0m                                 Traceback (most recent call last)",
      "\u001b[0;32m<ipython-input-6-51de75e03017>\u001b[0m in \u001b[0;36m<module>\u001b[0;34m\u001b[0m\n\u001b[1;32m      1\u001b[0m \u001b[0;32mwith\u001b[0m \u001b[0mopen\u001b[0m\u001b[0;34m(\u001b[0m\u001b[0;34m'format_scrubbed.csv'\u001b[0m\u001b[0;34m,\u001b[0m \u001b[0;34m'w'\u001b[0m\u001b[0;34m)\u001b[0m \u001b[0;32mas\u001b[0m \u001b[0mfile\u001b[0m\u001b[0;34m:\u001b[0m\u001b[0;34m\u001b[0m\u001b[0;34m\u001b[0m\u001b[0m\n\u001b[1;32m      2\u001b[0m     \u001b[0mwriter\u001b[0m \u001b[0;34m=\u001b[0m \u001b[0mcsv\u001b[0m\u001b[0;34m.\u001b[0m\u001b[0mwriter\u001b[0m\u001b[0;34m(\u001b[0m\u001b[0mfile\u001b[0m\u001b[0;34m)\u001b[0m\u001b[0;34m\u001b[0m\u001b[0;34m\u001b[0m\u001b[0m\n\u001b[0;32m----> 3\u001b[0;31m     \u001b[0;32mfor\u001b[0m \u001b[0mrow\u001b[0m \u001b[0;32min\u001b[0m \u001b[0mdata\u001b[0m\u001b[0;34m:\u001b[0m\u001b[0;34m\u001b[0m\u001b[0;34m\u001b[0m\u001b[0m\n\u001b[0m\u001b[1;32m      4\u001b[0m         \u001b[0mwriter\u001b[0m\u001b[0;34m.\u001b[0m\u001b[0mwriterow\u001b[0m\u001b[0;34m(\u001b[0m\u001b[0mrow\u001b[0m\u001b[0;34m)\u001b[0m\u001b[0;34m\u001b[0m\u001b[0;34m\u001b[0m\u001b[0m\n",
      "\u001b[0;31mNameError\u001b[0m: name 'data' is not defined"
     ]
    }
   ],
   "source": [
    "test_time = '9/9/2009 03:14'\n",
    "new_test_time = dt.datetime.strptime(test_time, '%d/%m/%Y %H:%M')\n",
    "# October 10 of 1949 at 08:30 PM\n",
    "time_for_print = dt.datetime.strftime(new_test_time, '%B %d of %Y at %I:%M %p')\n",
    "print(time_for_print)"
   ]
  }
 ],
 "metadata": {
  "kernelspec": {
   "display_name": "Python 3",
   "language": "python",
   "name": "python3"
  },
  "language_info": {
   "codemirror_mode": {
    "name": "ipython",
    "version": 3
   },
   "file_extension": ".py",
   "mimetype": "text/x-python",
   "name": "python",
   "nbconvert_exporter": "python",
   "pygments_lexer": "ipython3",
   "version": "3.8.5"
  }
 },
 "nbformat": 4,
 "nbformat_minor": 2
}
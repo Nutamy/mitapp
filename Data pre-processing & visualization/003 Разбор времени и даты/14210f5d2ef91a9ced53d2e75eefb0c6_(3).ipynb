{
  "nbformat": 4,
  "nbformat_minor": 0,
  "metadata": {
    "kernelspec": {
      "display_name": "Python 3",
      "language": "python",
      "name": "python3"
    },
    "language_info": {
      "codemirror_mode": {
        "name": "ipython",
        "version": 3
      },
      "file_extension": ".py",
      "mimetype": "text/x-python",
      "name": "python",
      "nbconvert_exporter": "python",
      "pygments_lexer": "ipython3",
      "version": "3.8.5"
    },
    "colab": {
      "name": "14210f5d2ef91a9ced53d2e75eefb0c6 (1).ipynb",
      "provenance": [],
      "collapsed_sections": []
    }
  },
  "cells": [
    {
      "cell_type": "markdown",
      "metadata": {
        "id": "8n_6fi8Ujvx2"
      },
      "source": [
        "### Разбор времени и даты [Домашнее задание]"
      ]
    },
    {
      "cell_type": "markdown",
      "metadata": {
        "id": "v_fk5r8Yjvx6"
      },
      "source": [
        "### Задания:\n",
        "\n",
        "1. Загрузите данные из следующего CSV-файла **\"scrubbed.csv\"** (который прикреплен к видео)\n",
        "\n",
        "2. Найдите, какой из столбцов содержит информацию о дате и времени.\n",
        "\n",
        "3. Измените дату и время в столбце на следующее: '10/10/1949 20:30' -> 'October 10 of 1949 at 08:30 PM'\n",
        "\n",
        "4. Сохраните данные с обновленным форматом даты и времени в новый файл в формате csv **\"format_scrubbed.csv\"**\n",
        "\n"
      ]
    },
    {
      "cell_type": "code",
      "metadata": {
        "colab": {
          "base_uri": "https://localhost:8080/"
        },
        "id": "AEYfGp9Vjvx7",
        "outputId": "eee5b739-90ad-4576-d8a6-1a287b440dda"
      },
      "source": [
        "import os\n",
        "print(os.getcwd())"
      ],
      "execution_count": 4,
      "outputs": [
        {
          "output_type": "stream",
          "text": [
            "/content\n"
          ],
          "name": "stdout"
        }
      ]
    },
    {
      "cell_type": "code",
      "metadata": {
        "id": "EVm76CVRjvx-"
      },
      "source": [
        "import datetime as dt"
      ],
      "execution_count": 2,
      "outputs": []
    },
    {
      "cell_type": "markdown",
      "metadata": {
        "id": "Me1cHuGVkIj0"
      },
      "source": [
        "# Новый раздел"
      ]
    },
    {
      "cell_type": "code",
      "metadata": {
        "colab": {
          "base_uri": "https://localhost:8080/"
        },
        "id": "mO_NNXYykMIm",
        "outputId": "9fc881fa-586a-45d5-faca-9c7cb878caed"
      },
      "source": [
        "from google.colab import drive\n",
        "drive.mount('/content/drive')"
      ],
      "execution_count": 3,
      "outputs": [
        {
          "output_type": "stream",
          "text": [
            "Mounted at /content/drive\n"
          ],
          "name": "stdout"
        }
      ]
    },
    {
      "cell_type": "code",
      "metadata": {
        "colab": {
          "base_uri": "https://localhost:8080/"
        },
        "id": "6f9D-_l4jvx-",
        "outputId": "ae3b247f-b028-4191-d6c8-013391c8e40b"
      },
      "source": [
        "# Первый. Метод без datatime.strptime\n",
        "\n",
        "date = '10/12/2021'\n",
        "print(f'date = {date}')\n",
        "day, month, year = [int(d) for d in date.split('/')]\n",
        "print(f'day = {day}')\n",
        "print(f'month = {month}')\n",
        "print(f'year = {year}')\n",
        "cur_date = dt.datetime(year, month, day)\n",
        "print(f'cur_date = {cur_date}')"
      ],
      "execution_count": 5,
      "outputs": [
        {
          "output_type": "stream",
          "text": [
            "date = 10/12/2021\n",
            "day = 10\n",
            "month = 12\n",
            "year = 2021\n",
            "cur_date = 2021-12-10 00:00:00\n"
          ],
          "name": "stdout"
        }
      ]
    },
    {
      "cell_type": "code",
      "metadata": {
        "colab": {
          "base_uri": "https://localhost:8080/"
        },
        "id": "4WL8bplXjvx_",
        "outputId": "2d7353ee-23e7-47d5-eb9c-1b7dcbd065d3"
      },
      "source": [
        "# Второй. Правильный метод\n",
        "\n",
        "new_date = dt.datetime.strptime(date, '%d/%m/%Y')\n",
        "print(f'new_date = {new_date}')"
      ],
      "execution_count": 6,
      "outputs": [
        {
          "output_type": "stream",
          "text": [
            "new_date = 2021-12-10 00:00:00\n"
          ],
          "name": "stdout"
        }
      ]
    },
    {
      "cell_type": "code",
      "metadata": {
        "id": "TMIIbh0RjvyA"
      },
      "source": [
        "import csv"
      ],
      "execution_count": 7,
      "outputs": []
    },
    {
      "cell_type": "code",
      "metadata": {
        "colab": {
          "base_uri": "https://localhost:8080/"
        },
        "id": "BXwNhCvkjvyB",
        "outputId": "a8efbee7-b1f1-4ef3-ac68-a6c25cd2dca5"
      },
      "source": [
        "with open('scrubbed.csv', 'r') as file:\n",
        "    csv_data = csv.reader(file)\n",
        "    data = list(csv_data)\n",
        "    old_d = dt.datetime.strptime(data[3][0], '%d/%m/%Y %H:%M')\n",
        "    print(old_d)\n",
        "    new_d = dt.datetime.strftime(old_d, '%B %d of %Y at %I:%M %p')\n",
        "    print(new_d)"
      ],
      "execution_count": 8,
      "outputs": [
        {
          "output_type": "stream",
          "text": [
            "1955-10-10 17:00:00\n",
            "October 10 of 1955 at 05:00 PM\n"
          ],
          "name": "stdout"
        }
      ]
    },
    {
      "cell_type": "code",
      "metadata": {
        "id": "gUiALk9QjvyC"
      },
      "source": [
        "with open('scrubbed.csv', 'r') as file:\n",
        "    csv_data = csv.reader(file)\n",
        "    data = list(csv_data)\n",
        "    for row in data:\n",
        "      if row[0][11:13] == '24':\n",
        "        row[0] = row[0][:11] + '00' + row[0][13:]\n",
        "        row[0] = row[0].strip()\n",
        "      else:\n",
        "        pass\n",
        "    for row in data:\n",
        "      try:\n",
        "        new_d = dt.datetime.strptime(row[0], '%d/%m/%Y %H:%M')\n",
        "        row[0] = dt.datetime.strftime(new_d, '%B %d of %Y at %I:%M %p')\n",
        "      except:\n",
        "        pass"
      ],
      "execution_count": 31,
      "outputs": []
    },
    {
      "cell_type": "code",
      "metadata": {
        "colab": {
          "base_uri": "https://localhost:8080/"
        },
        "id": "1O2gepf7jvyD",
        "outputId": "a68360fe-9a5f-4867-901b-e78b9dae0bf3"
      },
      "source": [
        "from datetime import timedelta\n",
        "def time24(time_str):\n",
        "  new_time_str = time_str[:11] + '00' + time_str[13:]\n",
        "  return new_time_str\n",
        "\n",
        "test_time = '10/11/2006 24:00'\n",
        "print(test_time[11:13])\n",
        "if test_time[11:13] == '24':\n",
        "  new_t = time24(test_time)\n",
        "else:\n",
        "  print(False)\n",
        "\n",
        "print(new_t)\n",
        "\n",
        "new_test_time = dt.datetime.strptime(new_t, '%d/%m/%Y %H:%M')\n",
        "# October 10 of 1949 at 08:30 PM\n",
        "time_for_print = dt.datetime.strftime(new_test_time, '%B %d of %Y at %I:%M %p')\n",
        "print(time_for_print)"
      ],
      "execution_count": 33,
      "outputs": [
        {
          "output_type": "stream",
          "text": [
            "24\n",
            "10/11/2006 00:00\n",
            "November 10 of 2006 at 12:00 AM\n"
          ],
          "name": "stdout"
        }
      ]
    },
    {
      "cell_type": "code",
      "metadata": {
        "id": "LkZ2L9jPjvyE"
      },
      "source": [
        "with open('new_format_scrubbed.csv', 'w') as f:\n",
        "    writer = csv.writer(f)\n",
        "    for row in data:\n",
        "        writer.writerow(row)"
      ],
      "execution_count": 32,
      "outputs": []
    }
  ]
}
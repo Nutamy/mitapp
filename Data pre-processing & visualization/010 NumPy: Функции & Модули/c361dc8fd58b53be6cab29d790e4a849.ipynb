{
 "cells": [
  {
   "attachments": {},
   "cell_type": "markdown",
   "metadata": {},
   "source": [
    "### NumPy: Функции & Модули [Домашнее задание]\n",
    "> **\n",
    "> **Пишите код только там, где это показано для записи. Не удаляйте комментарии!**"
   ]
  },
  {
   "cell_type": "markdown",
   "metadata": {},
   "source": [
    "1. Пожалуйста, протестируйте все функции, упомянутые в видео лекции, и постарайтесь разобраться в них. \n",
    "Некоторые функции содержат аргументы, пожалуйста, поэкспериментируйте с ними."
   ]
  },
  {
   "cell_type": "code",
   "execution_count": 1,
   "metadata": {},
   "outputs": [],
   "source": [
    "import numpy as np"
   ]
  },
  {
   "cell_type": "code",
   "execution_count": 2,
   "metadata": {},
   "outputs": [
    {
     "output_type": "stream",
     "name": "stdout",
     "text": [
      "[[0. 0. 0. 0. 0.]\n [0. 0. 0. 0. 0.]\n [0. 0. 0. 0. 0.]\n [0. 0. 0. 0. 0.]\n [0. 0. 0. 0. 0.]]\n"
     ]
    }
   ],
   "source": [
    "# numpy.zeros\n",
    "print(np.zeros((5,5)))"
   ]
  },
  {
   "cell_type": "code",
   "execution_count": 3,
   "metadata": {},
   "outputs": [
    {
     "output_type": "stream",
     "name": "stdout",
     "text": [
      "[[1. 1. 1. 1. 1. 1. 1.]\n [1. 1. 1. 1. 1. 1. 1.]\n [1. 1. 1. 1. 1. 1. 1.]\n [1. 1. 1. 1. 1. 1. 1.]\n [1. 1. 1. 1. 1. 1. 1.]\n [1. 1. 1. 1. 1. 1. 1.]\n [1. 1. 1. 1. 1. 1. 1.]]\n"
     ]
    }
   ],
   "source": [
    "# numpy.ones\n",
    "print(np.ones((7,7)))"
   ]
  },
  {
   "cell_type": "code",
   "execution_count": 6,
   "metadata": {},
   "outputs": [
    {
     "output_type": "stream",
     "name": "stdout",
     "text": [
      "[[5 5 5 5]\n [5 5 5 5]\n [5 5 5 5]\n [5 5 5 5]]\n"
     ]
    }
   ],
   "source": [
    "# numpy.full\n",
    "print(np.full((4,4),5))"
   ]
  },
  {
   "cell_type": "code",
   "execution_count": 7,
   "metadata": {},
   "outputs": [
    {
     "output_type": "stream",
     "name": "stdout",
     "text": [
      "[[1. 0. 0. 0. 0. 0.]\n [0. 1. 0. 0. 0. 0.]\n [0. 0. 1. 0. 0. 0.]\n [0. 0. 0. 1. 0. 0.]\n [0. 0. 0. 0. 1. 0.]\n [0. 0. 0. 0. 0. 1.]]\n"
     ]
    }
   ],
   "source": [
    "# numpy.eye\n",
    "print(np.eye(6))"
   ]
  },
  {
   "cell_type": "code",
   "execution_count": 19,
   "metadata": {},
   "outputs": [
    {
     "output_type": "stream",
     "name": "stdout",
     "text": [
      "[[100 115 130 145 160 175 190 205 220 235 250 265]\n [280 295 310 325 340 355 370 385 400 415 430 445]\n [460 475 490 505 520 535 550 565 580 595 610 625]\n [640 655 670 685 700 715 730 745 760 775 790 805]\n [820 835 850 865 880 895 910 925 940 955 970 985]]\n"
     ]
    }
   ],
   "source": [
    "# numpy.arange\n",
    "print(np.arange(100,1000,15).reshape(5,12))"
   ]
  },
  {
   "cell_type": "code",
   "execution_count": 20,
   "metadata": {},
   "outputs": [
    {
     "output_type": "stream",
     "name": "stdout",
     "text": [
      "[[0 0 0]\n [0 0 0]]\n"
     ]
    }
   ],
   "source": [
    "# numpy.add\n",
    "a1 = np.array([[1,3,4],[-1,2,-6]])\n",
    "a2 = np.array([[-1,-3,-4],[1,-2,6]])\n",
    "print(np.add(a1,a2))"
   ]
  },
  {
   "cell_type": "code",
   "execution_count": 21,
   "metadata": {},
   "outputs": [
    {
     "output_type": "stream",
     "name": "stdout",
     "text": [
      "[[  2   6   8]\n [ -2   4 -12]]\n"
     ]
    }
   ],
   "source": [
    "# numpy.subtract\n",
    "print(np.subtract(a1,a2))"
   ]
  },
  {
   "cell_type": "code",
   "execution_count": 25,
   "metadata": {},
   "outputs": [
    {
     "output_type": "stream",
     "name": "stdout",
     "text": [
      "[-0.98803162 -0.30481062  0.89399666]\n"
     ]
    }
   ],
   "source": [
    "# numpy.sin\n",
    "print(np.sin([30,60,90]))"
   ]
  },
  {
   "cell_type": "code",
   "execution_count": 26,
   "metadata": {},
   "outputs": [
    {
     "output_type": "stream",
     "name": "stdout",
     "text": [
      "[[ -1  -9 -16]\n [ -1  -4 -36]]\n"
     ]
    }
   ],
   "source": [
    "# numpy.multiply\n",
    "print(np.multiply(a1,a2))"
   ]
  },
  {
   "cell_type": "code",
   "execution_count": 31,
   "metadata": {},
   "outputs": [
    {
     "output_type": "stream",
     "name": "stdout",
     "text": [
      "[[ 4.  2.  3.]\n [ 5.  7. 10.]]\n"
     ]
    }
   ],
   "source": [
    "# numpy.sqrt\n",
    "b1 = np.array([[16,4,9],[25,49,100]])\n",
    "print(np.sqrt(b1))"
   ]
  },
  {
   "cell_type": "code",
   "execution_count": 33,
   "metadata": {},
   "outputs": [
    {
     "output_type": "stream",
     "name": "stdout",
     "text": [
      "[[148  67]\n [110  51]]\n"
     ]
    }
   ],
   "source": [
    "# numpy.dot\n",
    "vector_a = np.array([[9,8,7],[7,6,5]])\n",
    "vector_b = np.array([[3,5],[9,1],[7,2]])\n",
    "print(np.dot(vector_a,vector_b))"
   ]
  },
  {
   "cell_type": "code",
   "execution_count": 36,
   "metadata": {},
   "outputs": [
    {
     "output_type": "stream",
     "name": "stdout",
     "text": [
      "True\n"
     ]
    }
   ],
   "source": [
    "# numpy.sum\n",
    "print(np.sum(a1)>np.sum(a2))"
   ]
  },
  {
   "cell_type": "code",
   "execution_count": 40,
   "metadata": {},
   "outputs": [
    {
     "output_type": "stream",
     "name": "stdout",
     "text": [
      "[[[[[0 0]\n    [0 0]]\n\n   [[0 0]\n    [0 0]]]\n\n\n  [[[0 0]\n    [0 0]]\n\n   [[0 0]\n    [0 0]]]]\n\n\n\n [[[[0 0]\n    [0 0]]\n\n   [[0 0]\n    [0 0]]]\n\n\n  [[[0 0]\n    [0 0]]\n\n   [[0 0]\n    [0 0]]]]]\n"
     ]
    }
   ],
   "source": [
    "# numpy.zeros_like\n",
    "z1 = np.full((2,2,2,2,2),7)\n",
    "print(np.zeros_like(z1))"
   ]
  },
  {
   "cell_type": "code",
   "execution_count": 43,
   "metadata": {},
   "outputs": [
    {
     "output_type": "stream",
     "name": "stdout",
     "text": [
      "[[[[[ True  True]\n    [ True  True]]\n\n   [[ True  True]\n    [ True  True]]]\n\n\n  [[[ True  True]\n    [ True  True]]\n\n   [[ True  True]\n    [ True  True]]]]\n\n\n\n [[[[ True  True]\n    [ True  True]]\n\n   [[ True  True]\n    [ True  True]]]\n\n\n  [[[ True  True]\n    [ True  True]]\n\n   [[ True  True]\n    [ True  True]]]]]\n"
     ]
    }
   ],
   "source": [
    "# numpy.empty_like\n",
    "print(np.empty_like(z1)==np.zeros_like(z1))"
   ]
  },
  {
   "cell_type": "code",
   "execution_count": 45,
   "metadata": {},
   "outputs": [
    {
     "output_type": "stream",
     "name": "stdout",
     "text": [
      "[[[7 7]\n  [7 7]\n  [7 7]\n  [7 7]]\n\n [[7 7]\n  [7 7]\n  [7 7]\n  [7 7]]\n\n [[7 7]\n  [7 7]\n  [7 7]\n  [7 7]]\n\n [[7 7]\n  [7 7]\n  [7 7]\n  [7 7]]]\n"
     ]
    }
   ],
   "source": [
    "# numpy.reshape\n",
    "print(z1.reshape(4,4,2))"
   ]
  },
  {
   "cell_type": "code",
   "execution_count": 60,
   "metadata": {},
   "outputs": [
    {
     "output_type": "stream",
     "name": "stdout",
     "text": [
      "\n [[ 0  1  2  3]\n [ 4  5  6  7]\n [ 8  9 10 11]\n [12 13 14 15]\n [16 17 18 19]]\n\nIs NaN(Not a Number): \n [[False False False False]\n [False False False False]\n [False False False False]\n [False False False False]\n [False False False False]]\n"
     ]
    }
   ],
   "source": [
    "# numpy.isnan\n",
    "b = np.arange(20).reshape(5, 4)\n",
    "print(\"\\n\",b)\n",
    "print(\"\\nIs NaN(Not a Number): \\n\", np.isnan(b))"
   ]
  },
  {
   "cell_type": "markdown",
   "metadata": {},
   "source": [
    "2. Пожалуйста, протестируйте все функции модуля ```numpy.random```, упомянутые в видео лекции, и постарайтесь разобраться в них. \n",
    "Некоторые функции содержат аргументы, пожалуйста, поэкспериментируйте с ними."
   ]
  },
  {
   "cell_type": "code",
   "execution_count": 66,
   "metadata": {},
   "outputs": [
    {
     "output_type": "stream",
     "name": "stdout",
     "text": [
      "[[0.90678498 0.89689496 0.93115304]\n [0.86702276 0.09772407 0.7243549 ]]\n"
     ]
    }
   ],
   "source": [
    "# numpy.random.sample\n",
    "r = np.random.sample((2,3))\n",
    "print(r)"
   ]
  },
  {
   "cell_type": "code",
   "execution_count": 67,
   "metadata": {},
   "outputs": [
    {
     "output_type": "stream",
     "name": "stdout",
     "text": [
      "[[0.70007189 0.46923188 0.32869488 0.49641851 0.27362814]\n [0.58416321 0.04684443 0.39088813 0.3964689  0.23205456]\n [0.64888837 0.29921552 0.99316312 0.75048183 0.81799506]\n [0.67456185 0.20705313 0.62941319 0.21692764 0.17049954]]\n"
     ]
    }
   ],
   "source": [
    "# numpy.random.random\n",
    "r2 = np.random.random((4,5))\n",
    "print(r2)"
   ]
  },
  {
   "cell_type": "code",
   "execution_count": 73,
   "metadata": {},
   "outputs": [
    {
     "output_type": "stream",
     "name": "stdout",
     "text": [
      "[[[90  6 99 61]\n  [ 8 44  6 46]\n  [ 3 43 87 16]\n  [37 40  2 37]]\n\n [[60 80 81 73]\n  [ 3 38 37 82]\n  [11 75 72 10]\n  [69 37  4  7]]\n\n [[87 48 50  2]\n  [65 91 90 21]\n  [99 20 97 23]\n  [70 87 94  2]]\n\n [[11 14 18 70]\n  [ 8  8  8 12]\n  [15 85 79 50]\n  [47 27 57 37]]]\n"
     ]
    }
   ],
   "source": [
    "# numpy.random.randint\n",
    "r3 = np.random.randint(low=0, high=100, size=(4,4,4))\n",
    "print(r3)"
   ]
  },
  {
   "cell_type": "code",
   "execution_count": 75,
   "metadata": {},
   "outputs": [
    {
     "output_type": "stream",
     "name": "stdout",
     "text": [
      "[[[[ 20 -17]\n",
      "   [-55 -58]\n",
      "   [ 15   3]\n",
      "   [ 18   1]]\n",
      "\n",
      "  [[ 59  97]\n",
      "   [-19  79]\n",
      "   [ 54 -32]\n",
      "   [-76  68]]\n",
      "\n",
      "  [[ 79  45]\n",
      "   [ 64  48]\n",
      "   [  9 -15]\n",
      "   [-89 -15]]]\n",
      "\n",
      "\n",
      " [[[ 82  49]\n",
      "   [-65  25]\n",
      "   [-79  66]\n",
      "   [-83   5]]\n",
      "\n",
      "  [[ 85  82]\n",
      "   [ 80  47]\n",
      "   [ 61 -64]\n",
      "   [-29 -93]]\n",
      "\n",
      "  [[ 54   4]\n",
      "   [-11 101]\n",
      "   [-99  36]\n",
      "   [ 75  -1]]]]\n",
      "<ipython-input-75-e549fb20f7e0>:2: DeprecationWarning: This function is deprecated. Please call randint(-100, 101 + 1) instead\n",
      "  r4 = np.random.random_integers(-100, 101, (2,3,4,2))\n"
     ]
    }
   ],
   "source": [
    "# numpy.random.random_integers\n",
    "r4 = np.random.random_integers(-100, 101, (2,3,4,2))\n",
    "print(r4)"
   ]
  },
  {
   "cell_type": "code",
   "execution_count": 78,
   "metadata": {},
   "outputs": [
    {
     "output_type": "stream",
     "name": "stdout",
     "text": [
      "[5.01055683 5.24066627 2.2215395  ... 2.31945831 3.72713002 3.81481658]\n"
     ]
    }
   ],
   "source": [
    "# numpy.random.uniform\n",
    "g = np.random.uniform(2.1, 5.5, 10000)\n",
    "print(g)"
   ]
  },
  {
   "cell_type": "code",
   "execution_count": 102,
   "metadata": {},
   "outputs": [
    {
     "output_type": "stream",
     "name": "stdout",
     "text": [
      "685\n38\n169\n875\n123\n"
     ]
    }
   ],
   "source": [
    "# numpy.random.seed\n",
    "for i in range(5):\n",
    "    np.random.seed(i)\n",
    "    print(np.random.randint(1, 1000))  "
   ]
  },
  {
   "cell_type": "code",
   "execution_count": 109,
   "metadata": {},
   "outputs": [
    {
     "output_type": "stream",
     "name": "stdout",
     "text": [
      "[0 1 2 3 4 5 6 7 8 9]\n[1 6 8 7 5 3 2 4 0 9]\n"
     ]
    }
   ],
   "source": [
    "# numpy.random.shuffle\n",
    "f = np.arange(10)\n",
    "print(f)\n",
    "np.random.shuffle(f) \n",
    "print(f)"
   ]
  },
  {
   "cell_type": "code",
   "execution_count": 113,
   "metadata": {},
   "outputs": [
    {
     "output_type": "stream",
     "name": "stdout",
     "text": [
      "[2 6 3 9 5 1 0 7 4 8]\n"
     ]
    }
   ],
   "source": [
    "# numpy.random.permutation\n",
    "print(np.random.permutation(10))"
   ]
  },
  {
   "cell_type": "code",
   "execution_count": 126,
   "metadata": {},
   "outputs": [
    {
     "output_type": "stream",
     "name": "stdout",
     "text": [
      "6\n"
     ]
    }
   ],
   "source": [
    "# numpy.random.choice\n",
    "f2 = np.arange(10)\n",
    "print(np.random.choice(f2))"
   ]
  },
  {
   "cell_type": "markdown",
   "metadata": {},
   "source": [
    "# Прекрасная работа!"
   ]
  }
 ],
 "metadata": {
  "kernelspec": {
   "display_name": "Python 3",
   "language": "python",
   "name": "python3"
  },
  "language_info": {
   "codemirror_mode": {
    "name": "ipython",
    "version": 3
   },
   "file_extension": ".py",
   "mimetype": "text/x-python",
   "name": "python",
   "nbconvert_exporter": "python",
   "pygments_lexer": "ipython3",
   "version": "3.8.5"
  }
 },
 "nbformat": 4,
 "nbformat_minor": 2
}
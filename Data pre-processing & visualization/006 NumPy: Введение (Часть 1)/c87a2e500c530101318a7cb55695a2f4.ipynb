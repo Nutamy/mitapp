{
 "cells": [
  {
   "cell_type": "markdown",
   "metadata": {},
   "source": [
    "### NumPy: Введение (Часть 1) [Домашнее задание]"
   ]
  },
  {
   "cell_type": "markdown",
   "metadata": {},
   "source": [
    "### Задания:\n",
    "\n",
    "1. Установите пакет NumPy с помощью pip.\n",
    "\n",
    "2. Пожалуйста, импортируйте пакет NumPy"
   ]
  },
  {
   "cell_type": "code",
   "execution_count": 1,
   "metadata": {},
   "outputs": [
    {
     "output_type": "stream",
     "name": "stdout",
     "text": [
      "1.19.5\n"
     ]
    }
   ],
   "source": [
    "# Начало вашего кода\n",
    "import numpy as np\n",
    "# Конец вашего кода\n",
    "print(np.__version__)"
   ]
  },
  {
   "cell_type": "markdown",
   "metadata": {},
   "source": [
    "### Ожидаемый результат\n",
    "```\n",
    "1.17.4\n",
    "```"
   ]
  },
  {
   "cell_type": "markdown",
   "metadata": {},
   "source": [
    "3. Создайте одномерный numpy.ndarray even_np, в котором он содержит четные числа только от 0 до 10."
   ]
  },
  {
   "cell_type": "code",
   "execution_count": 4,
   "metadata": {},
   "outputs": [
    {
     "output_type": "stream",
     "name": "stdout",
     "text": [
      "[ 0  2  4  6  8 10]\n"
     ]
    }
   ],
   "source": [
    "# Начало вашего кода\n",
    "even = [x for x in range(0, 11, 2)]\n",
    "even_np = np.array(even)\n",
    "# Конец вашего кода\n",
    "print(even_np)"
   ]
  },
  {
   "cell_type": "markdown",
   "metadata": {},
   "source": [
    "### Ожидаемый результат\n",
    "```\n",
    "[ 0  2  4  6  8 10]\n",
    "```"
   ]
  },
  {
   "cell_type": "markdown",
   "metadata": {},
   "source": [
    "4. Пожалуйста, проверьте все важные атрибуты (упомянутые в видео-лекции) для numpy.ndarray even_np и распечатайте их."
   ]
  },
  {
   "cell_type": "code",
   "execution_count": 5,
   "metadata": {},
   "outputs": [
    {
     "output_type": "stream",
     "name": "stdout",
     "text": [
      "even_np.ndim=1\neven_np.shape=(6,)\neven_np.size=6\neven_np.dtype=int64\neven_np.T=[ 0  2  4  6  8 10]\n"
     ]
    }
   ],
   "source": [
    "# Начало вашего кода\n",
    "\n",
    "# Число осей\n",
    "print(f'even_np.ndim={even_np.ndim}')\n",
    "\n",
    "# Длина массива по каждой оси\n",
    "print(f'even_np.shape={even_np.shape}')\n",
    "\n",
    "# Кол-во элементов массива\n",
    "print(f'even_np.size={even_np.size}')\n",
    "\n",
    "# Тип элементов масива\n",
    "print(f'even_np.dtype={even_np.dtype}')\n",
    "\n",
    "# Транспонирование массива\n",
    "print(f'even_np.T={even_np.T}')\n",
    "# Конец вашего кода"
   ]
  },
  {
   "cell_type": "markdown",
   "metadata": {},
   "source": [
    "### Ожидаемый результат\n",
    "```\n",
    "1\n",
    "(6,)\n",
    "6\n",
    "int64\n",
    "[ 0  2  4  6  8 10]\n",
    "```"
   ]
  },
  {
   "cell_type": "markdown",
   "metadata": {},
   "source": [
    "5. Создайте одномерный numpy.ndarray odd_np, в котором он содержит не четные числа только от 10 до 20, и тип элементов должен быть **комплексными числами.**"
   ]
  },
  {
   "cell_type": "code",
   "execution_count": 8,
   "metadata": {},
   "outputs": [
    {
     "output_type": "stream",
     "name": "stdout",
     "text": [
      "[11.+0.j 13.+0.j 15.+0.j 17.+0.j 19.+0.j]\n"
     ]
    }
   ],
   "source": [
    "# Начало вашего кода\n",
    "odd_np = np.array([x for x in range(11, 21, 2)], dtype = np.complex) \n",
    "# Конец вашего кода\n",
    "print(odd_np)"
   ]
  },
  {
   "cell_type": "markdown",
   "metadata": {},
   "source": [
    "### Ожидаемый результат\n",
    "```\n",
    "[11.+0.j 13.+0.j 15.+0.j 17.+0.j 19.+0.j]\n",
    "```"
   ]
  },
  {
   "cell_type": "markdown",
   "metadata": {},
   "source": [
    "6. Пожалуйста, проверьте все важные атрибуты (упомянутые в видео-лекции) для numpy.ndarray odd_np и распечатайте их."
   ]
  },
  {
   "cell_type": "code",
   "execution_count": 10,
   "metadata": {},
   "outputs": [
    {
     "output_type": "stream",
     "name": "stdout",
     "text": [
      "even_np.ndim=1\neven_np.shape=(5,)\neven_np.size=5\neven_np.dtype=complex128\neven_np.T=[11.+0.j 13.+0.j 15.+0.j 17.+0.j 19.+0.j]\n"
     ]
    }
   ],
   "source": [
    "# Начало вашего кода\n",
    "# Число осей\n",
    "print(f'even_np.ndim={odd_np.ndim}')\n",
    "\n",
    "# Длина массива по каждой оси\n",
    "print(f'even_np.shape={odd_np.shape}')\n",
    "\n",
    "# Кол-во элементов массива\n",
    "print(f'even_np.size={odd_np.size}')\n",
    "\n",
    "# Тип элементов масива\n",
    "print(f'even_np.dtype={odd_np.dtype}')\n",
    "\n",
    "# Транспонирование массива\n",
    "print(f'even_np.T={odd_np.T}')\n",
    "# Конец вашего кода"
   ]
  },
  {
   "cell_type": "markdown",
   "metadata": {},
   "source": [
    "### Ожидаемый результат\n",
    "```\n",
    "1\n",
    "(5,)\n",
    "5\n",
    "complex128\n",
    "[11.+0.j 13.+0.j 15.+0.j 17.+0.j 19.+0.j]\n",
    "```"
   ]
  },
  {
   "cell_type": "markdown",
   "metadata": {},
   "source": [
    "# Прекрасная работа!"
   ]
  }
 ],
 "metadata": {
  "kernelspec": {
   "display_name": "Python 3",
   "language": "python",
   "name": "python3"
  },
  "language_info": {
   "codemirror_mode": {
    "name": "ipython",
    "version": 3
   },
   "file_extension": ".py",
   "mimetype": "text/x-python",
   "name": "python",
   "nbconvert_exporter": "python",
   "pygments_lexer": "ipython3",
   "version": "3.8.5"
  }
 },
 "nbformat": 4,
 "nbformat_minor": 2
}
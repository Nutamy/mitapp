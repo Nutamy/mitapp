{
 "cells": [
  {
   "cell_type": "markdown",
   "metadata": {},
   "source": [
    "# Проверьте и найдите все ошибки в строках кода ниже и исправьте их. \n",
    "\n",
    "\n",
    "Пожалуйста, будьте осторожны, есть не только синтаксические ошибки, но и ошибки реализации. Чтобы исправить ошибки, связанные с реализациями, внимательно проверьте **ожидаемые результаты.**.\n",
    "Некоторые из блоков кода содержат более одной ошибки, имейте это в виду.\n",
    "Запустите каждый блок кода, просмотрите сообщения об ошибках (или разницу с ожидаемыми результатами) и исправьте их (одно за другим).\n",
    "\n",
    "\n",
    "**Обратите внимание: не перезаписывайте код, просто исправьте ошибки, и коды будут работать.**"
   ]
  },
  {
   "cell_type": "code",
   "execution_count": 1,
   "metadata": {},
   "outputs": [
    {
     "output_type": "stream",
     "name": "stdout",
     "text": [
      "<module 'os' from '/home/nutamy/anaconda3/lib/python3.8/os.py'>\n"
     ]
    }
   ],
   "source": [
    "import os\n",
    "print(os)"
   ]
  },
  {
   "cell_type": "code",
   "execution_count": 2,
   "metadata": {},
   "outputs": [
    {
     "output_type": "stream",
     "name": "stdout",
     "text": [
      "['example1.csv', '2de36c2b8a0c60c069d97ae4a5475422.ipynb', 'example3.csv', 'example.csv', '825fd6024eed9df9e4f0cd47da4e6a64.ipynb']\n"
     ]
    }
   ],
   "source": [
    "print(os.listdir())"
   ]
  },
  {
   "cell_type": "code",
   "execution_count": 3,
   "metadata": {},
   "outputs": [],
   "source": [
    "import csv as c"
   ]
  },
  {
   "cell_type": "code",
   "execution_count": 4,
   "metadata": {},
   "outputs": [],
   "source": [
    "with open(\"example.csv\", 'w') as file:\n",
    "    csv_writer=c.writer(file)\n",
    "    for i in range(10):\n",
    "        csv_writer.writerow([i,i+1])\n",
    "        "
   ]
  },
  {
   "cell_type": "code",
   "execution_count": 5,
   "metadata": {},
   "outputs": [],
   "source": [
    "data_a=[1,2,3,4]\n",
    "data_b=[2,3,4,5]\n",
    "\n",
    "with open(\"example3.csv\", 'w') as file:\n",
    "    out=c.DictWriter(file,fieldnames=[\"a\",\"b\"])\n",
    "    for a,b in zip(*[data_a, data_b]):\n",
    "        out.writerow({\"a\":a, \"b\":b})"
   ]
  },
  {
   "cell_type": "code",
   "execution_count": 7,
   "metadata": {},
   "outputs": [
    {
     "output_type": "stream",
     "name": "stdout",
     "text": [
      "2020-01-01 00:00:00\nJanuary 01 Wednesday 20\n"
     ]
    }
   ],
   "source": [
    "import datetime as dt\n",
    "\n",
    "date=\"01/01/2020\"\n",
    "new_date=dt.datetime.strptime(date,\"%d/%m/%Y\")\n",
    "print(new_date)\n",
    "print(new_date.strftime(\"%B %d %A %y\"))"
   ]
  },
  {
   "cell_type": "markdown",
   "metadata": {},
   "source": [
    "# Прекрасная работа!"
   ]
  }
 ],
 "metadata": {
  "kernelspec": {
   "display_name": "Python 3",
   "language": "python",
   "name": "python3"
  },
  "language_info": {
   "codemirror_mode": {
    "name": "ipython",
    "version": 3
   },
   "file_extension": ".py",
   "mimetype": "text/x-python",
   "name": "python",
   "nbconvert_exporter": "python",
   "pygments_lexer": "ipython3",
   "version": "3.8.5"
  }
 },
 "nbformat": 4,
 "nbformat_minor": 4
}
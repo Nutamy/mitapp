{
 "cells": [
  {
   "cell_type": "markdown",
   "metadata": {},
   "source": [
    "# Проверьте и найдите все ошибки в строках кода ниже и исправьте их. \n",
    "\n",
    "\n",
    "Пожалуйста, будьте осторожны, есть не только синтаксические ошибки, но и ошибки реализации. Чтобы исправить ошибки, связанные с реализациями, внимательно проверьте **ожидаемые результаты.**.\n",
    "Некоторые из блоков кода содержат более одной ошибки, имейте это в виду.\n",
    "Запустите каждый блок кода, просмотрите сообщения об ошибках (или разницу с ожидаемыми результатами) и исправьте их (одно за другим).\n",
    "\n",
    "\n",
    "**Обратите внимание: не перезаписывайте код, просто исправьте ошибки, и коды будут работать.**"
   ]
  },
  {
   "cell_type": "code",
   "execution_count": 2,
   "metadata": {},
   "outputs": [
    {
     "name": "stdout",
     "output_type": "stream",
     "text": [
      "<module 'os' from 'C:\\\\ProgramData\\\\Anaconda3\\\\lib\\\\os.py'>\n"
     ]
    }
   ],
   "source": [
    "import os\n",
    "print(os)"
   ]
  },
  {
   "cell_type": "code",
   "execution_count": 4,
   "metadata": {},
   "outputs": [
    {
     "name": "stdout",
     "output_type": "stream",
     "text": [
      "['.ipynb_checkpoints', '07a28247efdbbb39094603a8fa0e5194.ipynb', '1032f6d31f987f94931b91e20e4eac38.ipynb', '14210f5d2ef91a9ced53d2e75eefb0c6.ipynb', '16.mp4', '16b966a897b9748eb116a6a979bd96fd.ipynb', '17.mp4', '17913717ed86d6ce99b8477bf573a6b0.ipynb', '18.mp4', '19.mp4', '1d99b8cd88215ebcdfeee954f2963fce.ipynb', '20.mp4', '2013.csv', '2014.csv', '2015.csv', '2016.csv', '2017.csv', '2018.csv', '21.mp4', '22.mp4', '23.mp4', '2de36c2b8a0c60c069d97ae4a5475422.ipynb', '315798196f9b1df69396d08c829eb06b.ipynb', '3b9718d40b0a66cd79c5ef3290468fa1.ipynb', '42 domawka.zip', '44f8ac1414912ed682cf8a50b478e0f3.ipynb', '4618a52edf20bab8b8abb6c0451d8d7d.ipynb', '4724410727d2596bac06f5b6e7677fb5.ipynb', '4a2d4ea46ce684796c28d590054e86be.ipynb', '4ff7b366ab0ed9428dd8d0d09297394c.ipynb', '507126b85301b437d465c5ad374ef432.ipynb', '55e7b0ecc22fbbd2ec50ebeda696015f.ipynb', '587bdcdbba31e8508872ab01e6c89d02.ipynb', '59755bb57520717b0b36d087f5ebd3c1.ipynb', '61aa8f3a46b00155fb2e0aeb0084bf6f.ipynb', '6b6286bff4799e339e1a81098565722f.ipynb', '6e7f07ec62ec5b2ef289665b87a9f9cf.ipynb', '6fa5b3b33f236457a2eeb9a64a8586a5.ipynb', '71348286ff2c6e7863b118d110dd532d.ipynb', '8553a045000b5266134706c7e66b49d0.ipynb', '8920c76519034a47e036850c2299ef57.ipynb', '99ba73becca4c6d3260f2234e43e666f.ipynb', 'annual-enterprise-survey-2018-financial-year-provisional-csv.csv', 'arithmetics.ipynb', 'arithmetics.py', 'b79f8cc7a61c75e511e170ac4e6ca5ce.ipynb', 'c019b88aa8aee44dc456eaa8e51661dc.ipynb', 'c81a4f60abb557bc0c02814fc7a7c123 (1).ipynb', 'c81a4f60abb557bc0c02814fc7a7c123.ipynb', 'c9d1430161ded7b829a928615d74f608.ipynb', 'cc6edc9180f7d3085611dc7625e63229.ipynb', 'class saltanatbot 1.6 my - bswap.csv', 'cleaned_synthetic_data.csv', 'cube.py', 'd0567ea40f5e618b90f0571ab5bfe68e.ipynb', 'd34925fe6d653a79014da7939624fbb9.ipynb', 'db3c29a35ea239c45333bd5c39e705a3.ipynb', 'desktop.ini', 'e038f60e5b3393aee5af79928820491c.ipynb', 'e0850a2395adf930b599af9a985d4a83.ipynb', 'e4470852fb7ddd3e00a7034607e4527b.ipynb', 'e890420a2b5bacf86b8881a5ac66d762.ipynb', 'education', 'f107e1e698b099e0e7d07fb2b3ad07de.ipynb', 'f2463851dc88c573cfc7aab233d9ef1d.ipynb', 'ff0e60c852b418e9776aa2d55ea4a93c.ipynb', 'figures.csv', 'files', 'filesfile_with_metaphor.txt', 'format_scrubbed.csv', 'geom.py', 'names.csv', 'newbest.csv', 'new_file.txt', 'PUBG-Lite-Setup.exe', 'rec.py', 'report', 'reportfile_with_metaphor.csv', 'scrubbed.csv', 'squ.py', 'synthetic_data.csv', 'Telegram Desktop', 'test', '[Программа] BlueStacks App Player 0.9.34.4500 0.9.34.4500 Mod (Android [Лицензия, RUS + ENG] [rutracker-5050201].torrent', '_2147405348.mp4', '_2147405407.mp4', '_2147405468.mp4', '_2147405554.mp4', '_2147405802.mp4', '_2147405803.mp4', '_2147405883.mp4', '_2147405948.mp4', '_2147417185 (1).mp4', '_2147417260.mp4', '__pycache__', 'домашка 41 урок .zip', 'домашка.7z']\n"
     ]
    }
   ],
   "source": [
    "print(os.listdir())"
   ]
  },
  {
   "cell_type": "code",
   "execution_count": 2,
   "metadata": {},
   "outputs": [],
   "source": [
    "import csv"
   ]
  },
  {
   "cell_type": "code",
   "execution_count": 9,
   "metadata": {},
   "outputs": [],
   "source": [
    "with open(\"example.csv\",\"w\") as file:\n",
    "    csv_writer=csv.writer(file)\n",
    "    for i in range(10):\n",
    "        csv_writer.writerow([i,i+1])\n",
    "        "
   ]
  },
  {
   "cell_type": "code",
   "execution_count": 3,
   "metadata": {},
   "outputs": [],
   "source": [
    "data_a=[1,2,3,4]\n",
    "data_b=[2,3,4,5]\n",
    "\n",
    "with open(\"example1.csv\",\"w\", newline='') as file:\n",
    "    out=csv.DictWriter(file,fieldnames=[\"a\",\"b\"])\n",
    "    for idx in range(len(data_a)):\n",
    "        a=data_a[idx]\n",
    "        b=data_b[idx]\n",
    "        out.writerow({\"a\":a,\"b\":b})"
   ]
  },
  {
   "cell_type": "code",
   "execution_count": 7,
   "metadata": {},
   "outputs": [
    {
     "output_type": "stream",
     "name": "stdout",
     "text": [
      "a=1\nb=2\na=1\nb=3\na=1\nb=4\na=1\nb=5\na=2\nb=2\na=2\nb=3\na=2\nb=4\na=2\nb=5\na=3\nb=2\na=3\nb=3\na=3\nb=4\na=3\nb=5\na=4\nb=2\na=4\nb=3\na=4\nb=4\na=4\nb=5\n"
     ]
    }
   ],
   "source": [
    "data_a=[1,2,3,4]\n",
    "data_b=[2,3,4,5]\n",
    "\n",
    "for a in data_a:\n",
    "    for b in data_b:\n",
    "        print(f'a={a}')\n",
    "        print(f'b={b}')"
   ]
  },
  {
   "cell_type": "code",
   "execution_count": 22,
   "metadata": {},
   "outputs": [
    {
     "name": "stdout",
     "output_type": "stream",
     "text": [
      "2020-01-01 00:00:00\n",
      "January 01 Wednesday 20\n"
     ]
    }
   ],
   "source": [
    "import datetime as dt\n",
    "\n",
    "date=\"01/01/2020\"\n",
    "new_date=dt.datetime.strptime(date,\"%d/%m/%Y\")\n",
    "print(new_date)\n",
    "print(new_date.strftime(\"%B %d %A %y\"))"
   ]
  },
  {
   "cell_type": "markdown",
   "metadata": {},
   "source": [
    "# Прекрасная работа!"
   ]
  }
 ],
 "metadata": {
  "kernelspec": {
   "display_name": "Python 3",
   "language": "python",
   "name": "python3"
  },
  "language_info": {
   "codemirror_mode": {
    "name": "ipython",
    "version": 3
   },
   "file_extension": ".py",
   "mimetype": "text/x-python",
   "name": "python",
   "nbconvert_exporter": "python",
   "pygments_lexer": "ipython3",
   "version": "3.8.5"
  }
 },
 "nbformat": 4,
 "nbformat_minor": 4
}
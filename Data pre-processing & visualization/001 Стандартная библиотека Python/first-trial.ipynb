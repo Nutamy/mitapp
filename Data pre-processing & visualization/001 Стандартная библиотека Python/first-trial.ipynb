{
 "cells": [
  {
   "cell_type": "markdown",
   "metadata": {},
   "source": [
    "### Стандартная библиотека Python [Домашнее задание]"
   ]
  },
  {
   "cell_type": "markdown",
   "metadata": {},
   "source": [
    "Пожалуйста, используйте все функции модулей os, os.path, csv и datetime, приведенные в файле PDF. Постарайтесь понять все функции."
   ]
  },
  {
   "cell_type": "code",
   "execution_count": 3,
   "metadata": {},
   "outputs": [
    {
     "output_type": "execute_result",
     "data": {
      "text/plain": [
       "'/home/nutamy/Документы/PythonNutamy/Mitapp/Data pre-processing & visualization/001 Стандартная библиотека Python'"
      ]
     },
     "metadata": {},
     "execution_count": 3
    }
   ],
   "source": [
    "import os\n",
    "os.getcwd()"
   ]
  },
  {
   "cell_type": "code",
   "execution_count": 4,
   "metadata": {},
   "outputs": [],
   "source": [
    "os.mkdir('./test')"
   ]
  },
  {
   "cell_type": "code",
   "execution_count": 5,
   "metadata": {},
   "outputs": [
    {
     "output_type": "execute_result",
     "data": {
      "text/plain": [
       "['test', 'stdlib.pdf', 'first-trial.ipynb']"
      ]
     },
     "metadata": {},
     "execution_count": 5
    }
   ],
   "source": [
    "os.listdir(path='.')"
   ]
  },
  {
   "cell_type": "code",
   "execution_count": 6,
   "metadata": {},
   "outputs": [
    {
     "output_type": "stream",
     "name": "stdout",
     "text": [
      "posix\n"
     ]
    }
   ],
   "source": [
    "print(os.name)"
   ]
  },
  {
   "cell_type": "code",
   "execution_count": 7,
   "metadata": {},
   "outputs": [],
   "source": [
    "os.chdir(path='./test')"
   ]
  },
  {
   "cell_type": "code",
   "execution_count": 8,
   "metadata": {},
   "outputs": [
    {
     "output_type": "execute_result",
     "data": {
      "text/plain": [
       "'/home/nutamy/Документы/PythonNutamy/Mitapp/Data pre-processing & visualization/001 Стандартная библиотека Python/test'"
      ]
     },
     "metadata": {},
     "execution_count": 8
    }
   ],
   "source": [
    "os.getcwd()"
   ]
  },
  {
   "cell_type": "code",
   "execution_count": 9,
   "metadata": {},
   "outputs": [],
   "source": [
    "os.mkdir('./intest')"
   ]
  },
  {
   "cell_type": "code",
   "execution_count": 10,
   "metadata": {},
   "outputs": [
    {
     "output_type": "execute_result",
     "data": {
      "text/plain": [
       "'/home/nutamy/Документы/PythonNutamy/Mitapp/Data pre-processing & visualization/001 Стандартная библиотека Python/test'"
      ]
     },
     "metadata": {},
     "execution_count": 10
    }
   ],
   "source": [
    "os.getcwd()"
   ]
  },
  {
   "cell_type": "code",
   "execution_count": 11,
   "metadata": {},
   "outputs": [
    {
     "output_type": "execute_result",
     "data": {
      "text/plain": [
       "['intest']"
      ]
     },
     "metadata": {},
     "execution_count": 11
    }
   ],
   "source": [
    "os.listdir('.')"
   ]
  },
  {
   "cell_type": "code",
   "execution_count": 12,
   "metadata": {},
   "outputs": [],
   "source": [
    "os.mkdir('./new1')"
   ]
  },
  {
   "cell_type": "code",
   "execution_count": 13,
   "metadata": {},
   "outputs": [],
   "source": [
    "os.rename('./new1', './new2')"
   ]
  },
  {
   "cell_type": "code",
   "execution_count": 14,
   "metadata": {},
   "outputs": [],
   "source": [
    "os.chdir('./new2')"
   ]
  },
  {
   "cell_type": "code",
   "execution_count": 15,
   "metadata": {},
   "outputs": [
    {
     "output_type": "execute_result",
     "data": {
      "text/plain": [
       "'/home/nutamy/Документы/PythonNutamy/Mitapp/Data pre-processing & visualization/001 Стандартная библиотека Python/test/new2'"
      ]
     },
     "metadata": {},
     "execution_count": 15
    }
   ],
   "source": [
    "os.getcwd()"
   ]
  },
  {
   "cell_type": "code",
   "execution_count": 16,
   "metadata": {},
   "outputs": [
    {
     "output_type": "execute_result",
     "data": {
      "text/plain": [
       "[]"
      ]
     },
     "metadata": {},
     "execution_count": 16
    }
   ],
   "source": [
    "os.listdir('.')"
   ]
  },
  {
   "cell_type": "code",
   "execution_count": 17,
   "metadata": {},
   "outputs": [],
   "source": [
    "os.mkdir('./name')"
   ]
  },
  {
   "cell_type": "code",
   "execution_count": 18,
   "metadata": {},
   "outputs": [],
   "source": [
    "os.rename('./name', 'rename')"
   ]
  },
  {
   "cell_type": "code",
   "execution_count": 19,
   "metadata": {},
   "outputs": [
    {
     "output_type": "execute_result",
     "data": {
      "text/plain": [
       "['rename']"
      ]
     },
     "metadata": {},
     "execution_count": 19
    }
   ],
   "source": [
    "os.listdir('.')"
   ]
  },
  {
   "cell_type": "code",
   "execution_count": 20,
   "metadata": {},
   "outputs": [],
   "source": [
    "import os.path"
   ]
  },
  {
   "cell_type": "code",
   "execution_count": 21,
   "metadata": {},
   "outputs": [
    {
     "output_type": "execute_result",
     "data": {
      "text/plain": [
       "'new2'"
      ]
     },
     "metadata": {},
     "execution_count": 21
    }
   ],
   "source": [
    "path = os.getcwd()\n",
    "os.path.basename(path)"
   ]
  },
  {
   "cell_type": "code",
   "execution_count": 22,
   "metadata": {},
   "outputs": [
    {
     "output_type": "execute_result",
     "data": {
      "text/plain": [
       "'/home/nutamy'"
      ]
     },
     "metadata": {},
     "execution_count": 22
    }
   ],
   "source": [
    "\n",
    "os.path.commonpath(['/home/nutamy/Документы/PythonNutamy/Mitapp/Data pre-processing & visualization/001 Стандартная библиотека Python/test/test', '/home/nutamy/'])"
   ]
  },
  {
   "cell_type": "code",
   "execution_count": 23,
   "metadata": {},
   "outputs": [],
   "source": [
    "my_path = os.getcwd()"
   ]
  },
  {
   "cell_type": "code",
   "execution_count": 24,
   "metadata": {},
   "outputs": [
    {
     "output_type": "stream",
     "name": "stdout",
     "text": [
      "/home/nutamy/Документы/PythonNutamy/Mitapp/Data pre-processing & visualization/001 Стандартная библиотека Python/test/new2\n"
     ]
    }
   ],
   "source": [
    "print(my_path)"
   ]
  },
  {
   "cell_type": "code",
   "execution_count": 25,
   "metadata": {},
   "outputs": [
    {
     "output_type": "stream",
     "name": "stdout",
     "text": [
      "<class 'str'>\n"
     ]
    }
   ],
   "source": [
    "print(type(my_path))"
   ]
  },
  {
   "cell_type": "code",
   "execution_count": 26,
   "metadata": {},
   "outputs": [],
   "source": [
    "import os.path"
   ]
  },
  {
   "cell_type": "code",
   "execution_count": 27,
   "metadata": {},
   "outputs": [
    {
     "output_type": "execute_result",
     "data": {
      "text/plain": [
       "'new2'"
      ]
     },
     "metadata": {},
     "execution_count": 27
    }
   ],
   "source": [
    "os.path.basename(my_path)"
   ]
  },
  {
   "cell_type": "code",
   "execution_count": 28,
   "metadata": {},
   "outputs": [
    {
     "output_type": "execute_result",
     "data": {
      "text/plain": [
       "'/home/nutamy/Документы/PythonNutamy/Mitapp/Data pre-processing & visualization/001 Стандартная библиотека Python/test'"
      ]
     },
     "metadata": {},
     "execution_count": 28
    }
   ],
   "source": [
    "os.path.dirname(my_path)"
   ]
  },
  {
   "cell_type": "code",
   "execution_count": 29,
   "metadata": {},
   "outputs": [
    {
     "output_type": "execute_result",
     "data": {
      "text/plain": [
       "True"
      ]
     },
     "metadata": {},
     "execution_count": 29
    }
   ],
   "source": [
    "os.path.exists(my_path)"
   ]
  },
  {
   "cell_type": "code",
   "execution_count": 44,
   "metadata": {},
   "outputs": [
    {
     "output_type": "stream",
     "name": "stdout",
     "text": [
      "/home/User\n"
     ]
    }
   ],
   "source": [
    "path = '/home/User/Documents'\n",
    "dirname = os.path.dirname(path)\n",
    "print(dirname)"
   ]
  },
  {
   "cell_type": "code",
   "execution_count": 45,
   "metadata": {},
   "outputs": [
    {
     "output_type": "stream",
     "name": "stdout",
     "text": [
      "/home/User/Desktop/file.txt\n"
     ]
    }
   ],
   "source": [
    "path = \"/home\"\n",
    "print(os.path.join(path, \"User/Desktop\", \"file.txt\"))"
   ]
  },
  {
   "cell_type": "code",
   "execution_count": 46,
   "metadata": {},
   "outputs": [
    {
     "output_type": "stream",
     "name": "stdout",
     "text": [
      "/home/Documents\n"
     ]
    }
   ],
   "source": [
    "path = '/home/./Documents'\n",
    "norm_path = os.path.normpath(path)\n",
    "\n",
    "print(norm_path)"
   ]
  },
  {
   "cell_type": "code",
   "execution_count": 30,
   "metadata": {},
   "outputs": [
    {
     "output_type": "stream",
     "name": "stdout",
     "text": [
      "['test', 'stdlib.pdf', 'first-trial.ipynb']\n"
     ]
    }
   ],
   "source": [
    "import csv\n",
    "os.chdir('../../')\n",
    "os.getcwd()\n",
    "print(os.listdir())"
   ]
  },
  {
   "cell_type": "code",
   "execution_count": 47,
   "metadata": {},
   "outputs": [],
   "source": [
    "with open('./Harvard_students.csv', 'r') as file:\n",
    "    csv_data = csv.reader(file)\n",
    "    data = list(csv_data)"
   ]
  },
  {
   "cell_type": "code",
   "execution_count": 48,
   "metadata": {},
   "outputs": [
    {
     "output_type": "stream",
     "name": "stdout",
     "text": [
      "[['Liam', 'Martin', '22', 'male', 'Spanish', 'Harvard', 'Data Science'], ['William', 'Bernard', '20', 'male', 'Czech', 'Harvard', 'Data Science'], ['Elli', 'Dubois', '19', 'female', 'Spanish', 'Harvard', 'Data Science'], ['Lucas', 'Thomas', '22', 'male', 'Czech', 'Harvard', 'Data Science'], ['Ezra', 'Robert', '21', 'female', 'Slovak', 'Harvard', 'Economics'], ['Michael', 'Richard', '30', 'male', 'Danish', 'Harvard', 'Economics'], ['Daniela', 'Petit', '18', 'female', 'Spanish', 'Harvard', 'History'], ['Logan', 'Scott', '19', 'male', 'Spanish', 'Harvard', 'History'], ['Jackson', 'Shala', '20', 'male', 'Danish', 'Harvard', 'History'], ['Levi', 'Bekim', '21', 'female', 'Slovak', 'Harvard', 'History'], ['Sam', 'Smith', '22', 'male', 'USA', 'Harvard', 'Data Science']]\n"
     ]
    }
   ],
   "source": [
    "print(data)"
   ]
  },
  {
   "cell_type": "code",
   "execution_count": 49,
   "metadata": {},
   "outputs": [
    {
     "output_type": "stream",
     "name": "stdout",
     "text": [
      "['Liam', 'Martin', '22', 'male', 'Spanish', 'Harvard', 'Data Science']\n['William', 'Bernard', '20', 'male', 'Czech', 'Harvard', 'Data Science']\n['Elli', 'Dubois', '19', 'female', 'Spanish', 'Harvard', 'Data Science']\n['Lucas', 'Thomas', '22', 'male', 'Czech', 'Harvard', 'Data Science']\n['Ezra', 'Robert', '21', 'female', 'Slovak', 'Harvard', 'Economics']\n['Michael', 'Richard', '30', 'male', 'Danish', 'Harvard', 'Economics']\n['Daniela', 'Petit', '18', 'female', 'Spanish', 'Harvard', 'History']\n['Logan', 'Scott', '19', 'male', 'Spanish', 'Harvard', 'History']\n['Jackson', 'Shala', '20', 'male', 'Danish', 'Harvard', 'History']\n['Levi', 'Bekim', '21', 'female', 'Slovak', 'Harvard', 'History']\n['Sam', 'Smith', '22', 'male', 'USA', 'Harvard', 'Data Science']\n"
     ]
    }
   ],
   "source": [
    "for row in data:\n",
    "    print(row)"
   ]
  },
  {
   "cell_type": "code",
   "execution_count": 37,
   "metadata": {},
   "outputs": [],
   "source": [
    "import datetime"
   ]
  },
  {
   "cell_type": "code",
   "execution_count": 39,
   "metadata": {},
   "outputs": [
    {
     "output_type": "stream",
     "name": "stdout",
     "text": [
      "1\n9999\n"
     ]
    }
   ],
   "source": [
    "print(datetime.MINYEAR)\n",
    "print(datetime.MAXYEAR)"
   ]
  },
  {
   "cell_type": "code",
   "execution_count": 41,
   "metadata": {},
   "outputs": [
    {
     "output_type": "stream",
     "name": "stdout",
     "text": [
      "23:56:45\n"
     ]
    }
   ],
   "source": [
    "print(datetime.time(hour=23, minute=56, second=45))"
   ]
  },
  {
   "cell_type": "code",
   "execution_count": 42,
   "metadata": {},
   "outputs": [],
   "source": [
    "time = datetime.datetime(2021, 1, 14, hour=9, minute =7, second =10)"
   ]
  },
  {
   "cell_type": "code",
   "execution_count": 43,
   "metadata": {},
   "outputs": [
    {
     "output_type": "stream",
     "name": "stdout",
     "text": [
      "2021-01-14 09:07:10\n"
     ]
    }
   ],
   "source": [
    "print(time)"
   ]
  },
  {
   "cell_type": "code",
   "execution_count": null,
   "metadata": {},
   "outputs": [],
   "source": []
  }
 ],
 "metadata": {
  "kernelspec": {
   "display_name": "Python 3",
   "language": "python",
   "name": "python3"
  },
  "language_info": {
   "codemirror_mode": {
    "name": "ipython",
    "version": 3
   },
   "file_extension": ".py",
   "mimetype": "text/x-python",
   "name": "python",
   "nbconvert_exporter": "python",
   "pygments_lexer": "ipython3",
   "version": "3.8.5"
  }
 },
 "nbformat": 4,
 "nbformat_minor": 2
}
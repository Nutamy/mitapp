{
  "nbformat": 4,
  "nbformat_minor": 0,
  "metadata": {
    "kernelspec": {
      "display_name": "Python 3",
      "language": "python",
      "name": "python3"
    },
    "language_info": {
      "codemirror_mode": {
        "name": "ipython",
        "version": 3
      },
      "file_extension": ".py",
      "mimetype": "text/x-python",
      "name": "python",
      "nbconvert_exporter": "python",
      "pygments_lexer": "ipython3",
      "version": "3.6.10"
    },
    "colab": {
      "name": "pandas Series vs DataFram.ipynb.ipynb",
      "provenance": [],
      "collapsed_sections": []
    }
  },
  "cells": [
    {
      "cell_type": "markdown",
      "metadata": {
        "id": "tACFZR6tirsr"
      },
      "source": [
        "### pandas: Series vs DataFrame [Домашнее задание]\n",
        "> **Вы должны импортировать все необходимые пакеты самостоятельно.**\n",
        "\n",
        "> **Пишите код только там, где это показано для записи. Не удаляйте комментарии!**\n",
        " "
      ]
    },
    {
      "cell_type": "markdown",
      "metadata": {
        "id": "9_dLCo6Uirsu"
      },
      "source": [
        "1. Пожалуйста, напишите функцию ```load_data(filename)```, которая будет загружать данные из csv-файла в ```DataFrame```. Файл ```Social_Network_Ads.csv``` предоставлен вместе с этим jupyter notebook.\n",
        "\n",
        "\n",
        "**Примечание:**\n",
        "\n",
        "* В случае, если имя файла задано неверно, функция ```load_data``` должна вывести следующее сообщение об ошибке:\n",
        "\n",
        "```{имя файла} does not exist```"
      ]
    },
    {
      "cell_type": "code",
      "metadata": {
        "id": "0RCt3hTXirsw"
      },
      "source": [
        "#Начало вашего кода\n",
        "import numpy as np\n",
        "import pandas as pd\n",
        "\n",
        "def load_data(filename):\n",
        "    header = None\n",
        "    data = None\n",
        "    try:\n",
        "        with open(filename) as csvfile:\n",
        "            df = pd.read_csv(csvfile)\n",
        "            return df.columns.to_list(), df\n",
        "    except:\n",
        "        print(\"{} does not exist!\".format(filename))\n",
        "        return header, data\n",
        "#Конец вашего кода"
      ],
      "execution_count": null,
      "outputs": []
    },
    {
      "cell_type": "code",
      "metadata": {
        "colab": {
          "base_uri": "https://localhost:8080/"
        },
        "id": "G6QTTZJ3irsx",
        "outputId": "1d7406d7-c28f-4578-c247-f6d8587806f0"
      },
      "source": [
        "filename = \"./SocialNetworkAds.csv\"\n",
        "header, data = load_data(filename=filename)"
      ],
      "execution_count": null,
      "outputs": [
        {
          "output_type": "stream",
          "text": [
            "./SocialNetworkAds.csv does not exist!\n"
          ],
          "name": "stdout"
        }
      ]
    },
    {
      "cell_type": "markdown",
      "metadata": {
        "id": "tgLYDI7eirsz"
      },
      "source": [
        "### Ожидаемый результат:\n",
        "\n",
        "```\n",
        "./SocialNetworkAds.csv does not exist\n",
        "```"
      ]
    },
    {
      "cell_type": "code",
      "metadata": {
        "colab": {
          "base_uri": "https://localhost:8080/"
        },
        "id": "jGHVp0mcirs0",
        "outputId": "3d1c15ad-ed7e-4bc3-c8fc-a83e5675fd95"
      },
      "source": [
        "print(header)\n",
        "print(data)"
      ],
      "execution_count": null,
      "outputs": [
        {
          "output_type": "stream",
          "text": [
            "None\n",
            "None\n"
          ],
          "name": "stdout"
        }
      ]
    },
    {
      "cell_type": "markdown",
      "metadata": {
        "id": "i2T2ITjDirs1"
      },
      "source": [
        "### Ожидаемый результат:\n",
        "\n",
        "```\n",
        "None\n",
        "None\n",
        "```"
      ]
    },
    {
      "cell_type": "code",
      "metadata": {
        "id": "XPhdmbPHirs2"
      },
      "source": [
        "filename = \"./Social_Network_Ads.csv\"\n",
        "header, data = load_data(filename=filename)"
      ],
      "execution_count": null,
      "outputs": []
    },
    {
      "cell_type": "code",
      "metadata": {
        "colab": {
          "base_uri": "https://localhost:8080/"
        },
        "id": "SFBN7NEhirs2",
        "outputId": "7dba7e2f-077d-45d9-8d9e-c3fd351f3add"
      },
      "source": [
        "print(header)"
      ],
      "execution_count": null,
      "outputs": [
        {
          "output_type": "stream",
          "text": [
            "['User ID', 'Gender', 'Age', 'EstimatedSalary', 'Purchased']\n"
          ],
          "name": "stdout"
        }
      ]
    },
    {
      "cell_type": "markdown",
      "metadata": {
        "id": "za26FzVHirs3"
      },
      "source": [
        "### Ожидаемый результат:\n",
        "\n",
        "```\n",
        "['User ID', 'Gender', 'Age', 'EstimatedSalary', 'Purchased']\n",
        "```"
      ]
    },
    {
      "cell_type": "markdown",
      "metadata": {
        "id": "jPB02xqHirs3"
      },
      "source": [
        "**Распечатайте первые и последние 5 строк pandas.DataFrame:**"
      ]
    },
    {
      "cell_type": "code",
      "metadata": {
        "colab": {
          "base_uri": "https://localhost:8080/"
        },
        "id": "GP1i-c8Rirs4",
        "outputId": "2536b77c-361c-4f7a-f86a-2b6b71ebc9d1"
      },
      "source": [
        "#Начало вашего кода\n",
        "print(data[:5])\n",
        "print(data[-5:])\n",
        "#Конец вашего кода"
      ],
      "execution_count": null,
      "outputs": [
        {
          "output_type": "stream",
          "text": [
            "    User ID  Gender  Age  EstimatedSalary  Purchased\n",
            "0  15624510    Male   19            19000          0\n",
            "1  15810944    Male   35            20000          0\n",
            "2  15668575  Female   26            43000          0\n",
            "3  15603246  Female   27            57000          0\n",
            "4  15804002    Male   19            76000          0\n",
            "      User ID  Gender  Age  EstimatedSalary  Purchased\n",
            "395  15691863  Female   46            41000          1\n",
            "396  15706071    Male   51            23000          1\n",
            "397  15654296  Female   50            20000          1\n",
            "398  15755018    Male   36            33000          0\n",
            "399  15594041  Female   49            36000          1\n"
          ],
          "name": "stdout"
        }
      ]
    },
    {
      "cell_type": "markdown",
      "metadata": {
        "id": "NB6y9eOEirs4"
      },
      "source": [
        "### Ожидаемый результат:\n",
        "\n",
        "```\n",
        "User ID  Gender  Age  EstimatedSalary  Purchased\n",
        "0  15624510    Male   19            19000          0\n",
        "1  15810944    Male   35            20000          0\n",
        "2  15668575  Female   26            43000          0\n",
        "3  15603246  Female   27            57000          0\n",
        "4  15804002    Male   19            76000          0\n",
        "      User ID  Gender  Age  EstimatedSalary  Purchased\n",
        "395  15691863  Female   46            41000          1\n",
        "396  15706071    Male   51            23000          1\n",
        "397  15654296  Female   50            20000          1\n",
        "398  15755018    Male   36            33000          0\n",
        "399  15594041  Female   49            36000          1\n",
        "```"
      ]
    },
    {
      "cell_type": "markdown",
      "metadata": {
        "id": "Y3JJp92Mirs5"
      },
      "source": [
        "2. Пожалуйста, реализуйте функцию ```frequency(data,columns)```, которая делает то же самое, что и ```pandas.Series.value_counts()```, за исключением того, что не использует сам этот метод, для всех существующих имен столбцов, указанных во входном аргументе. Входные аргументы:\n",
        "    * ```data``` должен быть типа pandas.DataFrame\n",
        "    * ```columns``` должен быть списком список с именами целевых столбцов\n",
        "\n",
        "Кроме того, \n",
        "* если ```data``` не предоставлены, функция должна вернуть сообщение об ошибке.\n",
        "* если ```columns``` не предоставлен, функция выполняет операцию для всех столбцов ```data```.\n"
      ]
    },
    {
      "cell_type": "code",
      "metadata": {
        "id": "UrZmzXzhirs5"
      },
      "source": [
        "#Функция считает количество значений\n",
        "def frequency(data=None,columns=data.columns.to_list()):\n",
        "#Функция подсчета по столбцам\n",
        "  if type(data)==type(pd.DataFrame()):\n",
        "    if type(columns) == type(['list']):\n",
        "      pass\n",
        "    else:\n",
        "      columns=data.columns.to_list()\n",
        "    dict_fin = {}\n",
        "    # Берём название одного столбца\n",
        "    for i in columns:\n",
        "      unic = []\n",
        "      loc_dict = {}\n",
        "      # Если такой столбец есть\n",
        "      if i in data.columns.to_list():\n",
        "        data_f = data[i].to_list()\n",
        "        # Выбираем все уникальные значения\n",
        "        for j in data_f:\n",
        "          if j not in unic:\n",
        "            unic.append(j)\n",
        "        # Заполняем словарь ключами из уникальных значений\n",
        "        for k in unic:\n",
        "          loc_dict[k]=0\n",
        "        # Считаем сколько в столбце каждого уникального значения\n",
        "        for h in unic:\n",
        "          for q in data_f:\n",
        "            if h==q:\n",
        "              loc_dict[h]+=1\n",
        "      # Создаём в общем словаре ключ с именем столбца и присваеваем ему значение словаря с посчитаными уникальными значениями\n",
        "      dict_fin[i]=pd.Series(loc_dict)\n",
        "    return dict_fin\n",
        "  else:\n",
        "    return \"Error: input arguments are not provided properly frequency(data, columns)\"\n",
        "#Конец вашего кода"
      ],
      "execution_count": null,
      "outputs": []
    },
    {
      "cell_type": "code",
      "metadata": {
        "id": "-vnw_ptlirs6",
        "colab": {
          "base_uri": "https://localhost:8080/"
        },
        "outputId": "e241f5cb-95f4-4ca5-a7a2-cc76ee99f739"
      },
      "source": [
        "res=frequency(columns=[\"Gender\",\"EstimatedSalary\"])\n",
        "print(res)"
      ],
      "execution_count": null,
      "outputs": [
        {
          "output_type": "stream",
          "text": [
            "Error: input arguments are not provided properly frequency(data, columns)\n"
          ],
          "name": "stdout"
        }
      ]
    },
    {
      "cell_type": "markdown",
      "metadata": {
        "id": "EE7FATktirs6"
      },
      "source": [
        "### Ожидаемый результат:\n",
        "\n",
        "```\n",
        "Error: input arguments are not provided properly frequency(data, columns)\n",
        "```"
      ]
    },
    {
      "cell_type": "code",
      "metadata": {
        "id": "qDDrMxpdirs7",
        "colab": {
          "base_uri": "https://localhost:8080/"
        },
        "outputId": "d71c50f3-0c00-4274-804f-d21eb2739c26"
      },
      "source": [
        "res=frequency(data=data,columns=[\"Gender\",\"EstimatedSalary\"])\n",
        "for key, sr in res.items():\n",
        "    print(f\"Value counts for {key} column:\")\n",
        "    print(sr)\n",
        "    print(\"-----------\")"
      ],
      "execution_count": null,
      "outputs": [
        {
          "output_type": "stream",
          "text": [
            "Value counts for Gender column:\n",
            "Male      196\n",
            "Female    204\n",
            "dtype: int64\n",
            "-----------\n",
            "Value counts for EstimatedSalary column:\n",
            "19000     2\n",
            "20000     5\n",
            "43000     7\n",
            "57000     6\n",
            "76000     3\n",
            "         ..\n",
            "99000     1\n",
            "129000    1\n",
            "46000     1\n",
            "64000     1\n",
            "139000    1\n",
            "Length: 117, dtype: int64\n",
            "-----------\n"
          ],
          "name": "stdout"
        }
      ]
    },
    {
      "cell_type": "markdown",
      "metadata": {
        "id": "iwCifREairs8"
      },
      "source": [
        "### Ожидаемый результат:\n",
        "\n",
        "```\n",
        "Value counts for Gender column:\n",
        "Male      196\n",
        "Female    204\n",
        "dtype: int64\n",
        "-----------\n",
        "Value counts for EstimatedSalary column:\n",
        "19000     2\n",
        "20000     5\n",
        "43000     7\n",
        "57000     6\n",
        "76000     3\n",
        "         ..\n",
        "99000     1\n",
        "129000    1\n",
        "46000     1\n",
        "64000     1\n",
        "139000    1\n",
        "Length: 117, dtype: int64\n",
        "-----------\n",
        "```"
      ]
    },
    {
      "cell_type": "code",
      "metadata": {
        "id": "O8jLxQGrirs9",
        "colab": {
          "base_uri": "https://localhost:8080/"
        },
        "outputId": "8660979a-4d91-4f90-9e75-1326ea1bb473"
      },
      "source": [
        "res=frequency(data=data)\n",
        "for key, sr in res.items():\n",
        "    print(f\"Value counts for {key} column:\")\n",
        "    print(sr)\n",
        "    print(\"-----------\")"
      ],
      "execution_count": null,
      "outputs": [
        {
          "output_type": "stream",
          "text": [
            "Value counts for User ID column:\n",
            "15624510    1\n",
            "15810944    1\n",
            "15668575    1\n",
            "15603246    1\n",
            "15804002    1\n",
            "           ..\n",
            "15691863    1\n",
            "15706071    1\n",
            "15654296    1\n",
            "15755018    1\n",
            "15594041    1\n",
            "Length: 400, dtype: int64\n",
            "-----------\n",
            "Value counts for Gender column:\n",
            "Male      196\n",
            "Female    204\n",
            "dtype: int64\n",
            "-----------\n",
            "Value counts for Age column:\n",
            "19     7\n",
            "35    32\n",
            "26    16\n",
            "27    13\n",
            "32     9\n",
            "25     6\n",
            "20     7\n",
            "18     5\n",
            "29    10\n",
            "47    14\n",
            "45     7\n",
            "46    12\n",
            "48    14\n",
            "49    10\n",
            "31    11\n",
            "21     4\n",
            "28    12\n",
            "33     9\n",
            "30    11\n",
            "23     6\n",
            "24     9\n",
            "22     5\n",
            "59     7\n",
            "34     6\n",
            "39    15\n",
            "38    13\n",
            "37    20\n",
            "42    16\n",
            "40    15\n",
            "36    12\n",
            "41    16\n",
            "58     6\n",
            "55     3\n",
            "52     6\n",
            "60     7\n",
            "56     3\n",
            "53     5\n",
            "50     4\n",
            "51     3\n",
            "57     5\n",
            "44     2\n",
            "43     3\n",
            "54     4\n",
            "dtype: int64\n",
            "-----------\n",
            "Value counts for EstimatedSalary column:\n",
            "19000     2\n",
            "20000     5\n",
            "43000     7\n",
            "57000     6\n",
            "76000     3\n",
            "         ..\n",
            "99000     1\n",
            "129000    1\n",
            "46000     1\n",
            "64000     1\n",
            "139000    1\n",
            "Length: 117, dtype: int64\n",
            "-----------\n",
            "Value counts for Purchased column:\n",
            "0    257\n",
            "1    143\n",
            "dtype: int64\n",
            "-----------\n"
          ],
          "name": "stdout"
        }
      ]
    },
    {
      "cell_type": "markdown",
      "metadata": {
        "id": "JgjnLwxMirs-"
      },
      "source": [
        "### Ожидаемый результат:\n",
        "\n",
        "```\n",
        "Value counts for User ID column:\n",
        "15624510    1\n",
        "15810944    1\n",
        "15668575    1\n",
        "15603246    1\n",
        "15804002    1\n",
        "           ..\n",
        "15691863    1\n",
        "15706071    1\n",
        "15654296    1\n",
        "15755018    1\n",
        "15594041    1\n",
        "Length: 400, dtype: int64\n",
        "-----------\n",
        "Value counts for Gender column:\n",
        "Male      196\n",
        "Female    204\n",
        "dtype: int64\n",
        "-----------\n",
        "Value counts for Age column:\n",
        "19     7\n",
        "35    32\n",
        "26    16\n",
        "27    13\n",
        "32     9\n",
        "25     6\n",
        "20     7\n",
        "18     5\n",
        "29    10\n",
        "47    14\n",
        "45     7\n",
        "46    12\n",
        "48    14\n",
        "49    10\n",
        "31    11\n",
        "21     4\n",
        "28    12\n",
        "33     9\n",
        "30    11\n",
        "23     6\n",
        "24     9\n",
        "22     5\n",
        "59     7\n",
        "34     6\n",
        "39    15\n",
        "38    13\n",
        "37    20\n",
        "42    16\n",
        "40    15\n",
        "36    12\n",
        "41    16\n",
        "58     6\n",
        "55     3\n",
        "52     6\n",
        "60     7\n",
        "56     3\n",
        "53     5\n",
        "50     4\n",
        "51     3\n",
        "57     5\n",
        "44     2\n",
        "43     3\n",
        "54     4\n",
        "dtype: int64\n",
        "-----------\n",
        "Value counts for EstimatedSalary column:\n",
        "19000     2\n",
        "20000     5\n",
        "43000     7\n",
        "57000     6\n",
        "76000     3\n",
        "         ..\n",
        "99000     1\n",
        "129000    1\n",
        "46000     1\n",
        "64000     1\n",
        "139000    1\n",
        "Length: 117, dtype: int64\n",
        "-----------\n",
        "Value counts for Purchased column:\n",
        "0    257\n",
        "1    143\n",
        "dtype: int64\n",
        "-----------\n",
        "```"
      ]
    },
    {
      "cell_type": "markdown",
      "metadata": {
        "id": "lDC9vZxRirs_"
      },
      "source": [
        "3. Пожалуйста, реализуйте функцию ```frequency_easy(data,columns)```, которая делает то же самое, что ```frequency(data,columns)```, за исключением того, что вы можете использовать ```pandas.Series.value_counts()```, для всех существующих имен столбцов, указанных во входном аргументе. Входные аргументы: \n",
        "    * data должен быть типа pandas.DataFrame\n",
        "    * columns должен быть списком список с именами целевых столбцов\n",
        "\n",
        "Кроме того,\n",
        "* если data не предоставлены, функция должна вернуть сообщение об ошибке.\n",
        "* если columns не предоставлен, функция выполняет операцию для всех столбцов data."
      ]
    },
    {
      "cell_type": "code",
      "metadata": {
        "id": "4HClzPG2irtA"
      },
      "source": [
        "#Начало вашего кода\n",
        "def frequency_easy(data=None,columns=data.columns.to_list()):\n",
        "#Функция подсчета по столбцам\n",
        "  if type(data)==type(pd.DataFrame()):\n",
        "    if type(columns) == type(['list']):\n",
        "      pass\n",
        "    else:\n",
        "      columns=data.columns.to_list()\n",
        "    dict_fin = {}\n",
        "    # Берём название одного столбца\n",
        "    for i in columns:\n",
        "      column = data[i]\n",
        "      dict_fin[i]=column.value_counts()\n",
        "    return dict_fin\n",
        "  else:\n",
        "    return \"Error: input arguments are not provided properly frequency(data, columns)\"\n",
        "#Конец вашего кода"
      ],
      "execution_count": null,
      "outputs": []
    },
    {
      "cell_type": "code",
      "metadata": {
        "id": "2kz3A925irtB",
        "colab": {
          "base_uri": "https://localhost:8080/"
        },
        "outputId": "2fee9c58-3dba-4ed5-c8f6-d476a49f8f87"
      },
      "source": [
        "res=frequency_easy(columns=[\"Gender\",\"EstimatedSalary\"])\n",
        "print(res)"
      ],
      "execution_count": null,
      "outputs": [
        {
          "output_type": "stream",
          "text": [
            "Error: input arguments are not provided properly frequency(data, columns)\n"
          ],
          "name": "stdout"
        }
      ]
    },
    {
      "cell_type": "markdown",
      "metadata": {
        "id": "2WUUHpK3irtB"
      },
      "source": [
        "### Ожидаемый результат:\n",
        "\n",
        "```\n",
        "Error: input arguments are not provided properly frequency_easy(data, columns)\n",
        "```"
      ]
    },
    {
      "cell_type": "code",
      "metadata": {
        "id": "-AAXA5BdirtC",
        "colab": {
          "base_uri": "https://localhost:8080/"
        },
        "outputId": "5d755b21-3d19-4cd4-a2ac-99bf3651d5a4"
      },
      "source": [
        "res=frequency_easy(data=data,columns=[\"Gender\",\"Age\"])\n",
        "for key, sr in res.items():\n",
        "    print(f\"Value counts for {key} column:\")\n",
        "    print(sr)\n",
        "    print(\"-----------\")"
      ],
      "execution_count": null,
      "outputs": [
        {
          "output_type": "stream",
          "text": [
            "Value counts for Gender column:\n",
            "Female    204\n",
            "Male      196\n",
            "Name: Gender, dtype: int64\n",
            "-----------\n",
            "Value counts for Age column:\n",
            "35    32\n",
            "37    20\n",
            "41    16\n",
            "42    16\n",
            "26    16\n",
            "39    15\n",
            "40    15\n",
            "47    14\n",
            "48    14\n",
            "38    13\n",
            "27    13\n",
            "28    12\n",
            "46    12\n",
            "36    12\n",
            "31    11\n",
            "30    11\n",
            "29    10\n",
            "49    10\n",
            "32     9\n",
            "33     9\n",
            "24     9\n",
            "20     7\n",
            "19     7\n",
            "60     7\n",
            "59     7\n",
            "45     7\n",
            "25     6\n",
            "34     6\n",
            "58     6\n",
            "52     6\n",
            "23     6\n",
            "57     5\n",
            "22     5\n",
            "18     5\n",
            "53     5\n",
            "21     4\n",
            "50     4\n",
            "54     4\n",
            "55     3\n",
            "43     3\n",
            "56     3\n",
            "51     3\n",
            "44     2\n",
            "Name: Age, dtype: int64\n",
            "-----------\n"
          ],
          "name": "stdout"
        }
      ]
    },
    {
      "cell_type": "markdown",
      "metadata": {
        "id": "o63BEO-UirtD"
      },
      "source": [
        "### Ожидаемый результат:\n",
        "\n",
        "```\n",
        "Value counts for Gender column:\n",
        "Female    204\n",
        "Male      196\n",
        "Name: Gender, dtype: int64\n",
        "-----------\n",
        "Value counts for Age column:\n",
        "35    32\n",
        "37    20\n",
        "41    16\n",
        "42    16\n",
        "26    16\n",
        "39    15\n",
        "40    15\n",
        "47    14\n",
        "48    14\n",
        "38    13\n",
        "27    13\n",
        "28    12\n",
        "46    12\n",
        "36    12\n",
        "31    11\n",
        "30    11\n",
        "29    10\n",
        "49    10\n",
        "32     9\n",
        "33     9\n",
        "24     9\n",
        "20     7\n",
        "19     7\n",
        "60     7\n",
        "59     7\n",
        "45     7\n",
        "25     6\n",
        "34     6\n",
        "58     6\n",
        "52     6\n",
        "23     6\n",
        "57     5\n",
        "22     5\n",
        "18     5\n",
        "53     5\n",
        "21     4\n",
        "50     4\n",
        "54     4\n",
        "55     3\n",
        "43     3\n",
        "56     3\n",
        "51     3\n",
        "44     2\n",
        "Name: Age, dtype: int64\n",
        "-----------\n",
        "```"
      ]
    },
    {
      "cell_type": "markdown",
      "metadata": {
        "id": "_U5aqY3eirtD"
      },
      "source": [
        "# Прекрасная работа!"
      ]
    }
  ]
}
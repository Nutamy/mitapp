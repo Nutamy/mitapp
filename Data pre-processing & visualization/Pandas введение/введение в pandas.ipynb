{
 "cells": [
  {
   "cell_type": "markdown",
   "metadata": {},
   "source": [
    "### pandas: Введение [Домашнее задание]\n",
    "> **Вы должны импортировать все необходимые пакеты самостоятельно.**\n",
    "\n",
    "> **Пишите код только там, где это показано для записи. Не удаляйте комментарии!**\n",
    "\n",
    "> **Вы не можете использовать pandas в этой задаче # 1.**\n",
    " "
   ]
  },
  {
   "cell_type": "markdown",
   "metadata": {},
   "source": [
    "1. Пожалуйста, напишите функцию ```load_data(filename)```, которая будет загружать данные из csv-файла в список списков. Пожалуйста, напишите функцию load_data (имя файла), которая будет загружать данные из csv-файла в список списков. Файл ```Social_Network_Ads.csv``` предоставлен вместе с этим jupyter notebook.\n",
    "\n",
    "\n",
    "**Примечание:**\n",
    "\n",
    "* В случае, если имя файла задано неверно, функция ```load_data``` должна вывести следующее сообщение об ошибке:\n",
    "\n",
    "```{имя файла} does not exist```"
   ]
  },
  {
   "cell_type": "code",
   "execution_count": 1,
   "metadata": {},
   "outputs": [],
   "source": [
    "#Начало вашего кода\r\n",
    "import csv\r\n",
    "import numpy as np\r\n",
    "import pandas as pd\r\n",
    "\r\n",
    "def load_data(filename):\r\n",
    "    header = None\r\n",
    "    data = None\r\n",
    "    try:\r\n",
    "        rows = []\r\n",
    "        with open(filename, 'r') as csvfile:\r\n",
    "            csvreader = csv.reader(csvfile)\r\n",
    "            for row in csvreader:\r\n",
    "                rows.append(row)\r\n",
    "            header = rows[:1]\r\n",
    "            data = rows[1:]\r\n",
    "            return header, data\r\n",
    "    except:\r\n",
    "        print(\"{} does not exist!\".format(filename))\r\n",
    "        return header, data\r\n",
    "#Конец вашего кода"
   ]
  },
  {
   "cell_type": "code",
   "execution_count": 2,
   "metadata": {},
   "outputs": [
    {
     "name": "stdout",
     "output_type": "stream",
     "text": [
      "./SocialNetworkAds.csv does not exist!\n"
     ]
    }
   ],
   "source": [
    "filename = \"./SocialNetworkAds.csv\"\n",
    "header, data = load_data(filename=filename)"
   ]
  },
  {
   "cell_type": "markdown",
   "metadata": {},
   "source": [
    "### Ожидаемый результат:\n",
    "\n",
    "```\n",
    "./SocialNetworkAds.csv does not exist\n",
    "```"
   ]
  },
  {
   "cell_type": "code",
   "execution_count": 3,
   "metadata": {},
   "outputs": [
    {
     "name": "stdout",
     "output_type": "stream",
     "text": [
      "None\n",
      "None\n"
     ]
    }
   ],
   "source": [
    "print(header)\n",
    "print(data)"
   ]
  },
  {
   "cell_type": "markdown",
   "metadata": {},
   "source": [
    "### Ожидаемый результат:\n",
    "\n",
    "```\n",
    "None\n",
    "None\n",
    "```"
   ]
  },
  {
   "cell_type": "code",
   "execution_count": 4,
   "metadata": {},
   "outputs": [],
   "source": [
    "filename = \"./Social_Network_Ads.csv\"\n",
    "header, data = load_data(filename=filename)"
   ]
  },
  {
   "cell_type": "code",
   "execution_count": 5,
   "metadata": {},
   "outputs": [
    {
     "name": "stdout",
     "output_type": "stream",
     "text": [
      "[['User ID', 'Gender', 'Age', 'EstimatedSalary', 'Purchased']]\n"
     ]
    }
   ],
   "source": [
    "print(header)"
   ]
  },
  {
   "cell_type": "markdown",
   "metadata": {},
   "source": [
    "### Ожидаемый результат:\n",
    "\n",
    "```\n",
    "['User ID', 'Gender', 'Age', 'EstimatedSalary', 'Purchased']\n",
    "```"
   ]
  },
  {
   "cell_type": "code",
   "execution_count": 6,
   "metadata": {},
   "outputs": [
    {
     "name": "stdout",
     "output_type": "stream",
     "text": [
      "['15624510', 'Male', '19', '19000', '0']\n",
      "['15810944', 'Male', '35', '20000', '0']\n",
      "['15668575', 'Female', '26', '43000', '0']\n",
      "['15603246', 'Female', '27', '57000', '0']\n",
      "['15804002', 'Male', '19', '76000', '0']\n"
     ]
    }
   ],
   "source": [
    "for i in range(5):\n",
    "    print(data[i])"
   ]
  },
  {
   "cell_type": "markdown",
   "metadata": {},
   "source": [
    "### Ожидаемый результат:\n",
    "\n",
    "```\n",
    "['15624510', 'Male', '19', '19000', '0']\n",
    "['15810944', 'Male', '35', '20000', '0']\n",
    "['15668575', 'Female', '26', '43000', '0']\n",
    "['15603246', 'Female', '27', '57000', '0']\n",
    "['15804002', 'Male', '19', '76000', '0']\n",
    "```"
   ]
  },
  {
   "cell_type": "markdown",
   "metadata": {},
   "source": [
    "2. Пожалуйста, реализуйте функцию ```data2dataframe(header,data)```, которая будет возвращать ```pandas.DataFrame```, используя входные аргументы: ```header``` и ```data```. Кроме того, если ```header``` или/и ```data``` не предоставлены, функция должна вернуть сообщение об ошибке."
   ]
  },
  {
   "cell_type": "code",
   "execution_count": 7,
   "metadata": {},
   "outputs": [],
   "source": [
    "#Начало вашего кода\r\n",
    "def data2dataframe(header=None, data=None):\r\n",
    "    if header == None or data == None:\r\n",
    "        print(\"Error: input argument are not provided properly data2dataframe(header, data)\")\r\n",
    "    else:\r\n",
    "        data_ndarr = np.array(data)\r\n",
    "        df = pd.DataFrame(data_ndarr, columns=header)   \r\n",
    "        return df\r\n",
    "\r\n",
    "#Конец вашего кода"
   ]
  },
  {
   "cell_type": "code",
   "execution_count": 8,
   "metadata": {},
   "outputs": [
    {
     "name": "stdout",
     "output_type": "stream",
     "text": [
      "Error: input argument are not provided properly data2dataframe(header, data)\n",
      "Error: input argument are not provided properly data2dataframe(header, data)\n",
      "Error: input argument are not provided properly data2dataframe(header, data)\n"
     ]
    }
   ],
   "source": [
    "df_data0 = data2dataframe()\n",
    "df_data1 = data2dataframe(header=header)\n",
    "df_data2 = data2dataframe(data=data)\n",
    "df_data = data2dataframe(header=header,data=data)"
   ]
  },
  {
   "cell_type": "markdown",
   "metadata": {},
   "source": [
    "### Ожидаемый результат:\n",
    "\n",
    "```\n",
    "Error: input arguments are not provided properly data2dataframe(header, data)\n",
    "Error: input arguments are not provided properly data2dataframe(header, data)\n",
    "Error: input arguments are not provided properly data2dataframe(header, data)\n",
    "```"
   ]
  },
  {
   "cell_type": "code",
   "execution_count": 56,
   "metadata": {},
   "outputs": [
    {
     "name": "stdout",
     "output_type": "stream",
     "text": [
      "None\n",
      "None\n",
      "None\n",
      "      User ID  Gender Age EstimatedSalary Purchased\n",
      "0    15624510    Male  19           19000         0\n",
      "1    15810944    Male  35           20000         0\n",
      "2    15668575  Female  26           43000         0\n",
      "3    15603246  Female  27           57000         0\n",
      "4    15804002    Male  19           76000         0\n",
      "..        ...     ...  ..             ...       ...\n",
      "395  15691863  Female  46           41000         1\n",
      "396  15706071    Male  51           23000         1\n",
      "397  15654296  Female  50           20000         1\n",
      "398  15755018    Male  36           33000         0\n",
      "399  15594041  Female  49           36000         1\n",
      "\n",
      "[400 rows x 5 columns]\n"
     ]
    }
   ],
   "source": [
    "print(df_data0)\r\n",
    "print(df_data1)\r\n",
    "print(df_data2)\r\n",
    "print(df_data)"
   ]
  },
  {
   "cell_type": "markdown",
   "metadata": {},
   "source": [
    "### Ожидаемый результат:\n",
    "\n",
    "```\n",
    "None\n",
    "None\n",
    "None\n",
    "      User ID  Gender Age EstimatedSalary Purchased\n",
    "0    15624510    Male  19           19000         0\n",
    "1    15810944    Male  35           20000         0\n",
    "2    15668575  Female  26           43000         0\n",
    "3    15603246  Female  27           57000         0\n",
    "4    15804002    Male  19           76000         0\n",
    "..        ...     ...  ..             ...       ...\n",
    "395  15691863  Female  46           41000         1\n",
    "396  15706071    Male  51           23000         1\n",
    "397  15654296  Female  50           20000         1\n",
    "398  15755018    Male  36           33000         0\n",
    "399  15594041  Female  49           36000         1\n",
    "\n",
    "[400 rows x 5 columns]\n",
    "```"
   ]
  },
  {
   "cell_type": "markdown",
   "metadata": {},
   "source": [
    "3. Вы должны реализовать функцию ```extract(data, columns)```. которая будет извлекать столбцы из ```data```. Входной аргументы:\n",
    "    * ```data``` должен быть типа pandas.DataFrame\n",
    "    * ```columns``` должен быть списком с именами целевых столбцов, которые будут извлечены.\n",
    "    \n",
    "    **Во всех остальных случаях функция возвращает сообщение об ошибке.**\n",
    "\n",
    "Если имя столбца, указанное в аргументе ```columns```, не найдено в ```data```, его не следует включать в результат."
   ]
  },
  {
   "cell_type": "code",
   "execution_count": 10,
   "metadata": {},
   "outputs": [],
   "source": [
    "# Начало вашего кода\r\n",
    "def extract(data=None, columns=None):\r\n",
    "    if type(data)==type(pd.DataFrame()) and type(columns) == type(['list']):\r\n",
    "        column = []\r\n",
    "        for i in range(len(columns)):\r\n",
    "            for j in data.columns:\r\n",
    "                if j[0] == columns[i]:\r\n",
    "                    column.append(j[0])\r\n",
    "        return data[column]\r\n",
    "    else:\r\n",
    "        print('Error: input arguments are not provided properly extract(data, columns)')\r\n",
    "        return None\r\n",
    "# Конец вашего кода\r\n"
   ]
  },
  {
   "cell_type": "code",
   "execution_count": 11,
   "metadata": {},
   "outputs": [
    {
     "name": "stdout",
     "output_type": "stream",
     "text": [
      "Error: input arguments are not provided properly extract(data, columns)\n",
      "Error: input arguments are not provided properly extract(data, columns)\n",
      "Error: input arguments are not provided properly extract(data, columns)\n",
      "Error: input arguments are not provided properly extract(data, columns)\n"
     ]
    }
   ],
   "source": [
    "df_target0=extract()\r\n",
    "df_target1=extract(data=df_data)\r\n",
    "df_target2=extract(columns=[\"User ID\"])\r\n",
    "df_target3=extract(data=df_data, columns=[\"User ID\"])\r\n",
    "df_target4=extract(data=df_data, columns=[\"User ID\",\"Purchased\"])\r\n",
    "df_target5=extract(data=df_data, columns=[\"gender\",\"Purchased\"])\r\n",
    "df_target6=extract(columns=\"User ID\",data=df_data,)\r\n",
    "\r\n"
   ]
  },
  {
   "cell_type": "markdown",
   "metadata": {},
   "source": [
    "### Ожидаемый результат:\n",
    "\n",
    "```\n",
    "Error: input arguments are not provided properly extract(data, columns)\n",
    "Error: input arguments are not provided properly extract(data, columns)\n",
    "Error: input arguments are not provided properly extract(data, columns)\n",
    "Error: input arguments are not provided properly extract(data, columns)\n",
    "```"
   ]
  },
  {
   "cell_type": "code",
   "execution_count": 12,
   "metadata": {},
   "outputs": [
    {
     "name": "stdout",
     "output_type": "stream",
     "text": [
      "None\n",
      "None\n",
      "None\n",
      "      User ID\n",
      "0    15624510\n",
      "1    15810944\n",
      "2    15668575\n",
      "3    15603246\n",
      "4    15804002\n",
      "..        ...\n",
      "395  15691863\n",
      "396  15706071\n",
      "397  15654296\n",
      "398  15755018\n",
      "399  15594041\n",
      "\n",
      "[400 rows x 1 columns]\n",
      "      User ID Purchased\n",
      "0    15624510         0\n",
      "1    15810944         0\n",
      "2    15668575         0\n",
      "3    15603246         0\n",
      "4    15804002         0\n",
      "..        ...       ...\n",
      "395  15691863         1\n",
      "396  15706071         1\n",
      "397  15654296         1\n",
      "398  15755018         0\n",
      "399  15594041         1\n",
      "\n",
      "[400 rows x 2 columns]\n",
      "    Purchased\n",
      "0           0\n",
      "1           0\n",
      "2           0\n",
      "3           0\n",
      "4           0\n",
      "..        ...\n",
      "395         1\n",
      "396         1\n",
      "397         1\n",
      "398         0\n",
      "399         1\n",
      "\n",
      "[400 rows x 1 columns]\n",
      "None\n"
     ]
    }
   ],
   "source": [
    "print(df_target0)\n",
    "print(df_target1)\n",
    "print(df_target2)\n",
    "print(df_target3)\n",
    "print(df_target4)\n",
    "print(df_target5)\n",
    "print(df_target6)"
   ]
  },
  {
   "cell_type": "markdown",
   "metadata": {},
   "source": [
    "### Ожидаемый результат:\n",
    "\n",
    "```\n",
    "None\n",
    "None\n",
    "None\n",
    "      User ID\n",
    "0    15624510\n",
    "1    15810944\n",
    "2    15668575\n",
    "3    15603246\n",
    "4    15804002\n",
    "..        ...\n",
    "395  15691863\n",
    "396  15706071\n",
    "397  15654296\n",
    "398  15755018\n",
    "399  15594041\n",
    "\n",
    "[400 rows x 1 columns]\n",
    "      User ID Purchased\n",
    "0    15624510         0\n",
    "1    15810944         0\n",
    "2    15668575         0\n",
    "3    15603246         0\n",
    "4    15804002         0\n",
    "..        ...       ...\n",
    "395  15691863         1\n",
    "396  15706071         1\n",
    "397  15654296         1\n",
    "398  15755018         0\n",
    "399  15594041         1\n",
    "\n",
    "[400 rows x 2 columns]\n",
    "    Purchased\n",
    "0           0\n",
    "1           0\n",
    "2           0\n",
    "3           0\n",
    "4           0\n",
    "..        ...\n",
    "395         1\n",
    "396         1\n",
    "397         1\n",
    "398         0\n",
    "399         1\n",
    "\n",
    "[400 rows x 1 columns]\n",
    "```"
   ]
  },
  {
   "cell_type": "markdown",
   "metadata": {},
   "source": [
    "4. Вы должны реализовать функцию ```slice_data(data, rows, cols)```. которая будет срезать целевые строки и столбцы из ```data```. Входной аргументы:\n",
    "    * ```data``` должен быть типа pandas.DataFrame\n",
    "    * ```rows``` должен быть кортежем с индексами начальных и конечных строк.\n",
    "    * ```cols``` должен быть кортежем с индексами начальных и конечных строк.\n",
    "    \n",
    "    **Во всех остальных случаях функция возвращает сообщение об ошибке.**"
   ]
  },
  {
   "cell_type": "code",
   "execution_count": 53,
   "metadata": {},
   "outputs": [],
   "source": [
    "#Начало вашего кода\r\n",
    "def slice_data(data=None, rows=None, cols=None):\r\n",
    "    if type(data)!=type(pd.DataFrame()) or rows == None or cols == None:\r\n",
    "        print('Error: input arguments are not provided properly slice_data(data,rows,cols)')\r\n",
    "        return None\r\n",
    "    else:\r\n",
    "        data_columns = []\r\n",
    "        column_required = []\r\n",
    "        for i in range(len(data.columns.to_list())):\r\n",
    "            data_columns.append(data.columns.to_list()[i][0])\r\n",
    "        for i in data_columns:\r\n",
    "            for j in cols:\r\n",
    "                if data_columns[j] not in column_required:\r\n",
    "                    column_required.append(data_columns[j])\r\n",
    "        data_columns_filtered = data[column_required]\r\n",
    "        data_rows_filtered = data_columns_filtered.loc[rows[0]:rows[1]]\r\n",
    "        return data_rows_filtered\r\n",
    "#Конец вашего кода"
   ]
  },
  {
   "cell_type": "code",
   "execution_count": 54,
   "metadata": {},
   "outputs": [
    {
     "name": "stdout",
     "output_type": "stream",
     "text": [
      "Error: input arguments are not provided properly slice_data(data,rows,cols)\n",
      "Error: input arguments are not provided properly slice_data(data,rows,cols)\n",
      "Error: input arguments are not provided properly slice_data(data,rows,cols)\n"
     ]
    }
   ],
   "source": [
    "df_slice0=slice_data()\n",
    "df_slice1=slice_data(data=df_data)\n",
    "df_slice2=slice_data(rows=(0,100),cols=(0,2))\n",
    "df_slice3=slice_data(data=df_data, rows=(0,100),cols=(0,2))"
   ]
  },
  {
   "cell_type": "markdown",
   "metadata": {},
   "source": [
    "### Ожидаемый результат:\n",
    "\n",
    "```\n",
    "Error: input arguments are not provided properly slice_data(data,rows,cols)\n",
    "Error: input arguments are not provided properly slice_data(data,rows,cols)\n",
    "Error: input arguments are not provided properly slice_data(data,rows,cols)\n",
    "```"
   ]
  },
  {
   "cell_type": "code",
   "execution_count": 55,
   "metadata": {},
   "outputs": [
    {
     "name": "stdout",
     "output_type": "stream",
     "text": [
      "None\n",
      "None\n",
      "None\n",
      "      User ID Age\n",
      "0    15624510  19\n",
      "1    15810944  35\n",
      "2    15668575  26\n",
      "3    15603246  27\n",
      "4    15804002  19\n",
      "..        ...  ..\n",
      "96   15710257  35\n",
      "97   15582492  28\n",
      "98   15575694  35\n",
      "99   15756820  28\n",
      "100  15766289  27\n",
      "\n",
      "[101 rows x 2 columns]\n"
     ]
    }
   ],
   "source": [
    "print(df_slice0)\n",
    "print(df_slice1)\n",
    "print(df_slice2)\n",
    "print(df_slice3)"
   ]
  },
  {
   "cell_type": "markdown",
   "metadata": {},
   "source": [
    "### Ожидаемый результат:\n",
    "\n",
    "```\n",
    "None\n",
    "None\n",
    "None\n",
    "     User ID  Gender\n",
    "0   15624510    Male\n",
    "1   15810944    Male\n",
    "2   15668575  Female\n",
    "3   15603246  Female\n",
    "4   15804002    Male\n",
    "..       ...     ...\n",
    "95  15709441  Female\n",
    "96  15710257  Female\n",
    "97  15582492    Male\n",
    "98  15575694    Male\n",
    "99  15756820  Female\n",
    "\n",
    "[100 rows x 2 columns]\n",
    "```"
   ]
  },
  {
   "cell_type": "markdown",
   "metadata": {},
   "source": [
    "# Прекрасная работа!"
   ]
  }
 ],
 "metadata": {
  "kernelspec": {
   "display_name": "Python 3.8.5 64-bit ('base': conda)",
   "name": "python385jvsc74a57bd09a92f99d3e378d8244c799fe4a47e5efe244af6980eb7c2672ba7457e1a418d6"
  },
  "language_info": {
   "codemirror_mode": {
    "name": "ipython",
    "version": 3
   },
   "file_extension": ".py",
   "mimetype": "text/x-python",
   "name": "python",
   "nbconvert_exporter": "python",
   "pygments_lexer": "ipython3",
   "version": "3.8.5"
  }
 },
 "nbformat": 4,
 "nbformat_minor": 2
}
{
 "cells": [
  {
   "cell_type": "markdown",
   "metadata": {},
   "source": [
    "### Очистка и подготовка данных [Домашнее задание]"
   ]
  },
  {
   "cell_type": "markdown",
   "metadata": {},
   "source": [
    "Загрузите следующий файл Excel «synthetic_data.csv» и выполните все методы очистки и предварительной обработки, которые вы изучили в лекции. \n",
    "\n",
    "Наконец, сохраните новые «очищенные» данные в новый CSV-файл «cleaned_synthetic_data.csv»"
   ]
  },
  {
   "cell_type": "markdown",
   "metadata": {},
   "source": [
    "Примечание: вы можете использовать функции, классы, модули, пакеты и т. д. для выполнения домашней работы."
   ]
  },
  {
   "cell_type": "code",
   "execution_count": 1,
   "metadata": {},
   "outputs": [
    {
     "output_type": "stream",
     "name": "stdout",
     "text": [
      "/home/nutamy/Документы/PythonNutamy/Mitapp/Data pre-processing & visualization/002 Очистка и подготовка данных\n\n['55e7b0ecc22fbbd2ec50ebeda696015f.ipynb', 'synthetic_data.csv', 'data-cleaning-01.pdf']\n"
     ]
    }
   ],
   "source": [
    "import csv\n",
    "import os\n",
    "\n",
    "print(os.getcwd())\n",
    "print()\n",
    "print(os.listdir())"
   ]
  },
  {
   "cell_type": "code",
   "execution_count": 2,
   "metadata": {},
   "outputs": [
    {
     "output_type": "stream",
     "name": "stdout",
     "text": [
      "['id', 'gender', 'nationality', 'city', 'data of birth']\n['1', '(male)', '[Kazakhstan]', 'Aktobe', '1990']\n['2', 'Female', 'russia', 'moscow', '1956-1957']\n['3', 'male', 'kazakhstan', 'astana', '2001']\n['4', 'FEMALE', 'Kazakhstan', 'nur-sultan', '2019']\n['5', '   male', 'Russia', 'Saint Petersburg', '1999']\n['6', 'female)', 'ukraine', 'Kiev', '1989']\n['7', '', 'kazakhstan', 'almaty', '2008']\n['8', 'Male', 'korea', 'pusan', '1999']\n['9', '(female)', 'korea', 'busan', '1980']\n"
     ]
    }
   ],
   "source": [
    "with open('synthetic_data.csv', 'r') as file:\n",
    "    csv_data = csv.reader(file)\n",
    "    data = list(csv_data)\n",
    "    for row in data:\n",
    "        print(row)"
   ]
  },
  {
   "cell_type": "code",
   "execution_count": 3,
   "metadata": {},
   "outputs": [],
   "source": [
    "for i in range(len(data[0])):\n",
    "    for j in range(1, len(data)):\n",
    "        if  '[' or ']' in data[j][i]:\n",
    "            data[j][i] = data[j][i].replace('[', '')\n",
    "            data[j][i] = data[j][i].replace(']', '')\n",
    "        data[j][i] = data[j][i].title()\n",
    "        data[j][i] = data[j][i].strip()"
   ]
  },
  {
   "cell_type": "code",
   "execution_count": 4,
   "metadata": {},
   "outputs": [
    {
     "output_type": "stream",
     "name": "stdout",
     "text": [
      "1956\n"
     ]
    }
   ],
   "source": [
    "listik = data[2][4].split('-')\n",
    "data[2][4] = round((int(listik[0]) + int(listik[1]))/len(listik))\n",
    "print(data[2][4])"
   ]
  },
  {
   "cell_type": "code",
   "execution_count": 5,
   "metadata": {},
   "outputs": [
    {
     "output_type": "stream",
     "name": "stdout",
     "text": [
      "['id', 'gender', 'nationality', 'city', 'data of birth']\n['1', 'male', 'Kazakhstan', 'Aktobe', '1990']\n['2', 'female', 'Russia', 'Moscow', 1956]\n['3', 'male', 'Kazakhstan', 'Astana', '2001']\n['4', 'female', 'Kazakhstan', 'Nur-Sultan', '2019']\n['5', 'male', 'Russia', 'Saint Petersburg', '1999']\n['6', 'female', 'Ukraine', 'Kiev', '1989']\n['7', 'male', 'Kazakhstan', 'Almaty', '2008']\n['8', 'male', 'Korea', 'Pusan', '1999']\n['9', 'female', 'Korea', 'Busan', '1980']\n"
     ]
    }
   ],
   "source": [
    "f = 0\n",
    "m = 0\n",
    "for i in range(1,len(data)):\n",
    "    if 'female' in data[i][1].lower():\n",
    "        data[i][1] = data[i][1].replace(data[i][1], 'female')\n",
    "        f += 1\n",
    "    elif 'male' in data[i][1].lower():\n",
    "        data[i][1] = data[i][1].replace(data[i][1], 'male')\n",
    "        m += 1\n",
    "    else:\n",
    "        if f>m:\n",
    "            data[i][1] = 'female'\n",
    "        else:\n",
    "            data[i][1] = 'male'\n",
    "for row in data:\n",
    "    print(row)"
   ]
  },
  {
   "cell_type": "code",
   "execution_count": 6,
   "metadata": {},
   "outputs": [],
   "source": [
    "with open('cleaned_synthetic_data.csv', 'w') as clean:\n",
    "    writer = csv.writer(clean)\n",
    "    for row in data:\n",
    "        writer.writerow(row)"
   ]
  },
  {
   "cell_type": "code",
   "execution_count": 7,
   "metadata": {},
   "outputs": [
    {
     "output_type": "stream",
     "name": "stdout",
     "text": [
      "['id', 'gender', 'nationality', 'city', 'data of birth']\n['1', 'male', 'Kazakhstan', 'Aktobe', '1990']\n['2', 'female', 'Russia', 'Moscow', '1956']\n['3', 'male', 'Kazakhstan', 'Astana', '2001']\n['4', 'female', 'Kazakhstan', 'Nur-Sultan', '2019']\n['5', 'male', 'Russia', 'Saint Petersburg', '1999']\n['6', 'female', 'Ukraine', 'Kiev', '1989']\n['7', 'male', 'Kazakhstan', 'Almaty', '2008']\n['8', 'male', 'Korea', 'Pusan', '1999']\n['9', 'female', 'Korea', 'Busan', '1980']\n"
     ]
    }
   ],
   "source": [
    "with open('cleaned_synthetic_data.csv', 'r') as f:\n",
    "    reader = csv.reader(f)\n",
    "    for row in reader:\n",
    "        print(row)"
   ]
  },
  {
   "cell_type": "code",
   "execution_count": null,
   "metadata": {},
   "outputs": [],
   "source": []
  }
 ],
 "metadata": {
  "kernelspec": {
   "display_name": "Python 3",
   "language": "python",
   "name": "python3"
  },
  "language_info": {
   "codemirror_mode": {
    "name": "ipython",
    "version": 3
   },
   "file_extension": ".py",
   "mimetype": "text/x-python",
   "name": "python",
   "nbconvert_exporter": "python",
   "pygments_lexer": "ipython3",
   "version": "3.8.5"
  }
 },
 "nbformat": 4,
 "nbformat_minor": 2
}
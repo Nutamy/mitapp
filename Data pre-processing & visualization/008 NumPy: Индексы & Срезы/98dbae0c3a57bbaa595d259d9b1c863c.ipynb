{
 "cells": [
  {
   "cell_type": "markdown",
   "metadata": {},
   "source": [
    "### NumPy: Индексы & Срезы [Домашнее задание]\n",
    "> **\n",
    "> **Пишите код только там, где это показано для записи. Не удаляйте комментарии!**"
   ]
  },
  {
   "cell_type": "markdown",
   "metadata": {},
   "source": [
    "1. Импортируйте пакет NumPy"
   ]
  },
  {
   "cell_type": "code",
   "execution_count": 1,
   "metadata": {},
   "outputs": [
    {
     "output_type": "stream",
     "name": "stdout",
     "text": [
      "1.19.5\n"
     ]
    }
   ],
   "source": [
    "# Начало вашего кода\n",
    "import numpy as np\n",
    "# Конец вашего кода\n",
    "print(np.__version__)"
   ]
  },
  {
   "cell_type": "markdown",
   "metadata": {},
   "source": [
    "### Ожидаемый результат\n",
    "```\n",
    "1.17.4\n",
    "```"
   ]
  },
  {
   "cell_type": "markdown",
   "metadata": {},
   "source": [
    "2. Вам предоставляется список ```list1 = [1,3,5,2,3,5,72,4,7,4,2,6,5,4,89,9,6,423]```.\n",
    "Пожалуйста, извлеките элементы списка ```list1```, который разделяет его индекс в списке ```list1``` без остатка. Используйте два подхода для решения этой проблемы, используя только список ```list``` и используя массив ```numpy.ndarray``` отдельно.\n",
    "\n",
    "    **Примечание: не используйте ```enumerate```.**"
   ]
  },
  {
   "cell_type": "code",
   "execution_count": 2,
   "metadata": {},
   "outputs": [
    {
     "output_type": "stream",
     "name": "stdout",
     "text": [
      "[1, 5, 2]\n"
     ]
    }
   ],
   "source": [
    "list1 = [1,3,5,2,3,5,72,4,7,4,2,6,5,4,89,9,6,423]\n",
    "list2 = []\n",
    "\n",
    "# list\n",
    "# Начало вашего кода\n",
    "list2.extend(list1[0:11:5])\n",
    "# Конец вашего кода\n",
    "print(list2)"
   ]
  },
  {
   "cell_type": "markdown",
   "metadata": {},
   "source": [
    "### Ожидаемый результат\n",
    "```\n",
    "[1, 5, 2]\n",
    "```"
   ]
  },
  {
   "cell_type": "code",
   "execution_count": 3,
   "metadata": {},
   "outputs": [
    {
     "output_type": "stream",
     "name": "stdout",
     "text": [
      "[1 5 2]\n"
     ]
    }
   ],
   "source": [
    "# numpy.ndarray\n",
    "# Начало вашего кода\n",
    "ndarr1 = np.array(list1)\n",
    "ndarr2 = ndarr1[0:11:5]\n",
    "# Конец вашего кода\n",
    "print(ndarr2)"
   ]
  },
  {
   "cell_type": "markdown",
   "metadata": {},
   "source": [
    "### Ожидаемый результат\n",
    "```\n",
    "[1 5 2]\n",
    "```"
   ]
  },
  {
   "cell_type": "markdown",
   "metadata": {},
   "source": [
    "3. Вам предоставляется список списков ```list_of_lists=[[1,2,3,4],[5,6,7,8],[9,10,11,12]]```. Пожалуйста, извлеките элементы, которые делят произведение индекса строки и индекса столбца без остатка.Используйте два подхода для решения этой проблемы, используя только список list и используя массив numpy.ndarray отдельно.\n",
    "\n",
    "**Примечание: не используйте ```enumerate```.**"
   ]
  },
  {
   "cell_type": "code",
   "execution_count": 4,
   "metadata": {},
   "outputs": [
    {
     "output_type": "stream",
     "name": "stdout",
     "text": [
      "[1, 2, 3, 4, 5, 9]\n"
     ]
    }
   ],
   "source": [
    "list_of_lists = [[1,2,3,4],[5,6,7,8],[9,10,11,12]]\n",
    "new_list = []\n",
    "\n",
    "# list\n",
    "# Начало вашего кода\n",
    "for i in list_of_lists:\n",
    "    idx_i = list_of_lists.index(i)\n",
    "    for j in i:\n",
    "        idx_j = i.index(j)\n",
    "        if (idx_i * idx_j)%j == 0:\n",
    "            new_list.append(j)\n",
    "# Конец вашего кода\n",
    "print(new_list)"
   ]
  },
  {
   "cell_type": "markdown",
   "metadata": {},
   "source": [
    "### Ожидаемый результат\n",
    "```\n",
    "[1, 2, 3, 4, 5, 9]\n",
    "```"
   ]
  },
  {
   "cell_type": "code",
   "execution_count": 5,
   "metadata": {},
   "outputs": [
    {
     "output_type": "stream",
     "name": "stdout",
     "text": [
      "[1 2 3 4 5 9]\n"
     ]
    }
   ],
   "source": [
    "# numpy.ndarray\n",
    "# Начало вашего кода\n",
    "new_list = np.array(list_of_lists)\n",
    "if len(new_list.shape)==2:\n",
    "    w=new_list.shape[0]\n",
    "    h=new_list.shape[1]\n",
    " \n",
    "new = []\n",
    "for x in range(w):\n",
    "    for y in range(h):\n",
    "        if (y*x)%new_list[x,y] == 0:\n",
    "            new.append(new_list[x,y])\n",
    "ndarr3 = np.array(new)\n",
    "\n",
    "# Конец вашего кода\n",
    "print(ndarr3)"
   ]
  },
  {
   "cell_type": "markdown",
   "metadata": {},
   "source": [
    "### Ожидаемый результат\n",
    "```\n",
    "[1 2 3 4 5 9]\n",
    "```"
   ]
  },
  {
   "cell_type": "markdown",
   "metadata": {},
   "source": [
    "4. Пожалуйста, напишите две функции:\n",
    "\n",
    "```slice_list(orig_list, row_str, row_end, col_str, col_end)```\n",
    "\n",
    "```slice_list_ndarr(orig_list, row_str, row_end, col_str, col_end)```\n",
    "\n",
    "\n",
    "row_str и row_end - начальный индекс столбца и конечный индекс столбца среза.\n",
    "\n",
    "col_str и col_end - начальный индекс столбца и конечный индекс столбца среза.\n",
    "\n",
    "Пример:\n",
    "```\n",
    "orig_list =[[ 1, 2, 3],\n",
    "            [11,12,13],\n",
    "            [21,22,23]]\n",
    "\n",
    "res_list = slice_list(orig_list, 0, 2, 1, 3)\n",
    "\n",
    "Ответ:\n",
    "res_list = [[ 2, 3],\n",
    "            [12,13]]\n",
    "\n",
    "```"
   ]
  },
  {
   "cell_type": "code",
   "execution_count": 6,
   "metadata": {},
   "outputs": [
    {
     "output_type": "stream",
     "name": "stdout",
     "text": [
      "[[6, 7], [10, 11], [14, 15]]\n"
     ]
    }
   ],
   "source": [
    "list_of_lists = [[1,2,3,4],[5,6,7,8],[9,10,11,12],[13,14,15,16],[17,18,19,20]]\n",
    "\n",
    "def slice_list(orig_list, row_str, row_end, col_str, col_end):\n",
    "    # list\n",
    "    # Начало вашего кода\n",
    "    new = []\n",
    "    for i in orig_list[row_str:row_end]:\n",
    "        new.append(i[col_str:col_end])\n",
    "    return new\n",
    "    # Конец вашего кода\n",
    "\n",
    "print(slice_list(list_of_lists,1,4,1,3))"
   ]
  },
  {
   "cell_type": "markdown",
   "metadata": {},
   "source": [
    "### Ожидаемый результат\n",
    "```\n",
    "[[6, 7], [10, 11], [14, 15]]\n",
    "```"
   ]
  },
  {
   "cell_type": "code",
   "execution_count": 7,
   "metadata": {},
   "outputs": [
    {
     "output_type": "stream",
     "name": "stdout",
     "text": [
      "[[6, 7], [10, 11], [14, 15]]\n"
     ]
    }
   ],
   "source": [
    "list_of_lists = [[1,2,3,4],[5,6,7,8],[9,10,11,12],[13,14,15,16],[17,18,19,20]]\n",
    "\n",
    "def slice_list_ndarr(orig_list, row_str, row_end, col_str, col_end):\n",
    "    # numpy.ndarray\n",
    "    # Начало вашего кода\n",
    "    nporing_list = np.array(orig_list)\n",
    "    return nporing_list[row_str:row_end, col_str:col_end].tolist()\n",
    "    # Конец вашего кода\n",
    "\n",
    "print(slice_list_ndarr(list_of_lists,1,4,1,3))"
   ]
  },
  {
   "cell_type": "markdown",
   "metadata": {},
   "source": [
    "### Ожидаемый результат\n",
    "```\n",
    "[[6, 7], [10, 11], [14, 15]]\n",
    "```"
   ]
  },
  {
   "cell_type": "markdown",
   "metadata": {},
   "source": [
    "# Прекрасная работа!"
   ]
  }
 ],
 "metadata": {
  "kernelspec": {
   "display_name": "Python 3",
   "language": "python",
   "name": "python3"
  },
  "language_info": {
   "codemirror_mode": {
    "name": "ipython",
    "version": 3
   },
   "file_extension": ".py",
   "mimetype": "text/x-python",
   "name": "python",
   "nbconvert_exporter": "python",
   "pygments_lexer": "ipython3",
   "version": "3.8.5"
  }
 },
 "nbformat": 4,
 "nbformat_minor": 2
}
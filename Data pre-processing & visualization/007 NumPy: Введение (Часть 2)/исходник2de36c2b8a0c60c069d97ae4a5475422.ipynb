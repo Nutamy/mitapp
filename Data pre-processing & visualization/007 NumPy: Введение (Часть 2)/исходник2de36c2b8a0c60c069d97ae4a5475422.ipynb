{
 "cells": [
  {
   "cell_type": "markdown",
   "metadata": {},
   "source": [
    "# Проверьте и найдите все ошибки в строках кода ниже и исправьте их. \n",
    "\n",
    "\n",
    "Пожалуйста, будьте осторожны, есть не только синтаксические ошибки, но и ошибки реализации. Чтобы исправить ошибки, связанные с реализациями, внимательно проверьте **ожидаемые результаты.**.\n",
    "Некоторые из блоков кода содержат более одной ошибки, имейте это в виду.\n",
    "Запустите каждый блок кода, просмотрите сообщения об ошибках (или разницу с ожидаемыми результатами) и исправьте их (одно за другим).\n",
    "\n",
    "\n",
    "**Обратите внимание: не перезаписывайте код, просто исправьте ошибки, и коды будут работать.**"
   ]
  },
  {
   "cell_type": "code",
   "execution_count": 1,
   "metadata": {},
   "outputs": [
    {
     "output_type": "error",
     "ename": "ImportError",
     "evalue": "cannot import name 'os' from 'os' (/home/nutamy/anaconda3/lib/python3.8/os.py)",
     "traceback": [
      "\u001b[0;31m---------------------------------------------------------------------------\u001b[0m",
      "\u001b[0;31mImportError\u001b[0m                               Traceback (most recent call last)",
      "\u001b[0;32m<ipython-input-1-e1fcb75ed1d9>\u001b[0m in \u001b[0;36m<module>\u001b[0;34m\u001b[0m\n\u001b[0;32m----> 1\u001b[0;31m \u001b[0;32mfrom\u001b[0m \u001b[0mos\u001b[0m \u001b[0;32mimport\u001b[0m \u001b[0mos\u001b[0m\u001b[0;34m\u001b[0m\u001b[0;34m\u001b[0m\u001b[0m\n\u001b[0m\u001b[1;32m      2\u001b[0m \u001b[0mprint\u001b[0m\u001b[0;34m(\u001b[0m\u001b[0mos\u001b[0m\u001b[0;34m)\u001b[0m\u001b[0;34m\u001b[0m\u001b[0;34m\u001b[0m\u001b[0m\n",
      "\u001b[0;31mImportError\u001b[0m: cannot import name 'os' from 'os' (/home/nutamy/anaconda3/lib/python3.8/os.py)"
     ]
    }
   ],
   "source": [
    "from os import os\n",
    "print(os)"
   ]
  },
  {
   "cell_type": "code",
   "execution_count": null,
   "metadata": {},
   "outputs": [],
   "source": [
    "print(os.list_dir())"
   ]
  },
  {
   "cell_type": "code",
   "execution_count": null,
   "metadata": {},
   "outputs": [],
   "source": [
    "import csv as c"
   ]
  },
  {
   "cell_type": "code",
   "execution_count": null,
   "metadata": {},
   "outputs": [],
   "source": [
    "with open(\"example.csv\") as file:\n",
    "    csv.writer=csv.writer(file)\n",
    "    for i in range(10):\n",
    "        csv.writer.writerow([i,i+1])\n",
    "        "
   ]
  },
  {
   "cell_type": "code",
   "execution_count": null,
   "metadata": {},
   "outputs": [],
   "source": [
    "data_a=[1,2,3,4]\n",
    "data_b=[2,3,4,5]\n",
    "\n",
    "with open(\"example1.csv\") as file:\n",
    "    out=csv.DictWriter(file,[\"a\",\"b\"])\n",
    "    for a,b in data_a,data_b:\n",
    "        out.writerow(a,b)"
   ]
  },
  {
   "cell_type": "code",
   "execution_count": null,
   "metadata": {},
   "outputs": [],
   "source": [
    "import datetime as dt\n",
    "\n",
    "date=\"01/01/2020\"\n",
    "new_date=dt.datetime(date,\"%d/%m/%Y\")\n",
    "print(new_date)\n",
    "print(new_date.format(\"%B %d %A %y\"))"
   ]
  },
  {
   "cell_type": "markdown",
   "metadata": {},
   "source": [
    "# Прекрасная работа!"
   ]
  }
 ],
 "metadata": {
  "kernelspec": {
   "display_name": "Python 3",
   "language": "python",
   "name": "python3"
  },
  "language_info": {
   "codemirror_mode": {
    "name": "ipython",
    "version": 3
   },
   "file_extension": ".py",
   "mimetype": "text/x-python",
   "name": "python",
   "nbconvert_exporter": "python",
   "pygments_lexer": "ipython3",
   "version": "3.8.5"
  }
 },
 "nbformat": 4,
 "nbformat_minor": 4
}
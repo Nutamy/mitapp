{
 "cells": [
  {
   "cell_type": "markdown",
   "metadata": {},
   "source": [
    "### NumPy: Введение (Часть 2) [Домашнее задание]\n",
    "\n",
    "> **Пожалуйста, избегайте использования одномерных массивов numpy.ndarray.**\n",
    "> **Пишите код только там, где это показано для записи. Не удаляйте комментарии!**"
   ]
  },
  {
   "cell_type": "markdown",
   "metadata": {},
   "source": [
    "1. Импортируйте пакет NumPy"
   ]
  },
  {
   "cell_type": "code",
   "execution_count": 62,
   "metadata": {},
   "outputs": [
    {
     "output_type": "stream",
     "name": "stdout",
     "text": [
      "1.19.5\n"
     ]
    }
   ],
   "source": [
    "# Начало вашего кода\n",
    "import numpy as np\n",
    "# Конец вашего кода\n",
    "print(np.__version__)"
   ]
  },
  {
   "cell_type": "markdown",
   "metadata": {},
   "source": [
    "### Ожидаемый результат\n",
    "```\n",
    "1.17.4\n",
    "```"
   ]
  },
  {
   "cell_type": "markdown",
   "metadata": {},
   "source": [
    "2. Создайте двумерный numpy.ndarray **numbers**, где первая строка содержит четные числа от 0 до 10, а вторая строка содержит нечетные числа от 0 до 10 (10 не учитывается в обоих случаях)."
   ]
  },
  {
   "cell_type": "code",
   "execution_count": 63,
   "metadata": {},
   "outputs": [
    {
     "output_type": "stream",
     "name": "stdout",
     "text": [
      "[[0 2 4 6 8]\n [1 3 5 7 9]]\n"
     ]
    }
   ],
   "source": [
    "# Начало вашего кода\n",
    "numbers = np.array([[x for x in range(0,10,2)],[x for x in range(1,10,2)]])\n",
    "# Конец вашего кода\n",
    "print(numbers)"
   ]
  },
  {
   "cell_type": "markdown",
   "metadata": {},
   "source": [
    "### Ожидаемый результат\n",
    "```\n",
    "[[0 2 4 6 8]\n",
    " [1 3 5 7 9]]\n",
    "```"
   ]
  },
  {
   "cell_type": "markdown",
   "metadata": {},
   "source": [
    "3. Пожалуйста, проверьте все важные атрибуты (упомянутые в видео-лекции) для numpy.ndarray even_np и распечатайте их."
   ]
  },
  {
   "cell_type": "code",
   "execution_count": 64,
   "metadata": {},
   "outputs": [
    {
     "output_type": "stream",
     "name": "stdout",
     "text": [
      "2\n(2, 5)\n10\nint64\n[[0 1]\n [2 3]\n [4 5]\n [6 7]\n [8 9]]\n"
     ]
    }
   ],
   "source": [
    "# Начало вашего кода\n",
    "print(numbers.ndim)\n",
    "print(numbers.shape)\n",
    "print(numbers.size)\n",
    "print(numbers.dtype)\n",
    "print(numbers.T)\n",
    "# Конец вашего кода"
   ]
  },
  {
   "cell_type": "markdown",
   "metadata": {},
   "source": [
    "### Ожидаемый результат\n",
    "```\n",
    "2\n",
    "(2, 5)\n",
    "10\n",
    "int64\n",
    "[[0 1]\n",
    " [2 3]\n",
    " [4 5]\n",
    " [6 7]\n",
    " [8 9]]\n",
    "```"
   ]
  },
  {
   "cell_type": "markdown",
   "metadata": {},
   "source": [
    "4. Найдите максимальное, минимальное, среднее, стандартное отклонение, используя методы numpy.ndarray."
   ]
  },
  {
   "cell_type": "code",
   "execution_count": 65,
   "metadata": {},
   "outputs": [
    {
     "output_type": "stream",
     "name": "stdout",
     "text": [
      "9\n0\n4.5\n2.8722813232690143\n"
     ]
    }
   ],
   "source": [
    "# Начало вашего кода\n",
    "overall_max = numbers.max()\n",
    "overall_min = numbers.min()\n",
    "overall_mean = numbers.mean()\n",
    "overall_std = numbers.std()\n",
    "# Конец вашего кода\n",
    "print(overall_max)\n",
    "print(overall_min)\n",
    "print(overall_mean)\n",
    "print(overall_std)"
   ]
  },
  {
   "cell_type": "markdown",
   "metadata": {},
   "source": [
    "### Ожидаемый результат\n",
    "```\n",
    "9\n",
    "0\n",
    "4.5\n",
    "2.8722813232690143\n",
    "```"
   ]
  },
  {
   "cell_type": "markdown",
   "metadata": {},
   "source": [
    "5. Найдите максимальное, минимальное, среднее, стандартное отклонение, используя методы numpy.ndarray для каждого **столбца**."
   ]
  },
  {
   "cell_type": "code",
   "execution_count": 66,
   "metadata": {},
   "outputs": [
    {
     "output_type": "stream",
     "name": "stdout",
     "text": [
      "[[1 3 5 7 9]]\n[[0 2 4 6 8]]\n[[0.5 2.5 4.5 6.5 8.5]]\n[[0.5 0.5 0.5 0.5 0.5]]\n"
     ]
    }
   ],
   "source": [
    "# Начало вашего кода\n",
    "col_max = numbers.max(axis=0, keepdims=True)\n",
    "col_min = numbers.min(axis=0, keepdims=True)\n",
    "col_mean = numbers.mean(axis=0, keepdims=True)\n",
    "col_std = numbers.std(axis=0, keepdims=True)\n",
    "# Конец вашего кода\n",
    "print(col_max)\n",
    "print(col_min)\n",
    "print(col_mean)\n",
    "print(col_std)"
   ]
  },
  {
   "cell_type": "markdown",
   "metadata": {},
   "source": [
    "### Ожидаемый результат\n",
    "```\n",
    "[[1 3 5 7 9]]\n",
    "[[0 2 4 6 8]]\n",
    "[[0.5 2.5 4.5 6.5 8.5]]\n",
    "[[0.5 0.5 0.5 0.5 0.5]]\n",
    "```"
   ]
  },
  {
   "cell_type": "markdown",
   "metadata": {},
   "source": [
    "6. Найдите максимальное, минимальное, среднее, стандартное отклонение, используя методы numpy.ndarray для каждой **строки**."
   ]
  },
  {
   "cell_type": "code",
   "execution_count": 67,
   "metadata": {},
   "outputs": [
    {
     "output_type": "stream",
     "name": "stdout",
     "text": [
      "[[8]\n [9]]\n[[0]\n [1]]\n[[4.]\n [5.]]\n[[2.82842712]\n [2.82842712]]\n"
     ]
    }
   ],
   "source": [
    "# Начало вашего кода\n",
    "row_max = numbers.max(axis=1, keepdims=True)\n",
    "row_min = numbers.min(axis=1, keepdims=True)\n",
    "row_mean = numbers.mean(axis=1, keepdims=True)\n",
    "row_std = numbers.std(axis=1, keepdims=True)\n",
    "# Конец вашего кода\n",
    "print(row_max)\n",
    "print(row_min)\n",
    "print(row_mean)\n",
    "print(row_std)"
   ]
  },
  {
   "cell_type": "markdown",
   "metadata": {},
   "source": [
    "### Ожидаемый результат\n",
    "```\n",
    "[[8]\n",
    " [9]]\n",
    "[[0]\n",
    " [1]]\n",
    "[[4.]\n",
    " [5.]]\n",
    "[[2.82842712]\n",
    " [2.82842712]]\n",
    "```"
   ]
  },
  {
   "cell_type": "markdown",
   "metadata": {},
   "source": [
    "7. Создайте объект numpy.ndarray из списка list_of_lists, приведенного ниже. Кроме того, рассчитать среднее значение и стандартное отклонение по всем осям."
   ]
  },
  {
   "cell_type": "code",
   "execution_count": 68,
   "metadata": {},
   "outputs": [
    {
     "output_type": "stream",
     "name": "stdout",
     "text": [
      "[[[ 1  2]\n  [ 3  4]]\n\n [[21 22]\n  [23 24]]]\n"
     ]
    }
   ],
   "source": [
    "list_of_lists = [[[1,2],[3,4]],[[21,22],[23,24]]]\n",
    "# Начало вашего кода\n",
    "thd_nparr = np.array(list_of_lists)\n",
    "thd_nparr_max = thd_nparr.max()\n",
    "thd_nparr_min = thd_nparr.min()\n",
    "thd_nparr_mean = thd_nparr.mean()\n",
    "thd_nparr_std = thd_nparr.std()\n",
    "# Конец вашего кода\n",
    "print(thd_nparr)"
   ]
  },
  {
   "cell_type": "markdown",
   "metadata": {},
   "source": [
    "### Ожидаемый результат\n",
    "```\n",
    "[[[ 1  2]\n",
    "  [ 3  4]]\n",
    "\n",
    " [[21 22]\n",
    "  [23 24]]]\n",
    "```"
   ]
  },
  {
   "cell_type": "code",
   "execution_count": 69,
   "metadata": {},
   "outputs": [
    {
     "output_type": "stream",
     "name": "stdout",
     "text": [
      "Mean with respect to 0-axis\n[[[11. 12.]\n  [13. 14.]]]\nSTD with respect to 0-axis\n[[[10. 10.]\n  [10. 10.]]]\nMean with respect to 1-axis\n[[[ 2.  3.]]\n\n [[22. 23.]]]\nSTD with respect to 1-axis\n[[[1. 1.]]\n\n [[1. 1.]]]\nMean with respect to 2-axis\n[[[ 1.5]\n  [ 3.5]]\n\n [[21.5]\n  [23.5]]]\nSTD with respect to 2-axis\n[[[0.5]\n  [0.5]]\n\n [[0.5]\n  [0.5]]]\n"
     ]
    }
   ],
   "source": [
    "# Начало вашего кода\n",
    "thd_nparr_mean_ax0 = thd_nparr.mean(axis=0, keepdims=True)\n",
    "print(f'Mean with respect to 0-axis\\n{thd_nparr_mean_ax0}')\n",
    "\n",
    "thd_nparr_std_ax0 = thd_nparr.std(axis=0, keepdims=True)\n",
    "print(f'STD with respect to 0-axis\\n{thd_nparr_std_ax0}')\n",
    "\n",
    "thd_nparr_mean_ax1 = thd_nparr.mean(axis=1, keepdims=True)\n",
    "print(f'Mean with respect to 1-axis\\n{thd_nparr_mean_ax1}')\n",
    "\n",
    "thd_nparr_std_ax1 = thd_nparr.std(axis=1, keepdims=True)\n",
    "print(f'STD with respect to 1-axis\\n{thd_nparr_std_ax1}')\n",
    "\n",
    "thd_nparr_mean_ax2 = thd_nparr.mean(axis=2, keepdims=True)\n",
    "print(f'Mean with respect to 2-axis\\n{thd_nparr_mean_ax2}')\n",
    "\n",
    "thd_nparr_std_ax2 = thd_nparr.std(axis=2, keepdims=True)\n",
    "print(f'STD with respect to 2-axis\\n{thd_nparr_std_ax2}')\n",
    "\n",
    "# Конец вашего кода"
   ]
  },
  {
   "cell_type": "markdown",
   "metadata": {},
   "source": [
    "### Ожидаемый результат\n",
    "```\n",
    "Mean with respect to 0-axis\n",
    "[[[11. 12.]\n",
    "  [13. 14.]]]\n",
    "STD with respect to 0-axis\n",
    "[[[10. 10.]\n",
    "  [10. 10.]]]\n",
    "\n",
    "\n",
    "Mean with respect to 1-axis\n",
    "[[[ 2.  3.]]\n",
    "\n",
    " [[22. 23.]]]\n",
    "STD with respect to 1-axis\n",
    "[[[1. 1.]]\n",
    "\n",
    " [[1. 1.]]]\n",
    "\n",
    "\n",
    "Mean with respect to 2-axis\n",
    "[[[ 1.5]\n",
    "  [ 3.5]]\n",
    "\n",
    " [[21.5]\n",
    "  [23.5]]]\n",
    "STD with respect to 2-axis\n",
    "[[[0.5]\n",
    "  [0.5]]\n",
    "\n",
    " [[0.5]\n",
    "  [0.5]]]\n",
    "```"
   ]
  },
  {
   "cell_type": "markdown",
   "metadata": {},
   "source": [
    "8. Пожалуйста, предоставьте применение следующих методов numpy.ndarray ниже:"
   ]
  },
  {
   "cell_type": "code",
   "execution_count": 70,
   "metadata": {},
   "outputs": [
    {
     "output_type": "stream",
     "name": "stdout",
     "text": [
      "[[ 1  2  3  4]\n [21 22 23 24]]\n"
     ]
    }
   ],
   "source": [
    "# ndarray.reshape()\n",
    "# Начало вашего кода\n",
    "thd_nparr_reshape = thd_nparr.reshape(2,4)\n",
    "print(thd_nparr_reshape)\n",
    "# Конец вашего кода"
   ]
  },
  {
   "cell_type": "code",
   "execution_count": 71,
   "metadata": {},
   "outputs": [
    {
     "output_type": "stream",
     "name": "stdout",
     "text": [
      "[ 1  2  3  4 21 22 23 24]\n"
     ]
    }
   ],
   "source": [
    "# ndarray.ravel()\n",
    "# Начало вашего кода\n",
    "print(thd_nparr.ravel())\n",
    "# Конец вашего кода"
   ]
  },
  {
   "cell_type": "code",
   "execution_count": 72,
   "metadata": {},
   "outputs": [
    {
     "output_type": "stream",
     "name": "stdout",
     "text": [
      "[[[1, 2], [3, 4]], [[21, 22], [23, 24]]]\n"
     ]
    }
   ],
   "source": [
    "# ndarray.tolist()\n",
    "# Начало вашего кода\n",
    "print(thd_nparr.tolist())\n",
    "# Конец вашего кода"
   ]
  },
  {
   "cell_type": "code",
   "execution_count": 73,
   "metadata": {},
   "outputs": [
    {
     "output_type": "stream",
     "name": "stdout",
     "text": [
      "[ 1  2  3  4 21 22 23 24]\n"
     ]
    }
   ],
   "source": [
    "# ndarray.tofile()\n",
    "# Начало вашего кода\n",
    "thd_nparr.tofile(\"file.bin\")\n",
    "print(np.fromfile(\"file.bin\",  dtype=np.int64))\n",
    "# Конец вашего кода"
   ]
  },
  {
   "cell_type": "code",
   "execution_count": 74,
   "metadata": {},
   "outputs": [
    {
     "output_type": "stream",
     "name": "stdout",
     "text": [
      "[[   2    7    1    8   90   11]\n [  77  100 4000    6   45   19]]\n-=-=-=-=-=-=-=-=-=-=-=-=-=-=-=-=-=-=-=-=-=-=-=-=-=-=-=-=-=-=-\nsrot\n[[   1    2    7    8   11   90]\n [   6   19   45   77  100 4000]]\n-=-=-=-=-=-=-=-=-=-=-=-=-=-=-=-=-=-=-=-=-=-=-=-=-=-=-=-=-=-=-\nsort/axis=0\n[[   2    7    1    6   45   11]\n [  77  100 4000    8   90   19]]\n-=-=-=-=-=-=-=-=-=-=-=-=-=-=-=-=-=-=-=-=-=-=-=-=-=-=-=-=-=-=-\nsort/axis=1\n[[   1    2    7    8   11   90]\n [   6   19   45   77  100 4000]]\n"
     ]
    }
   ],
   "source": [
    "# ndarray.sort()\n",
    "# Начало вашего кода\n",
    "a = np.array([[2,7,1,8,90,11],[77,100,4000,6,45,19]])\n",
    "print(a)\n",
    "print('-=-=-=-=-=-=-=-=-=-=-=-=-=-=-=-=-=-=-=-=-=-=-=-=-=-=-=-=-=-=-')\n",
    "a.sort()\n",
    "print(f'srot\\n{a}')\n",
    "print('-=-=-=-=-=-=-=-=-=-=-=-=-=-=-=-=-=-=-=-=-=-=-=-=-=-=-=-=-=-=-')\n",
    "b = np.array([[2,7,1,8,90,11],[77,100,4000,6,45,19]])\n",
    "b.sort(axis=0)\n",
    "print(f'sort/axis=0\\n{b}')\n",
    "print('-=-=-=-=-=-=-=-=-=-=-=-=-=-=-=-=-=-=-=-=-=-=-=-=-=-=-=-=-=-=-')\n",
    "c = np.array([[2,7,1,8,90,11],[77,100,4000,6,45,19]])\n",
    "c.sort(axis=1)\n",
    "print(f'sort/axis=1\\n{c}')\n",
    "# Конец вашего кода"
   ]
  },
  {
   "cell_type": "code",
   "execution_count": 75,
   "metadata": {},
   "outputs": [
    {
     "output_type": "stream",
     "name": "stdout",
     "text": [
      "[[   2   77]\n [   7  100]\n [   1 4000]\n [   8    6]\n [  90   45]\n [  11   19]]\n"
     ]
    }
   ],
   "source": [
    "# ndarray.transpose()\n",
    "# Начало вашего кода\n",
    "a = np.array([[2,7,1,8,90,11],[77,100,4000,6,45,19]])\n",
    "print(a.transpose())\n",
    "# Конец вашего кода"
   ]
  },
  {
   "cell_type": "code",
   "execution_count": 76,
   "metadata": {},
   "outputs": [
    {
     "output_type": "stream",
     "name": "stdout",
     "text": [
      "[   2    7    1    8   90   11   77  100 4000    6   45   19]\n"
     ]
    }
   ],
   "source": [
    "# ndarray.flatten()\n",
    "# Начало вашего кода\n",
    "a = np.array([[2,7,1,8,90,11],[77,100,4000,6,45,19]])\n",
    "print(a.flatten())\n",
    "# Конец вашего кода"
   ]
  },
  {
   "cell_type": "code",
   "execution_count": 77,
   "metadata": {},
   "outputs": [
    {
     "output_type": "stream",
     "name": "stdout",
     "text": [
      "[2 1 2 2 0 0]\n"
     ]
    }
   ],
   "source": [
    "# ndarray.argmin()\n",
    "# Начало вашего кода\n",
    "# Возвращает индекс мин знач по оси\n",
    "z = np.array([[20,70,10,80,90,11],[717,11,4450,69,95,19],[1,50,2,7,202,33]])\n",
    "print(z.argmin(axis=0))\n",
    "# Конец вашего кода"
   ]
  },
  {
   "cell_type": "code",
   "execution_count": 78,
   "metadata": {},
   "outputs": [
    {
     "output_type": "stream",
     "name": "stdout",
     "text": [
      "[4 2 4]\n"
     ]
    }
   ],
   "source": [
    "# ndarray.argmax()\n",
    "# Начало вашего кода\n",
    "# Возвращает максим значение по оси\n",
    "y = np.array([[20,70,10,80,90,11],[717,11,4450,69,95,19],[1,50,2,7,202,33]])\n",
    "print(y.argmax(axis=1))\n",
    "# Конец вашего кода"
   ]
  },
  {
   "cell_type": "code",
   "execution_count": 79,
   "metadata": {},
   "outputs": [
    {
     "output_type": "stream",
     "name": "stdout",
     "text": [
      "[ 1  3  6 10 15 21 28 36 45]\n"
     ]
    }
   ],
   "source": [
    "# ndarray.cumsum()\n",
    "# Начало вашего кода\n",
    "# складывает последовательно элемменты \n",
    "q = np.array([[1,2,3],[4,5,6],[7,8,9]])\n",
    "print(q.cumsum())\n",
    "# Конец вашего кода"
   ]
  },
  {
   "cell_type": "code",
   "execution_count": 80,
   "metadata": {},
   "outputs": [
    {
     "output_type": "stream",
     "name": "stdout",
     "text": [
      "[    1     2     6     6    30   180  1260 10080 90720]\n"
     ]
    }
   ],
   "source": [
    "# ndarray.cumprod()\n",
    "# Начало вашего кода\n",
    "# Последовательное перемножение \n",
    "q = np.array([[1,2,3],[1,5,6],[7,8,9]])\n",
    "print(q.cumprod())\n",
    "# Конец вашего кода"
   ]
  },
  {
   "cell_type": "code",
   "execution_count": 81,
   "metadata": {},
   "outputs": [
    {
     "output_type": "stream",
     "name": "stdout",
     "text": [
      "[[ 3  6  9]\n [ 3 15 18]\n [21 24 27]]\n"
     ]
    }
   ],
   "source": [
    "# ndarray.dot()\n",
    "# Начало вашего кода\n",
    "# Умножение матрицы на число\n",
    "print(q.dot(3))\n",
    "# Конец вашего кода"
   ]
  },
  {
   "cell_type": "code",
   "execution_count": 103,
   "metadata": {},
   "outputs": [
    {
     "output_type": "stream",
     "name": "stdout",
     "text": [
      "[1 2 3 4 5]\n"
     ]
    }
   ],
   "source": [
    "# ndarray.squeeze()\n",
    "# Начало вашего кода\n",
    "h2 = np.array([[1,2,3,4,5]])\n",
    "print(h2.squeeze(axis=0))\n",
    "#print(h.squeeze(axis=-1))\n",
    "# Конец вашего кода"
   ]
  },
  {
   "cell_type": "code",
   "execution_count": 109,
   "metadata": {},
   "outputs": [
    {
     "output_type": "stream",
     "name": "stdout",
     "text": [
      "[1 1 1 1 1 1 1 1 1 1 1 1 1 1 1 2 2 2 2 2 2 2 2 2 2 2 2 2 2 2 9 9 9 9 9 9 9\n 9 9 9 9 9 9 9 9 7 7 7 7 7 7 7 7 7 7 7 7 7 7 7 3 3 3 3 3 3 3 3 3 3 3 3 3 3\n 3 4 4 4 4 4 4 4 4 4 4 4 4 4 4 4 0 0 0 0 0 0 0 0 0 0 0 0 0 0 0 5 5 5 5 5 5\n 5 5 5 5 5 5 5 5 5 6 6 6 6 6 6 6 6 6 6 6 6 6 6 6]\n"
     ]
    }
   ],
   "source": [
    "# ndarray.repeat()\n",
    "# Начало вашего кода\n",
    "h = np.array([[[1,1,1],[2,2,2],[9,9,9]],[[7,7,7],[3,3,3],[4,4,4]],[[0,0,0],[5,5,5],[6,6,6]]])\n",
    "print(h.repeat(5))\n",
    "# Конец вашего кода"
   ]
  },
  {
   "cell_type": "code",
   "execution_count": null,
   "metadata": {},
   "outputs": [],
   "source": [
    "h = np.array([[[1,1,1],[2,2,2],[9,9,9]],[[7,7,7],[3,3,3],[4,4,4]],[[0,0,0],[5,5,5],[6,6,6]]])\n",
    "print(h.shape)"
   ]
  },
  {
   "cell_type": "markdown",
   "metadata": {},
   "source": [
    "# Прекрасная работа!"
   ]
  }
 ],
 "metadata": {
  "kernelspec": {
   "display_name": "Python 3",
   "language": "python",
   "name": "python3"
  },
  "language_info": {
   "codemirror_mode": {
    "name": "ipython",
    "version": 3
   },
   "file_extension": ".py",
   "mimetype": "text/x-python",
   "name": "python",
   "nbconvert_exporter": "python",
   "pygments_lexer": "ipython3",
   "version": "3.8.5"
  }
 },
 "nbformat": 4,
 "nbformat_minor": 2
}
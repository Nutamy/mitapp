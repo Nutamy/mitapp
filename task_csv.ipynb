{
 "cells": [
  {
   "cell_type": "markdown",
   "metadata": {},
   "source": [
    "### Файлы: CSV-формат [Домашнее задание]\n",
    "\n",
    "Загрузите на свой ПК CSV-файл «Annual enterprise survey: 2018 financial year (provisional) – CSV» по следующей ссылке: https://www.stats.govt.nz/large-datasets/csv-files-for-download/"
   ]
  },
  {
   "cell_type": "code",
   "execution_count": 2,
   "metadata": {},
   "outputs": [],
   "source": [
    "import csv\n",
    "rows = [['Mike','Alex','Patrik'], ['Brad', 'Arnold', 'Jason', 'James']]"
   ]
  },
  {
   "cell_type": "code",
   "execution_count": 120,
   "metadata": {},
   "outputs": [],
   "source": [
    "data = []\n",
    "with open(\"./annual-enterprise-survey-2018-financial-year-provisional-csv.csv\", 'r') as file:\n",
    "    # Начало вашего кода \n",
    "    data = list(csv.reader(file, delimiter = \",\"))\n",
    "    # Конец вашего кода\n",
    "\n",
    "col_titles = data[:1]\n",
    "data = data[1:]"
   ]
  },
  {
   "cell_type": "code",
   "execution_count": 121,
   "metadata": {},
   "outputs": [
    {
     "output_type": "stream",
     "name": "stdout",
     "text": [
      "[['Year', 'Industry_aggregation_NZSIOC', 'Industry_code_NZSIOC', 'Industry_name_NZSIOC', 'Units', 'Variable_code', 'Variable_name', 'Variable_category', 'Value', 'Industry_code_ANZSIC06']]\n"
     ]
    }
   ],
   "source": [
    "print(col_titles)"
   ]
  },
  {
   "cell_type": "markdown",
   "metadata": {},
   "source": [
    "### Ожидаемый результат:\n",
    "```\n",
    "[['Year', 'Industry_aggregation_NZSIOC', 'Industry_code_NZSIOC', 'Industry_name_NZSIOC', 'Units', 'Variable_code', 'Variable_name', 'Variable_category', 'Value', 'Industry_code_ANZSIC06']]\n",
    "```"
   ]
  },
  {
   "cell_type": "code",
   "execution_count": 44,
   "metadata": {},
   "outputs": [
    {
     "output_type": "stream",
     "name": "stdout",
     "text": [
      "[['2018', 'Level 1', '99999', 'All industries', 'Dollars (millions)', 'H01', 'Total income', 'Financial performance', '691859', 'ANZSIC06 divisions A-S (excluding classes K6330, L6711, O7552, O760, O771, O772, S9540, S9601, S9602, and S9603)'], ['2018', 'Level 1', '99999', 'All industries', 'Dollars (millions)', 'H04', 'Sales, government funding, grants and subsidies', 'Financial performance', '605766', 'ANZSIC06 divisions A-S (excluding classes K6330, L6711, O7552, O760, O771, O772, S9540, S9601, S9602, and S9603)'], ['2018', 'Level 1', '99999', 'All industries', 'Dollars (millions)', 'H05', 'Interest, dividends and donations', 'Financial performance', '63509', 'ANZSIC06 divisions A-S (excluding classes K6330, L6711, O7552, O760, O771, O772, S9540, S9601, S9602, and S9603)'], ['2018', 'Level 1', '99999', 'All industries', 'Dollars (millions)', 'H07', 'Non-operating income', 'Financial performance', '22583', 'ANZSIC06 divisions A-S (excluding classes K6330, L6711, O7552, O760, O771, O772, S9540, S9601, S9602, and S9603)'], ['2018', 'Level 1', '99999', 'All industries', 'Dollars (millions)', 'H08', 'Total expenditure', 'Financial performance', '597623', 'ANZSIC06 divisions A-S (excluding classes K6330, L6711, O7552, O760, O771, O772, S9540, S9601, S9602, and S9603)']]\n"
     ]
    }
   ],
   "source": [
    "print(data[:5])"
   ]
  },
  {
   "cell_type": "markdown",
   "metadata": {},
   "source": [
    "### Ожидаемый результат:\n",
    "```\n",
    "[['2018', 'Level 1', '99999', 'All industries', 'Dollars (millions)', 'H01', 'Total income', 'Financial performance', '691859', 'ANZSIC06 divisions A-S (excluding classes K6330, L6711, O7552, O760, O771, O772, S9540, S9601, S9602, and S9603)'], ['2018', 'Level 1', '99999', 'All industries', 'Dollars (millions)', 'H04', 'Sales, government funding, grants and subsidies', 'Financial performance', '605766', 'ANZSIC06 divisions A-S (excluding classes K6330, L6711, O7552, O760, O771, O772, S9540, S9601, S9602, and S9603)'], ['2018', 'Level 1', '99999', 'All industries', 'Dollars (millions)', 'H05', 'Interest, dividends and donations', 'Financial performance', '63509', 'ANZSIC06 divisions A-S (excluding classes K6330, L6711, O7552, O760, O771, O772, S9540, S9601, S9602, and S9603)'], ['2018', 'Level 1', '99999', 'All industries', 'Dollars (millions)', 'H07', 'Non-operating income', 'Financial performance', '22583', 'ANZSIC06 divisions A-S (excluding classes K6330, L6711, O7552, O760, O771, O772, S9540, S9601, S9602, and S9603)'], ['2018', 'Level 1', '99999', 'All industries', 'Dollars (millions)', 'H08', 'Total expenditure', 'Financial performance', '597623', 'ANZSIC06 divisions A-S (excluding classes K6330, L6711, O7552, O760, O771, O772, S9540, S9601, S9602, and S9603)']]\n",
    "```"
   ]
  },
  {
   "cell_type": "code",
   "execution_count": 45,
   "metadata": {},
   "outputs": [
    {
     "output_type": "stream",
     "name": "stdout",
     "text": [
      "[['2013', 'Level 3', 'ZZ11', 'Food product manufacturing', 'Percentage', 'H37', 'Quick ratio', 'Financial ratios', '52', 'ANZSIC06 groups C111, C112, C113, C114, C115, C116, C117, C118, and C119'], ['2013', 'Level 3', 'ZZ11', 'Food product manufacturing', 'Percentage', 'H38', 'Margin on sales of goods for resale', 'Financial ratios', '40', 'ANZSIC06 groups C111, C112, C113, C114, C115, C116, C117, C118, and C119'], ['2013', 'Level 3', 'ZZ11', 'Food product manufacturing', 'Percentage', 'H39', 'Return on equity', 'Financial ratios', '12', 'ANZSIC06 groups C111, C112, C113, C114, C115, C116, C117, C118, and C119'], ['2013', 'Level 3', 'ZZ11', 'Food product manufacturing', 'Percentage', 'H40', 'Return on total assets', 'Financial ratios', '5', 'ANZSIC06 groups C111, C112, C113, C114, C115, C116, C117, C118, and C119'], ['2013', 'Level 3', 'ZZ11', 'Food product manufacturing', 'Percentage', 'H41', 'Liabilities structure', 'Financial ratios', '46', 'ANZSIC06 groups C111, C112, C113, C114, C115, C116, C117, C118, and C119']]\n"
     ]
    }
   ],
   "source": [
    "print(data[-5:])"
   ]
  },
  {
   "cell_type": "markdown",
   "metadata": {},
   "source": [
    "### Ожидаемый результат:\n",
    "```\n",
    "[['2013', 'Level 3', 'ZZ11', 'Food product manufacturing', 'Percentage', 'H37', 'Quick ratio', 'Financial ratios', '52', 'ANZSIC06 groups C111, C112, C113, C114, C115, C116, C117, C118, and C119'], ['2013', 'Level 3', 'ZZ11', 'Food product manufacturing', 'Percentage', 'H38', 'Margin on sales of goods for resale', 'Financial ratios', '40', 'ANZSIC06 groups C111, C112, C113, C114, C115, C116, C117, C118, and C119'], ['2013', 'Level 3', 'ZZ11', 'Food product manufacturing', 'Percentage', 'H39', 'Return on equity', 'Financial ratios', '12', 'ANZSIC06 groups C111, C112, C113, C114, C115, C116, C117, C118, and C119'], ['2013', 'Level 3', 'ZZ11', 'Food product manufacturing', 'Percentage', 'H40', 'Return on total assets', 'Financial ratios', '5', 'ANZSIC06 groups C111, C112, C113, C114, C115, C116, C117, C118, and C119'], ['2013', 'Level 3', 'ZZ11', 'Food product manufacturing', 'Percentage', 'H41', 'Liabilities structure', 'Financial ratios', '46', 'ANZSIC06 groups C111, C112, C113, C114, C115, C116, C117, C118, and C119']]\n",
    "```"
   ]
  },
  {
   "cell_type": "markdown",
   "metadata": {},
   "source": [
    "----\n",
    "### 1. Подсчитайте, сколько существует различных уровней агрегации отрасли (Industry_aggregation_NZSIOC)"
   ]
  },
  {
   "cell_type": "code",
   "execution_count": 61,
   "metadata": {
    "tags": []
   },
   "outputs": [],
   "source": [
    "unique_levels = set()\n",
    "\n",
    "for row in data:\n",
    "    # Начало вашего кода \n",
    "    unique_levels.update(row[1:2])\n",
    "  \n",
    "    # Конец вашего кода"
   ]
  },
  {
   "cell_type": "code",
   "execution_count": 62,
   "metadata": {
    "tags": []
   },
   "outputs": [
    {
     "output_type": "stream",
     "name": "stdout",
     "text": [
      "{'Level 1', 'Level 4', 'Level 3'}\n3\n"
     ]
    }
   ],
   "source": [
    "print(unique_levels)\n",
    "print(len(unique_levels))"
   ]
  },
  {
   "cell_type": "markdown",
   "metadata": {},
   "source": [
    "### Ожидаемый результат:\n",
    "```\n",
    "{'Level 4', 'Level 3', 'Level 1'}\n",
    "3\n",
    "```"
   ]
  },
  {
   "cell_type": "markdown",
   "metadata": {},
   "source": [
    "### 2. Подсчитайте, сколько существует различных отраслей (Industry_name_NZSIOC), и верните список этих уникальных отраслей. "
   ]
  },
  {
   "cell_type": "code",
   "execution_count": 135,
   "metadata": {
    "tags": []
   },
   "outputs": [],
   "source": [
    "unique_industries = set()\n",
    "\n",
    "for row in data:\n",
    "    # Начало вашего кода \n",
    "    unique_industries.update(row[3:4])\n",
    "    # Конец вашего кода"
   ]
  },
  {
   "cell_type": "code",
   "execution_count": 136,
   "metadata": {},
   "outputs": [
    {
     "output_type": "stream",
     "name": "stdout",
     "text": [
      "{'Other Store-Based Retailing and Non Store Retailing', 'Tertiary Education', 'Construction Services', 'Electronic and Electrical Equipment Manufacturing', 'Electricity, Gas, Water and Waste Services', 'Adult, Community and Other Education', 'Electricity and Gas Supply', 'Polymer Product and Rubber Product Manufacturing', 'Grocery, Liquor and Tobacco Product Wholesaling', 'Wood Product Manufacturing', 'Real Estate Services', 'Insurance', 'Personal Care, Funeral and Other Personal Services', 'Gambling Activities', 'Machinery and Other Equipment Manufacturing', 'Heritage and Artistic Activities', 'Advertising, Market Research and Management Services', 'Agriculture, Forestry and Fishing', 'Professional, Scientific and Technical Services', 'Veterinary and Other Professional Services', 'Postal and Courier Pick Up and Delivery Services', 'Transport Equipment Manufacturing', 'Mining', 'Non-Residential Building Construction', 'Construction', 'Building Cleaning, Pest Control and Other Support Services', 'Retail Trade and Accommodation', 'Rental, Hiring and Real Estate Services', 'Legal and Accounting Services', 'Non-Residential Property Operation', 'All industries', 'Transport Support Services', 'Health and General Insurance', 'Transport, Postal and Warehousing', 'Machinery and Equipment Wholesaling', 'Residential Building Construction', 'Building Construction', 'Agriculture, Forestry and Fishing Support Services and Hunting', 'Health Care and Social Assistance', 'Medical and Other Health Care Services', 'Sheep, Beef Cattle and Grain Farming', 'Beverage and Tobacco Product Manufacturing', 'Basic Chemical and Basic Polymer Manufacturing', 'Public Order, Safety and Regulatory Services', 'Machinery Manufacturing', 'Food product manufacturing', 'Telecommunications, Internet and Library Services', 'Motor Vehicle and Motor Vehicle Parts Wholesaling', 'Arts, Recreation and Other Services', 'Information Media Services', 'Clothing, Knitted Products and Footwear Manufacturing', 'Auxiliary Finance and Insurance Services', 'Public order, safety and regulatory services', 'Fertiliser and Pesticide Manufacturing', 'Furniture and Other Manufacturing', 'Poultry, Deer and Other Livestock Farming', 'Other Services', 'Arts and Recreation Services', 'Postal, Courier, Transport Support, and Warehousing Services', 'Dairy Cattle Farming', 'Rail, Water, Air and Other Transport', 'Printing', 'Administrative and Support Services', 'Motor Vehicle and Motor Vehicle Parts and Fuel Retailing', 'Heavy and Civil Engineering Construction', 'Recreational, Clothing, Footwear and Personal Accessory Retailing', 'Non-Metallic Mineral Product Manufacturing', 'Fishing and Aquaculture', 'Professional, Scientific, Technical, Administrative and Support Services', 'Pharmaceutical, Cleaning and Other Chemical Manufacturing', 'Manufacturing', 'Accommodation', 'Employment and Other Administrative Services', 'Commission Based Wholesaling', 'Department Stores', 'School Education', 'Information Media and Telecommunications', 'Warehousing and Storage Services', 'Water, Sewerage, Drainage and Waste Services', 'Repair and Maintenance', 'Road Transport', 'Furniture Manufacturing', 'Non-Store and Commission Based Retailing', 'Education and Training', 'Textile and Leather Manufacturing', 'Scientific, Architectural and Engineering Services', 'Horticulture and Fruit Growing', 'Financial Asset Investing', 'Computer System Design and Related Services', 'Banking and Financing', 'Pharmaceutical and Other Store Based Retailing', 'Life Insurance', 'Hospitals', 'Other Manufacturing', 'Rental and Hiring Services (except Real Estate)', 'Food and Beverage Services', 'Accommodation and Food Services', 'Furniture, Electrical and Hardware Retailing', 'Preschool Education', 'Pulp, Paper and Converted Paper Product Manufacturing', 'Textile, Leather, Clothing and Footwear Manufacturing', 'Property Operators and Real Estate Services', 'Residential Care Services and Social Assistance', 'Fabricated Metal Product Manufacturing', 'Primary Metal and Metal Product Manufacturing', 'Non-Financial Asset Leasing', 'Financial and Insurance Services', 'Forestry and Logging', 'Other Goods Wholesaling', 'Finance', 'Sport and Recreation Activities', 'Basic Material Wholesaling', 'Civil, Professional and Other Interest Groups', 'Petroleum and Coal Product Manufacturing', 'Basic Chemical and Chemical Product Manufacturing', 'Food Product Manufacturing', 'Wholesale Trade', 'Travel Agency and Tour Arrangement Services', 'Supermarket, Grocery Stores and Specialised Food Retailing'}\n119\n"
     ]
    }
   ],
   "source": [
    "print(unique_industries)\n",
    "print(len(unique_industries))"
   ]
  },
  {
   "cell_type": "markdown",
   "metadata": {},
   "source": [
    "### Ожидаемый результат:\n",
    "```\n",
    "{'Electricity, Gas, Water and Waste Services', 'Insurance', 'Recreational, Clothing, Footwear and Personal Accessory Retailing', 'Auxiliary Finance and Insurance Services', 'Non-Financial Asset Leasing', 'Education and Training', 'Textile and Leather Manufacturing', 'Commission Based Wholesaling', 'Financial and Insurance Services', 'Supermarket, Grocery Stores and Specialised Food Retailing', 'Information Media and Telecommunications', 'Legal and Accounting Services', 'Hospitals', 'Basic Chemical and Chemical Product Manufacturing', 'Motor Vehicle and Motor Vehicle Parts Wholesaling', 'Transport, Postal and Warehousing', 'Other Goods Wholesaling', 'Machinery Manufacturing', 'Food and Beverage Services', 'Health and General Insurance', 'Sport and Recreation Activities', 'Horticulture and Fruit Growing', 'Travel Agency and Tour Arrangement Services', 'Petroleum and Coal Product Manufacturing', 'Sheep, Beef Cattle and Grain Farming', 'Professional, Scientific, Technical, Administrative and Support Services', 'Non-Residential Building Construction', 'Heritage and Artistic Activities', 'Dairy Cattle Farming', 'Food Product Manufacturing', 'Mining', 'Financial Asset Investing', 'Clothing, Knitted Products and Footwear Manufacturing', 'Basic Chemical and Basic Polymer Manufacturing', 'Wholesale Trade', 'Agriculture, Forestry and Fishing', 'Personal Care, Funeral and Other Personal Services', 'Transport Equipment Manufacturing', 'All industries', 'Rental and Hiring Services (except Real Estate)', 'Property Operators and Real Estate Services', 'Heavy and Civil Engineering Construction', 'Food product manufacturing', 'Construction Services', 'Machinery and Other Equipment Manufacturing', 'Other Services', 'Banking and Financing', 'Health Care and Social Assistance', 'Information Media Services', 'Electronic and Electrical Equipment Manufacturing', 'Gambling Activities', 'Employment and Other Administrative Services', 'Warehousing and Storage Services', 'Retail Trade and Accommodation', 'Finance', 'Water, Sewerage, Drainage and Waste Services', 'Arts and Recreation Services', 'Road Transport', 'Printing', 'Furniture and Other Manufacturing', 'Furniture, Electrical and Hardware Retailing', 'Residential Care Services and Social Assistance', 'Civil, Professional and Other Interest Groups', 'Life Insurance', 'Building Construction', 'Other Manufacturing', 'Accommodation', 'Rail, Water, Air and Other Transport', 'Telecommunications, Internet and Library Services', 'Manufacturing', 'Motor Vehicle and Motor Vehicle Parts and Fuel Retailing', 'Beverage and Tobacco Product Manufacturing', 'Primary Metal and Metal Product Manufacturing', 'Preschool Education', 'Fabricated Metal Product Manufacturing', 'Public Order, Safety and Regulatory Services', 'Wood Product Manufacturing', 'Poultry, Deer and Other Livestock Farming', 'School Education', 'Administrative and Support Services', 'Non-Residential Property Operation', 'Repair and Maintenance', 'Polymer Product and Rubber Product Manufacturing', 'Accommodation and Food Services', 'Pulp, Paper and Converted Paper Product Manufacturing', 'Residential Building Construction', 'Adult, Community and Other Education', 'Non-Metallic Mineral Product Manufacturing', 'Pharmaceutical, Cleaning and Other Chemical Manufacturing', 'Non-Store and Commission Based Retailing', 'Rental, Hiring and Real Estate Services', 'Fertiliser and Pesticide Manufacturing', 'Electricity and Gas Supply', 'Forestry and Logging', 'Furniture Manufacturing', 'Pharmaceutical and Other Store Based Retailing', 'Department Stores', 'Transport Support Services', 'Construction', 'Public order, safety and regulatory services', 'Tertiary Education', 'Medical and Other Health Care Services', 'Postal, Courier, Transport Support, and Warehousing Services', 'Basic Material Wholesaling', 'Computer System Design and Related Services', 'Arts, Recreation and Other Services', 'Postal and Courier Pick Up and Delivery Services', 'Real Estate Services', 'Advertising, Market Research and Management Services', 'Veterinary and Other Professional Services', 'Fishing and Aquaculture', 'Machinery and Equipment Wholesaling', 'Professional, Scientific and Technical Services', 'Grocery, Liquor and Tobacco Product Wholesaling', 'Other Store-Based Retailing and Non Store Retailing', 'Agriculture, Forestry and Fishing Support Services and Hunting', 'Building Cleaning, Pest Control and Other Support Services', 'Textile, Leather, Clothing and Footwear Manufacturing', 'Scientific, Architectural and Engineering Services'}\n",
    "119\n",
    "```"
   ]
  },
  {
   "cell_type": "markdown",
   "metadata": {},
   "source": [
    "### 3. Создайте новые csv-файлы, содержащие данные только за тот же год. Пример: 2018.csv, 2017.csv и т. д."
   ]
  },
  {
   "cell_type": "code",
   "execution_count": 167,
   "metadata": {
    "tags": []
   },
   "outputs": [
    {
     "output_type": "stream",
     "name": "stdout",
     "text": [
      "{'2015', '2013', '2018', '2017', '2014', '2016'}\n"
     ]
    }
   ],
   "source": [
    "unique_years = set()\n",
    "\n",
    "for row in data:\n",
    "    # Начало вашего кода \n",
    "    unique_years.update(row[0:1])\n",
    "    # Конец вашего кода\n",
    "print(unique_years)"
   ]
  },
  {
   "cell_type": "markdown",
   "metadata": {},
   "source": [
    "### Ожидаемый результат:\n",
    "```\n",
    "{'2013', '2018', '2017', '2014', '2016', '2015'}\n",
    "```"
   ]
  },
  {
   "cell_type": "code",
   "execution_count": 142,
   "metadata": {},
   "outputs": [
    {
     "output_type": "stream",
     "name": "stdout",
     "text": [
      "2015.csv is written\n2013.csv is written\n2018.csv is written\n2017.csv is written\n2014.csv is written\n2016.csv is written\n"
     ]
    }
   ],
   "source": [
    "for year in unique_years:\n",
    "    with open(\"{}.csv\".format(year), \"w\") as ofile:\n",
    "        # Начало вашего кода \n",
    "        writer = csv.writer(ofile)\n",
    "        writer.writerows('')\n",
    "        # Конец вашего кода\n",
    "        print(\"{}.csv is written\".format(year))"
   ]
  },
  {
   "cell_type": "markdown",
   "metadata": {},
   "source": [
    "### Ожидаемый результат:\n",
    "```\n",
    "2013.csv is written\n",
    "2018.csv is written\n",
    "2017.csv is written\n",
    "2014.csv is written\n",
    "2016.csv is written\n",
    "2015.csv is written\n",
    "```"
   ]
  },
  {
   "cell_type": "code",
   "execution_count": 140,
   "metadata": {},
   "outputs": [
    {
     "output_type": "stream",
     "name": "stdout",
     "text": [
      "['annual-enterprise-survey-2019-financial-year-provisional-csv.csv', 'annual-enterprise-survey-2018-financial-year-provisional-csv.csv']\n"
     ]
    }
   ],
   "source": [
    "import os\n",
    "\n",
    "list_of_files = [file for file in os.listdir(\"./\") if file.endswith(\".csv\")]\n",
    "print(list_of_files)"
   ]
  },
  {
   "cell_type": "markdown",
   "metadata": {},
   "source": [
    "### Ожидаемый результат:\n",
    "```\n",
    "['2018.csv', '2015.csv', '2014.csv', '2016.csv', '2017.csv', '2013.csv', 'annual-enterprise-survey-2018-financial-year-provisional-csv.csv']\n",
    "```\n",
    "\n",
    "\n",
    "**Пожалуйста, откройте только что созданные вами CSV-файлы и проверьте, совпадает ли год в этих файлах с именем файла.**"
   ]
  },
  {
   "cell_type": "markdown",
   "metadata": {},
   "source": [
    "### 4. Дополнительно: просто попробуйте проанализировать больше данных из csv-файла, используя все имеющиеся у вас знания. Пример: сортировка данных по конкретному столбцу."
   ]
  },
  {
   "cell_type": "code",
   "execution_count": 168,
   "metadata": {},
   "outputs": [],
   "source": [
    "sum_values = 0\n",
    "\n",
    "for row in data:\n",
    "    # Начало вашего кода \n",
    "    for i in row[8:9]:\n",
    "        try:\n",
    "            sum_values += int(i)\n",
    "        except:\n",
    "            continue\n",
    "    # Конец вашего кода"
   ]
  },
  {
   "cell_type": "code",
   "execution_count": 169,
   "metadata": {},
   "outputs": [
    {
     "output_type": "stream",
     "name": "stdout",
     "text": [
      "808474992\n"
     ]
    }
   ],
   "source": [
    "print(sum_values)"
   ]
  },
  {
   "cell_type": "code",
   "execution_count": null,
   "metadata": {},
   "outputs": [],
   "source": []
  }
 ],
 "metadata": {
  "kernelspec": {
   "display_name": "Python 3",
   "language": "python",
   "name": "python3"
  },
  "language_info": {
   "codemirror_mode": {
    "name": "ipython",
    "version": 3
   },
   "file_extension": ".py",
   "mimetype": "text/x-python",
   "name": "python",
   "nbconvert_exporter": "python",
   "pygments_lexer": "ipython3",
   "version": "3.8.5-final"
  }
 },
 "nbformat": 4,
 "nbformat_minor": 2
}
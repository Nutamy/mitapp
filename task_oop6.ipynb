{
 "cells": [
  {
   "cell_type": "markdown",
   "metadata": {},
   "source": [
    "### ООП: Ассоциация [Домашнее задание]\n",
    "\n",
    "---"
   ]
  },
  {
   "cell_type": "markdown",
   "metadata": {},
   "source": [
    "### Шаг 1:\n",
    "\n",
    "Пожалуйста, спроектируйте класс **Rectange** (Прямоугольник) таким образом, чтобы все следующие блоки кодов приводили к ожидаемым результатам."
   ]
  },
  {
   "cell_type": "code",
   "execution_count": 1,
   "metadata": {},
   "outputs": [],
   "source": [
    "class Rectangle:\n",
    "    def __init__(self, width=None, height=None):\n",
    "        # Начало вашего кода\n",
    "        try:\n",
    "            self.width = width\n",
    "            self.height = height\n",
    "        except:\n",
    "            return 'You didn\\'t provide width or height properly'\n",
    "\n",
    "        # Конец вашего кода\n",
    "    \n",
    "    def __str__(self):\n",
    "        # Начало вашего кода\n",
    "        return 'Rectangle with width {width} cm and height {height} cm'.format(width = self.width, height = self.height)\n",
    "        # Конец вашего кода\n",
    "    \n",
    "    def get_area(self):\n",
    "        # Начало вашего кода\n",
    "        area = self.width * self.height\n",
    "        return area\n",
    "        # Конец вашего кода\n",
    "        \n",
    "    def get_perimeter(self):\n",
    "        # Начало вашего кода\n",
    "        p = self.width * 2 + self.height * 2\n",
    "        return p\n",
    "        # Конец вашего кода\n",
    "    \n",
    "    @staticmethod\n",
    "    def get_info():\n",
    "        # Начало вашего кода\n",
    "        return 'This class calculates perimeter and area of the rectangles'\n",
    "        # Конец вашего кода"
   ]
  },
  {
   "cell_type": "code",
   "execution_count": 2,
   "metadata": {},
   "outputs": [
    {
     "output_type": "stream",
     "name": "stdout",
     "text": [
      "['__class__', '__delattr__', '__dict__', '__dir__', '__doc__', '__eq__', '__format__', '__ge__', '__getattribute__', '__gt__', '__hash__', '__init__', '__init_subclass__', '__le__', '__lt__', '__module__', '__ne__', '__new__', '__reduce__', '__reduce_ex__', '__repr__', '__setattr__', '__sizeof__', '__str__', '__subclasshook__', '__weakref__', 'get_area', 'get_info', 'get_perimeter']\n"
     ]
    }
   ],
   "source": [
    "print(dir(Rectangle))"
   ]
  },
  {
   "cell_type": "markdown",
   "metadata": {},
   "source": [
    "### Ожидаемый результат:\n",
    "```\n",
    "['__class__', '__delattr__', '__dict__', '__dir__', '__doc__', '__eq__', '__format__', '__ge__', '__getattribute__', '__gt__', '__hash__', '__init__', '__init_subclass__', '__le__', '__lt__', '__module__', '__ne__', '__new__', '__reduce__', '__reduce_ex__', '__repr__', '__setattr__', '__sizeof__', '__str__', '__subclasshook__', '__weakref__', 'get_area', 'get_info', 'get_perimeter']\n",
    "```"
   ]
  },
  {
   "cell_type": "code",
   "execution_count": 3,
   "metadata": {},
   "outputs": [],
   "source": [
    "p = Rectangle()"
   ]
  },
  {
   "cell_type": "code",
   "execution_count": 4,
   "metadata": {},
   "outputs": [
    {
     "output_type": "stream",
     "name": "stdout",
     "text": [
      "This class calculates perimeter and area of the rectangles\n"
     ]
    }
   ],
   "source": [
    "print(Rectangle.get_info())"
   ]
  },
  {
   "cell_type": "markdown",
   "metadata": {},
   "source": [
    "### Ожидаемый результат:\n",
    "```\n",
    "This class calculates perimeter and area of the rectangles\n",
    "```"
   ]
  },
  {
   "cell_type": "code",
   "execution_count": 5,
   "metadata": {},
   "outputs": [],
   "source": [
    "r1 = Rectangle(width=3, height=5)"
   ]
  },
  {
   "cell_type": "code",
   "execution_count": 6,
   "metadata": {},
   "outputs": [
    {
     "output_type": "stream",
     "name": "stdout",
     "text": [
      "Rectangle with width 3 cm and height 5 cm\n"
     ]
    }
   ],
   "source": [
    "print(r1)"
   ]
  },
  {
   "cell_type": "markdown",
   "metadata": {},
   "source": [
    "### Ожидаемый результат:\n",
    "```\n",
    "Rectangle with width 3 cm and height 5 cm\n",
    "```"
   ]
  },
  {
   "cell_type": "code",
   "execution_count": 7,
   "metadata": {},
   "outputs": [
    {
     "output_type": "stream",
     "name": "stdout",
     "text": [
      "The perimeter is 16 cm\n"
     ]
    }
   ],
   "source": [
    "print(\"The perimeter is {} cm\".format(r1.get_perimeter()))"
   ]
  },
  {
   "cell_type": "markdown",
   "metadata": {},
   "source": [
    "### Ожидаемый результат:\n",
    "```\n",
    "The perimeter is 16 cm\n",
    "```"
   ]
  },
  {
   "cell_type": "code",
   "execution_count": 8,
   "metadata": {},
   "outputs": [
    {
     "output_type": "stream",
     "name": "stdout",
     "text": [
      "The area is 15 cm2\n"
     ]
    }
   ],
   "source": [
    "print(\"The area is {} cm2\".format(r1.get_area()))"
   ]
  },
  {
   "cell_type": "markdown",
   "metadata": {},
   "source": [
    "### Ожидаемый результат:\n",
    "```\n",
    "The area is 15 cm2\n",
    "```"
   ]
  },
  {
   "cell_type": "markdown",
   "metadata": {},
   "source": [
    "---\n",
    "### Шаг 2:\n",
    "\n",
    "Пожалуйста, спроектируйте класс **Figures** (Фигуры) таким образом, чтобы все следующие блоки кодов приводили к ожидаемым результатам."
   ]
  },
  {
   "cell_type": "code",
   "execution_count": 9,
   "metadata": {},
   "outputs": [],
   "source": [
    "class Figures:\n",
    "    def __init__(self):\n",
    "        self.figures = []\n",
    "        self.num_figures = 0\n",
    "        \n",
    "    def __str__(self):\n",
    "        # Начало вашего кода\n",
    "        return 'Container containing figures'\n",
    "        # Конец вашего кода\n",
    "    \n",
    "    def __len__(self):\n",
    "        # Начало вашего кода\n",
    "        return len(self.figures)\n",
    "        # Конец вашего кода\n",
    "    \n",
    "    def add_rectangle(self, width=None, height=None):\n",
    "        # Начало вашего кода\n",
    "        if width==None or height==None:\n",
    "            return 'You didn\\'t provide width or height properly'\n",
    "        else:\n",
    "            self.figures.append(Rectangle(width=width, height=height))\n",
    "        # Конец вашего кода\n",
    "    \n",
    "    def get_perimeters(self):\n",
    "        # Начало вашего кода\n",
    "        for i in self.figures:\n",
    "            print(i.get_perimeter(), end=' ')\n",
    "        # Конец вашего кода\n",
    "\n",
    "    def get_areas(self):\n",
    "        # Начало вашего кода\n",
    "        for j in self.figures:\n",
    "            print(j.get_area(), end=' ')\n",
    "        # Конец вашего кода\n",
    "    \n",
    "    @staticmethod\n",
    "    def get_info():\n",
    "        # Начало вашего кода\n",
    "        return 'This class creates the container containing the instances of class Rectangle'\n",
    "        # Конец вашего кода"
   ]
  },
  {
   "cell_type": "code",
   "execution_count": 10,
   "metadata": {},
   "outputs": [
    {
     "output_type": "stream",
     "name": "stdout",
     "text": [
      "['__class__', '__delattr__', '__dict__', '__dir__', '__doc__', '__eq__', '__format__', '__ge__', '__getattribute__', '__gt__', '__hash__', '__init__', '__init_subclass__', '__le__', '__len__', '__lt__', '__module__', '__ne__', '__new__', '__reduce__', '__reduce_ex__', '__repr__', '__setattr__', '__sizeof__', '__str__', '__subclasshook__', '__weakref__', 'add_rectangle', 'get_areas', 'get_info', 'get_perimeters']\n"
     ]
    }
   ],
   "source": [
    "print(dir(Figures))"
   ]
  },
  {
   "cell_type": "markdown",
   "metadata": {},
   "source": [
    "### Ожидаемый результат:\n",
    "```\n",
    "['__class__', '__delattr__', '__dict__', '__dir__', '__doc__', '__eq__', '__format__', '__ge__', '__getattribute__', '__gt__', '__hash__', '__init__', '__init_subclass__', '__le__', '__len__', '__lt__', '__module__', '__ne__', '__new__', '__reduce__', '__reduce_ex__', '__repr__', '__setattr__', '__sizeof__', '__str__', '__subclasshook__', '__weakref__', 'add_rectangle', 'get_info']\n",
    "```"
   ]
  },
  {
   "cell_type": "code",
   "execution_count": 11,
   "metadata": {},
   "outputs": [
    {
     "output_type": "stream",
     "name": "stdout",
     "text": [
      "This class creates the container containing the instances of class Rectangle\n"
     ]
    }
   ],
   "source": [
    "print(Figures.get_info())"
   ]
  },
  {
   "cell_type": "markdown",
   "metadata": {},
   "source": [
    "### Ожидаемый результат:\n",
    "```\n",
    "This class creates the container containing the instances of class Rectangle\n",
    "```"
   ]
  },
  {
   "cell_type": "code",
   "execution_count": 12,
   "metadata": {},
   "outputs": [],
   "source": [
    "f = Figures()"
   ]
  },
  {
   "cell_type": "code",
   "execution_count": 13,
   "metadata": {},
   "outputs": [
    {
     "output_type": "stream",
     "name": "stdout",
     "text": [
      "Container containing figures\n"
     ]
    }
   ],
   "source": [
    "print(f)"
   ]
  },
  {
   "cell_type": "markdown",
   "metadata": {},
   "source": [
    "### Ожидаемый результат:\n",
    "```\n",
    "Container containing figures\n",
    "```"
   ]
  },
  {
   "cell_type": "code",
   "execution_count": 14,
   "metadata": {},
   "outputs": [],
   "source": [
    "f.add_rectangle(width=15,height=15)\n",
    "f.add_rectangle(width=10,height=10)\n",
    "f.add_rectangle(width=5,height=5)"
   ]
  },
  {
   "cell_type": "code",
   "execution_count": 15,
   "metadata": {},
   "outputs": [
    {
     "output_type": "stream",
     "name": "stdout",
     "text": [
      "60 40 20 "
     ]
    }
   ],
   "source": [
    "f.get_perimeters()"
   ]
  },
  {
   "cell_type": "markdown",
   "metadata": {},
   "source": [
    "### Ожидаемый результат:\n",
    "```\n",
    "60 40 20\n",
    "```"
   ]
  },
  {
   "cell_type": "code",
   "execution_count": 16,
   "metadata": {},
   "outputs": [
    {
     "output_type": "stream",
     "name": "stdout",
     "text": [
      "225 100 25 "
     ]
    }
   ],
   "source": [
    "f.get_areas()"
   ]
  },
  {
   "cell_type": "markdown",
   "metadata": {},
   "source": [
    "### Ожидаемый результат:\n",
    "```\n",
    "225 100 25\n",
    "```"
   ]
  },
  {
   "cell_type": "code",
   "execution_count": 17,
   "metadata": {},
   "outputs": [
    {
     "output_type": "stream",
     "name": "stdout",
     "text": [
      "There are 3 rectangles\n"
     ]
    }
   ],
   "source": [
    "print(\"There are {} rectangles\".format(len(f)))"
   ]
  },
  {
   "cell_type": "markdown",
   "metadata": {},
   "source": [
    "### Ожидаемый результат:\n",
    "```\n",
    "There are 3 rectangles\n",
    "```"
   ]
  },
  {
   "cell_type": "code",
   "execution_count": 18,
   "metadata": {},
   "outputs": [
    {
     "output_type": "execute_result",
     "data": {
      "text/plain": [
       "\"You didn't provide width or height properly\""
      ]
     },
     "metadata": {},
     "execution_count": 18
    }
   ],
   "source": [
    "f.add_rectangle(width=15)"
   ]
  },
  {
   "cell_type": "markdown",
   "metadata": {},
   "source": [
    "### Ожидаемый результат:\n",
    "```\n",
    "You didn't provide width or height properly\n",
    "```"
   ]
  },
  {
   "cell_type": "code",
   "execution_count": 19,
   "metadata": {},
   "outputs": [
    {
     "output_type": "stream",
     "name": "stdout",
     "text": [
      "There are 3 rectangles\n"
     ]
    }
   ],
   "source": [
    "print(\"There are {} rectangles\".format(len(f)))"
   ]
  },
  {
   "cell_type": "markdown",
   "metadata": {},
   "source": [
    "### Ожидаемый результат:\n",
    "```\n",
    "There are 3 rectangles\n",
    "```"
   ]
  }
 ],
 "metadata": {
  "kernelspec": {
   "display_name": "Python 3",
   "language": "python",
   "name": "python3"
  },
  "language_info": {
   "codemirror_mode": {
    "name": "ipython",
    "version": 3
   },
   "file_extension": ".py",
   "mimetype": "text/x-python",
   "name": "python",
   "nbconvert_exporter": "python",
   "pygments_lexer": "ipython3",
   "version": "3.8.5-final"
  }
 },
 "nbformat": 4,
 "nbformat_minor": 2
}
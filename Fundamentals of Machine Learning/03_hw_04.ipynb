{
 "cells": [
  {
   "cell_type": "markdown",
   "metadata": {},
   "source": [
    "### Теория вероятности-4 [Домашнее задание]"
   ]
  },
  {
   "cell_type": "markdown",
   "metadata": {},
   "source": [
    "**Примечание:**\n",
    "\n",
    "> Пожалуйста, не удаляйте комментарии или строки кода.\n",
    "\n",
    "> Пожалуйста, покажите ваше решение, написав процедуру расчета.\n",
    "\n",
    "**Например:**\n",
    "\n",
    "Если вы подбросите монету, какова вероятность получить Tails?\n",
    "\n",
    "**Ваше решение должно выглядеть так:**\n",
    "\n",
    "```\n",
    "p_tails = 1 / (2**1) # Хороший пример решения\n",
    "# p_tails = 0.5 # Плохой пример решения\n",
    "```"
   ]
  },
  {
   "cell_type": "markdown",
   "metadata": {},
   "source": [
    "1. Пожалуйста, реализуйте функцию ```factorial(num)```, которая вычисляет факториал входного аргумента ```num```."
   ]
  },
  {
   "cell_type": "code",
   "execution_count": 2,
   "metadata": {},
   "outputs": [
    {
     "name": "stdout",
     "output_type": "stream",
     "text": [
      "factorial(0) = 1\n",
      "factorial(3) = 6\n"
     ]
    }
   ],
   "source": [
    "def factorial(num):\n",
    "    #Начало вашего кода\n",
    "    f = 1\n",
    "    for i in range(1, num+1):\n",
    "        f *= i\n",
    "    return f\n",
    "    #Конец вашего кода\n",
    "\n",
    "print(f\"factorial(0) = {factorial(0)}\")\n",
    "print(f\"factorial(3) = {factorial(3)}\")"
   ]
  },
  {
   "cell_type": "markdown",
   "metadata": {},
   "source": [
    "### Ожидаемые результаты:\n",
    "\n",
    "```\n",
    "factorial(0) = 1\n",
    "factorial(3) = 6\n",
    "```"
   ]
  },
  {
   "cell_type": "markdown",
   "metadata": {},
   "source": [
    "2. Пожалуйста, реализуйте функцию ```permutations_with_replacement(n,k)```, которая рассчитывает количество возможных перестановок с заменой. При необходимости используйте ранее реализованную функцию ```factorial(num)```."
   ]
  },
  {
   "cell_type": "code",
   "execution_count": 4,
   "metadata": {},
   "outputs": [
    {
     "name": "stdout",
     "output_type": "stream",
     "text": [
      "permutations_with_replacement(2,3) = 8\n",
      "permutations_with_replacement(6,3) = 216\n"
     ]
    }
   ],
   "source": [
    "def permutations_with_replacement(n,k):\n",
    "    #Начало вашего кода\n",
    "    return n**k\n",
    "    #Конец вашего кода\n",
    "\n",
    "print(f\"permutations_with_replacement(2,3) = {permutations_with_replacement(2,3)}\")\n",
    "print(f\"permutations_with_replacement(6,3) = {permutations_with_replacement(6,3)}\")"
   ]
  },
  {
   "cell_type": "markdown",
   "metadata": {},
   "source": [
    "### Ожидаемые результаты:\n",
    "\n",
    "```\n",
    "permutations_with_replacement(2,3) = 8\n",
    "permutations_with_replacement(6,3) = 216\n",
    "```"
   ]
  },
  {
   "cell_type": "markdown",
   "metadata": {},
   "source": [
    "3. Пожалуйста, реализуйте функцию ```permutations_without_replacement(n,k)```, которая рассчитывает количество перестановок без замены. При необходимости используйте ранее реализованную функцию ```factorial(num)```."
   ]
  },
  {
   "cell_type": "code",
   "execution_count": 6,
   "metadata": {},
   "outputs": [
    {
     "name": "stdout",
     "output_type": "stream",
     "text": [
      "permutations_with_replacement(6,3) = 120\n",
      "permutations_with_replacement(10,2) = 90\n"
     ]
    }
   ],
   "source": [
    "def permutations_without_replacement(n,k):\n",
    "    #Начало вашего кода\n",
    "    return int(factorial(n) / factorial(n-k))\n",
    "    #Конец вашего кода\n",
    "\n",
    "print(f\"permutations_with_replacement(6,3) = {permutations_without_replacement(6,3)}\")\n",
    "print(f\"permutations_with_replacement(10,2) = {permutations_without_replacement(10,2)}\")"
   ]
  },
  {
   "cell_type": "markdown",
   "metadata": {},
   "source": [
    "### Ожидаемые результаты:\n",
    "\n",
    "```\n",
    "permutations_with_replacement(6,3) = 120\n",
    "permutations_with_replacement(10,2) = 90\n",
    "```"
   ]
  },
  {
   "cell_type": "markdown",
   "metadata": {},
   "source": [
    "4. Пожалуйста, реализуйте функцию ```combinations(n,k)```, которая рассчитывает количество комбинации. При необходимости используйте ранее реализованную функцию ```factorial(num)```."
   ]
  },
  {
   "cell_type": "code",
   "execution_count": 8,
   "metadata": {},
   "outputs": [
    {
     "name": "stdout",
     "output_type": "stream",
     "text": [
      "combinations(6,3) = 20\n",
      "combinations(52,6) = 20358520\n"
     ]
    }
   ],
   "source": [
    "def combinations(n,k):\n",
    "    #Начало вашего кода\n",
    "    x = permutations_without_replacement(n,k) / factorial(k)\n",
    "    return int(x)\n",
    "    #Конец вашего кода\n",
    "\n",
    "print(f\"combinations(6,3) = {combinations(6,3)}\")\n",
    "print(f\"combinations(52,6) = {combinations(52,6)}\")"
   ]
  },
  {
   "cell_type": "markdown",
   "metadata": {},
   "source": [
    "### Ожидаемые результаты:\n",
    "\n",
    "```\n",
    "combinations(6,3) = 20\n",
    "combinations(52,6) = 20358520\n",
    "```"
   ]
  },
  {
   "cell_type": "markdown",
   "metadata": {},
   "source": [
    "5. Вы реализовали следующие функции в задачах 1-4: ```factorial(num)```, ```permutations_with_replacement(n,k)```, ```permutations_without_replacement(n,k)```, ```combinations(n,k)```.\n",
    "\n",
    "    Используя реализованные функции, ответьте на следующие вопросы:\n",
    "\n",
    "    * Вы бросаете игровой кубик 3 раза и выбираете карту из колоды (52 карт). Какое общее количество возможных результатов? Например, вы можете получить (6,2,3, «туз червы»). Порядок важен. Присвойте результат переменной ```num_dice_card```. Какова вероятность того, что вы получите следующие результаты: (1,2,3, \"туз\"), масть туза не важна? Присвойте результат переменной ```p_123_ace```.\n",
    "    * Какова вероятность взломать 4-символьный код с помощью следующей комбинации: ```\"able\"```? Пин-код может содержать цифры, строчные и прописные буквы. Присвойте результат переменной ```p_able```.\n",
    "    * Каково количество перестановок четырех карт, взятых из колоды (52 карт)? Присвойте результат переменной ```per_52_4```. Каково количество перестановок трех карт, взятых из колоды (36 карт)? Присвойте результат переменной ```per_36_3```.\n",
    "    * Вы строите группу из 10 человек из большой группы из 30 человек. Какое общее количество уникальных групп из 10 человек мы можем составить? Присвойте результат переменной ```c_10_30```."
   ]
  },
  {
   "cell_type": "code",
   "execution_count": 44,
   "metadata": {},
   "outputs": [
    {
     "name": "stdout",
     "output_type": "stream",
     "text": [
      "11232\n",
      "0.03561253561253561\n",
      "6.7675775645599825e-06\n",
      "6497400\n",
      "42840\n",
      "30045015\n"
     ]
    }
   ],
   "source": [
    "#Начало вашего кода\n",
    "num_dice_card = permutations_with_replacement(6,3) * permutations_with_replacement(52,1)\n",
    "p_123_ace = 4/(permutations_with_replacement(6,3) * permutations_with_replacement(52,1))\n",
    "\n",
    "variation = 10 + 26*2\n",
    "n = 1\n",
    "N = permutations_with_replacement(variation,4)\n",
    "p_able = n/N\n",
    "\n",
    "per_52_4 = permutations_without_replacement(52,4)\n",
    "per_36_3 = permutations_without_replacement(36,3)\n",
    "c_10_30 = combinations(30,10)\n",
    "\n",
    "#Конец вашего кода\n",
    "print(num_dice_card)\n",
    "print(p_123_ace*100)\n",
    "print(p_able*100)\n",
    "print(per_52_4)\n",
    "print(per_36_3)\n",
    "print(c_10_30)"
   ]
  },
  {
   "cell_type": "markdown",
   "metadata": {},
   "source": [
    "### Ожидаемые результаты:\n",
    "\n",
    "```\n",
    "11232\n",
    "0.03561253561253561\n",
    "6.7675775645599825e-06\n",
    "6497400\n",
    "42840\n",
    "30045015\n",
    "```"
   ]
  },
  {
   "cell_type": "markdown",
   "metadata": {},
   "source": [
    "### Отличная работа"
   ]
  }
 ],
 "metadata": {
  "kernelspec": {
   "display_name": "Python 3",
   "language": "python",
   "name": "python3"
  },
  "language_info": {
   "codemirror_mode": {
    "name": "ipython",
    "version": 3
   },
   "file_extension": ".py",
   "mimetype": "text/x-python",
   "name": "python",
   "nbconvert_exporter": "python",
   "pygments_lexer": "ipython3",
   "version": "3.8.5"
  }
 },
 "nbformat": 4,
 "nbformat_minor": 2
}

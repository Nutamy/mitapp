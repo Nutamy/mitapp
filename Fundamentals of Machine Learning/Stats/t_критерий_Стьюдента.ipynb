{
  "nbformat": 4,
  "nbformat_minor": 0,
  "metadata": {
    "colab": {
      "name": "t-критерий Стьюдента.ipynb",
      "provenance": [],
      "collapsed_sections": []
    },
    "kernelspec": {
      "name": "python3",
      "display_name": "Python 3"
    },
    "language_info": {
      "name": "python"
    }
  },
  "cells": [
    {
      "cell_type": "code",
      "execution_count": 1,
      "metadata": {
        "colab": {
          "base_uri": "https://localhost:8080/"
        },
        "id": "sPFC05DK7IUb",
        "outputId": "41ee8c76-f54c-4296-b38c-c181e35281d1"
      },
      "outputs": [
        {
          "output_type": "stream",
          "name": "stdout",
          "text": [
            "[84.61; 95.19]\n"
          ]
        }
      ],
      "source": [
        "from scipy import stats\n",
        "from math import sqrt\n",
        "\n",
        "mean = 89.9\n",
        "sd = 11.3\n",
        "n = 20\n",
        "\n",
        "# степень свободы\n",
        "df = n - 1\n",
        "\n",
        "# 95% доверительный интервал\n",
        "p = 0.95\n",
        "alpha = 1 - p\n",
        "\n",
        "# стандартная ошибка\n",
        "se = sd/sqrt(n)\n",
        "\n",
        "# ppf - Percent point function\n",
        "# делим на два, так как по умолчанию функция считает для одного конца, а нам надо для двух\n",
        "t_value = stats.t(df).ppf(1-(alpha/2))\n",
        "\n",
        "# доверительный интервал\n",
        "confidence_interval = (mean - t_value * se, mean + t_value * se)\n",
        "print('[%.2f; %.2f]' % confidence_interval)"
      ]
    }
  ]
}
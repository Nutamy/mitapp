{
  "nbformat": 4,
  "nbformat_minor": 0,
  "metadata": {
    "colab": {
      "name": "ГРАФИК Однофакторный дисперсионный анализ.ipynb",
      "provenance": [],
      "collapsed_sections": []
    },
    "kernelspec": {
      "name": "python3",
      "display_name": "Python 3"
    },
    "language_info": {
      "name": "python"
    }
  },
  "cells": [
    {
      "cell_type": "code",
      "execution_count": 4,
      "metadata": {
        "colab": {
          "base_uri": "https://localhost:8080/",
          "height": 312
        },
        "id": "8oatJg7otFwQ",
        "outputId": "61436348-102a-4ad4-b51c-cc7a2bc73343"
      },
      "outputs": [
        {
          "output_type": "stream",
          "name": "stdout",
          "text": [
            "['therapy A', 'therapy B', 'therapy C', 'therapy D'] [99.73333333333333, 98.8, 94.4, 92.33333333333333]\n"
          ]
        },
        {
          "output_type": "display_data",
          "data": {
            "image/png": "[encoded data removed]",
            "text/plain": [
              "<Figure size 432x288 with 1 Axes>"
            ]
          },
          "metadata": {
            "needs_background": "light"
          }
        }
      ],
      "source": [
        "import pandas as pd\n",
        "import matplotlib.pyplot as plt\n",
        "import statistics\n",
        "\n",
        "URL = \"https://stepik.org/media/attachments/lesson/8083/genetherapy.csv\"\n",
        "data = pd.read_csv(URL)\n",
        "\n",
        "\n",
        "grps = pd.unique(data.Therapy.values)\n",
        "A = data[data[\"Therapy\"] == \"A\"][\"expr\"]\n",
        "Aavg = sum(A)/len(A)\n",
        "Aerr = statistics.stdev(A)\n",
        "B = data[data[\"Therapy\"] == \"B\"][\"expr\"]\n",
        "Bavg = sum(B)/len(B)\n",
        "Berr = statistics.stdev(B)\n",
        "C = data[data[\"Therapy\"] == \"C\"][\"expr\"]\n",
        "Cavg = sum(C)/len(C)\n",
        "Cerr = statistics.stdev(C)\n",
        "D = data[data[\"Therapy\"] == \"D\"][\"expr\"]\n",
        "Davg = sum(D)/len(D)\n",
        "Derr = statistics.stdev(D)\n",
        "list = ['therapy A', 'therapy B', 'therapy C', 'therapy D']\n",
        "listAVG = [Aavg, Bavg, Cavg, Davg]\n",
        "listERR = [Aerr/2, Berr/2, Cerr/2, Derr/2]\n",
        "print(list, listAVG)\n",
        "\n",
        "#cтроим доверительные интервалы на графике\n",
        "plt.errorbar(x=list, y=listAVG, yerr=listERR, color=\"black\", capsize=3, marker=\"s\", markersize=5, mfc=\"red\", mec=\"black\", fmt='o')\n",
        "plt.title('STEPIK')\n",
        "plt.grid()\n",
        "plt.xlabel('therapy')\n",
        "plt.ylabel('valu+error')\n",
        "plt.show()"
      ]
    }
  ]
}
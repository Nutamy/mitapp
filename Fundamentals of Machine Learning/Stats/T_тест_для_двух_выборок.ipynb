{
  "nbformat": 4,
  "nbformat_minor": 0,
  "metadata": {
    "colab": {
      "name": "T-тест для двух выборок.ipynb",
      "provenance": [],
      "collapsed_sections": []
    },
    "kernelspec": {
      "name": "python3",
      "display_name": "Python 3"
    },
    "language_info": {
      "name": "python"
    }
  },
  "cells": [
    {
      "cell_type": "code",
      "execution_count": 1,
      "metadata": {
        "colab": {
          "base_uri": "https://localhost:8080/"
        },
        "id": "Fp-k9Q92vmwJ",
        "outputId": "f43c3206-9cb2-4c2b-dd2f-bfb9c78c4eca"
      },
      "outputs": [
        {
          "output_type": "stream",
          "name": "stdout",
          "text": [
            "t= 8.176235608718828\n"
          ]
        }
      ],
      "source": [
        "x1 = 45\n",
        "x2 = 34\n",
        "sd1 = 9\n",
        "sd2 = 10\n",
        "n1 = n2 = 100\n",
        "t = (x1 - x2)/(((sd1**2)/n1+(sd2**2)/n2)**(1/2))\n",
        "print('t=',t)"
      ]
    },
    {
      "cell_type": "code",
      "source": [
        "import scipy.stats as st\n",
        "import math\n",
        "import numpy as np\n",
        "\n",
        "x1 = 45\n",
        "x2 = 34\n",
        "sd1 = 9\n",
        "sd2 = 10\n",
        "n1 = n2 = 100\n",
        "alpha = 0.95\n",
        "\n",
        "se = math.sqrt(sd1**2 /n1 + sd2**2 /n2)\n",
        "t = (x1 - x2) / se\n",
        "\n",
        "df = n1 + n2 - 2\n",
        "\n",
        "p_value = np.abs(st.t.ppf((1 - alpha) / 2, df))\n",
        "\n",
        "print(f\"\"\"t-value: {t}\n",
        "p-value для {alpha * 100}% доверительного интервала: {p_value}\n",
        "\"\"\")\n",
        "if t > p_value: \n",
        "    print(\"отвергаем нулевую гипотезу\")\n",
        "elif t < p_value:\n",
        "    print(\"принимаем нулевой гипотезы\")"
      ],
      "metadata": {
        "colab": {
          "base_uri": "https://localhost:8080/"
        },
        "id": "l-5dTjKYwsRE",
        "outputId": "2c25f123-21bd-4f56-b5de-557a12d4f36d"
      },
      "execution_count": 9,
      "outputs": [
        {
          "output_type": "stream",
          "name": "stdout",
          "text": [
            "t-value: 8.176235608718828\n",
            "p-value для 95.0% доверительного интервала: 1.9720174778338955\n",
            "\n",
            "отвергаем нулевую гипотезу\n"
          ]
        }
      ]
    },
    {
      "cell_type": "code",
      "source": [
        "from scipy import stats\n",
        "def t_student(x1,x2,sd1,sd2,n1,n2):\n",
        "    return stats.t.sf((x1-x2)/((sd1**2/n1 + sd2**2/n2)**0.5),n1+n2 - 2) * 2\n",
        "\n",
        "\n",
        "x1 = 45\n",
        "x2 = 34\n",
        "sd1 = 9\n",
        "sd2 = 10\n",
        "n1 = n2 = 100\n",
        "answer = t_student(x1,x2,sd1,sd2,n1,n2)\n",
        "print(answer)"
      ],
      "metadata": {
        "colab": {
          "base_uri": "https://localhost:8080/"
        },
        "id": "DxaXC-orw5ec",
        "outputId": "b2254591-e4ae-42f0-c587-30531bf4f277"
      },
      "execution_count": 3,
      "outputs": [
        {
          "output_type": "stream",
          "name": "stdout",
          "text": [
            "3.4555440142902684e-14\n"
          ]
        }
      ]
    },
    {
      "cell_type": "code",
      "source": [
        "'''\n",
        "T-тест для средних двух независимых выборок из описательной статистики . \n",
        "Это проверка нулевой гипотезы о том, что две независимые выборки имеют одинаковые средние (ожидаемые) значения.\n",
        "'''\n",
        "import scipy\n",
        "scipy.stats.ttest_ind_from_stats(45,9,100,34,10,100)"
      ],
      "metadata": {
        "colab": {
          "base_uri": "https://localhost:8080/"
        },
        "id": "MtUbxnvJxjpt",
        "outputId": "79338cd1-feb3-46fb-a51d-5fa011341b3e"
      },
      "execution_count": 5,
      "outputs": [
        {
          "output_type": "execute_result",
          "data": {
            "text/plain": [
              "Ttest_indResult(statistic=8.176235608718828, pvalue=3.4555440142902684e-14)"
            ]
          },
          "metadata": {},
          "execution_count": 5
        }
      ]
    }
  ]
}
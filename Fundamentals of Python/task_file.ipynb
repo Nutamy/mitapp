{
 "cells": [
  {
   "cell_type": "markdown",
   "metadata": {},
   "source": [
    "### Файлы: Введение [Домашнее  задание]"
   ]
  },
  {
   "cell_type": "markdown",
   "metadata": {},
   "source": [
    "Пожалуйста, создайте новый файл и напишите в нем текст (с несколькими строками более 5).\n",
    "Закройте файл. \n",
    "\n",
    "Откройте файл в разных режимах и поиграйте с ним. Проверьте все возможные ограничения."
   ]
  },
  {
   "cell_type": "code",
   "execution_count": null,
   "metadata": {},
   "outputs": [],
   "source": [
    "file = open(\"new_file.txt\",\"w\")\n",
    "# Напишите свой код здесь:\n",
    "file.write('line1\\nline2\\nline3\\nline4\\nline5')\n",
    "# конец вашего кода\n",
    "file.close()"
   ]
  },
  {
   "cell_type": "code",
   "execution_count": null,
   "metadata": {
    "scrolled": true
   },
   "outputs": [],
   "source": [
    "file = open(\"new_file.txt\",\"r\")\n",
    "# Напишите свой код здесь:\n",
    "print(file.read())\n",
    "# конец вашего кода\n",
    "file.close()"
   ]
  },
  {
   "cell_type": "code",
   "execution_count": null,
   "metadata": {},
   "outputs": [],
   "source": [
    "file = open(\"new_file.txt\",\"a\")\n",
    "# Напишите свой код здесь:\n",
    "file.write('\\nline6\\nline7')\n",
    "# конец вашего кода\n",
    "file.close()"
   ]
  },
  {
   "cell_type": "code",
   "execution_count": null,
   "metadata": {},
   "outputs": [],
   "source": [
    "# выдаст error так как режим х создаёт новый файл, и выдаёт ошибку, если файл создан\n",
    "file = open(\"new_file.txt\",\"x\")"
   ]
  },
  {
   "cell_type": "code",
   "execution_count": null,
   "metadata": {},
   "outputs": [],
   "source": [
    "file = open(\"new_file.txt\",\"r\")\n",
    "print(file.read())"
   ]
  },
  {
   "cell_type": "code",
   "execution_count": null,
   "metadata": {},
   "outputs": [],
   "source": []
  }
 ],
 "metadata": {
  "kernelspec": {
   "display_name": "Python 3",
   "language": "python",
   "name": "python3"
  },
  "language_info": {
   "codemirror_mode": {
    "name": "ipython",
    "version": 3
   },
   "file_extension": ".py",
   "mimetype": "text/x-python",
   "name": "python",
   "nbconvert_exporter": "python",
   "pygments_lexer": "ipython3",
   "version": "3.8.5-final"
  }
 },
 "nbformat": 4,
 "nbformat_minor": 2
}

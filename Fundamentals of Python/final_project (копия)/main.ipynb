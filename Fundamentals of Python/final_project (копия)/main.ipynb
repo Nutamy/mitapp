{
 "cells": [
  {
   "cell_type": "markdown",
   "metadata": {},
   "source": [
    "Финальный Проект\n",
    "---"
   ]
  },
  {
   "cell_type": "markdown",
   "metadata": {},
   "source": [
    "Пожалуйста, создайте пакет **education**, который содержит следующие модули:\n",
    "\n",
    "1. users\n",
    "2. organizations\n",
    "\n",
    "Когда вы запускаете пакет напрямую, он должен показывать все модули, указанные в пакете."
   ]
  },
  {
   "cell_type": "code",
   "execution_count": 1,
   "metadata": {},
   "outputs": [
    {
     "output_type": "stream",
     "name": "stdout",
     "text": [
      "There are organizations and users modules in the package.\nThe education has imported successfully.\n"
     ]
    }
   ],
   "source": [
    "import education.organizations as org\n",
    "import education.users as user"
   ]
  },
  {
   "cell_type": "code",
   "execution_count": 2,
   "metadata": {},
   "outputs": [],
   "source": [
    "harvard = org.School(name=\"Harvard\", address=\"Cambridge MA\", phone=\"(617) 495-1000\", email = 'harvard@gmail.com', num_stud=0, num_teachers=0)\n",
    "\n",
    "yale = org.School(name=\"Yale\", address=\"New Haven CT\", phone=\"(203) 432-4771\", email = 'yale@gmail.com', num_stud=0, num_teachers=0)\n",
    "\n",
    "princeton = org.School(name=\"Princeton\", address=\"Princeton NJ\", phone=\"(609) 258-3000\", email = 'princeton@gmail.com', num_stud=0, num_teachers=0)"
   ]
  },
  {
   "cell_type": "code",
   "execution_count": 3,
   "metadata": {},
   "outputs": [],
   "source": [
    "harvard.add_teacher(name='Liam', surname='Johnson', age=35, gender='male', nationality='Bulgarian', school='Harvard', subject='Data Science')\n",
    "\n",
    "harvard.add_teacher(name='Benjamin', surname='Davis', age=43, gender='male', nationality='Canadian', school='Harvard', subject='Economics')\n",
    "\n",
    "harvard.add_teacher(name='Amelia', surname='Taylor', age=33, gender='female', nationality='Czech', school='Harvard', subject='History')\n",
    "\n",
    "yale.add_teacher(name='Ethan', surname='Thomas', age=50, gender='male', nationality='Danish', school='Yale', subject='Economics')\n",
    "\n",
    "yale.add_teacher(name='Olivia', surname='Lopez', age=50, gender='female', nationality='Spanish', school='Yale', subject='Art')\n",
    "\n",
    "yale.add_teacher(name='Sophia', surname='Perez', age=29, gender='female', nationality='Thai', school='Yale', subject='Precalculus')\n",
    "\n",
    "princeton.add_teacher(name='Oliver', surname='Harris', age=37, gender='male', nationality='Slovak', school='Princeton', subject='Biology')\n",
    "\n",
    "princeton.add_teacher(name='Lucas', surname='Adams', age=44, gender='male', nationality='Irish', school='Princeton', subject='Geometry')\n",
    "\n",
    "princeton.add_teacher(name='William', surname='Carter', age=34, gender='male', nationality='New Zealand', school='Princeton', subject='Algebra')"
   ]
  },
  {
   "cell_type": "code",
   "execution_count": 4,
   "metadata": {},
   "outputs": [],
   "source": [
    "harvard.add_student(name='Liam', surname='Martin', age='22', gender='male', nationality='Spanish', school='Harvard', subject='Data Science')\n",
    "\n",
    "harvard.add_student(name='William', surname='Bernard', age='20', gender='male', nationality='Czech', school='Harvard', subject='Data Science')\n",
    "\n",
    "harvard.add_student(name='Elli', surname='Dubois', age='19', gender='female', nationality='Spanish', school='Harvard', subject='Data Science')\n",
    "\n",
    "harvard.add_student(name='Lucas', surname='Thomas', age='22', gender='male', nationality='Czech', school='Harvard', subject='Data Science')\n",
    "\n",
    "harvard.add_student(name='Ezra', surname='Robert', age='21', gender='female', nationality='Slovak', school='Harvard', subject='Economics')\n",
    "\n",
    "harvard.add_student(name='Michael', surname='Richard', age='30', gender='male', nationality='Danish', school='Harvard', subject='Economics')\n",
    "\n",
    "harvard.add_student(name='Daniela', surname='Petit', age='18', gender='female', nationality='Spanish', school='Harvard', subject='History')\n",
    "\n",
    "harvard.add_student(name='Logan', surname='Scott', age='19', gender='male', nationality='Spanish', school='Harvard', subject='History')\n",
    "\n",
    "harvard.add_student(name='Jackson', surname='Shala', age='20', gender='male', nationality='Danish', school='Harvard', subject='History')\n",
    "\n",
    "harvard.add_student(name='Levi', surname='Bekim', age='21', gender='female', nationality='Slovak', school='Harvard', subject='History')"
   ]
  },
  {
   "cell_type": "code",
   "execution_count": 5,
   "metadata": {},
   "outputs": [],
   "source": [
    "yale.add_student(name='Hudson', surname='Miller', age='18', gender='male', nationality='Canadian', school='Yale', subject='Economics')\n",
    "\n",
    "yale.add_student(name='Charles', surname='Smith', age='20', gender='male', nationality='Canadian', school='Yale', subject='Economics')\n",
    "\n",
    "yale.add_student(name='Caleb', surname='Martinez', age='22', gender='male', nationality='Spanish', school='Yale', subject='Economics')\n",
    "\n",
    "yale.add_student(name='Isaiah', surname='Rodriguez', age='28', gender='male', nationality='Spanish', school='Yale', subject='')\n",
    "\n",
    "yale.add_student(name='Ryan', surname='Jacot', age='18', gender='male', nationality='Thai', school='Yale', subject='Economics')\n",
    "\n",
    "yale.add_student(name='Nataliya', surname='Habiger', age='20', gender='female', nationality='Slovak', school='Yale', subject='Art')\n",
    "\n",
    "yale.add_student(name='Adrian', surname='Aaberg', age='21', gender='male', nationality='Spanish', school='Yale', subject='Art')\n",
    "\n",
    "yale.add_student(name='Christian', surname='Smith', age='20', gender='male', nationality='Canadian', school='Yale', subject='Art')\n",
    "\n",
    "yale.add_student(name='Maverick', surname='Zager', age='18', gender='male', nationality='Slovak', school='Yale', subject='Precalculus')\n",
    "\n",
    "yale.add_student(name='Colton', surname='Faenza', age='19', gender='male', nationality='Slovak', school='Yale', subject='Precalculus')"
   ]
  },
  {
   "cell_type": "code",
   "execution_count": 6,
   "metadata": {},
   "outputs": [],
   "source": [
    "princeton.add_student(name='Elias', surname='Garcia', age='20', gender='male', nationality='Spanish', school='Princeton', subject='Biology')\n",
    "\n",
    "princeton.add_student(name='Aaron', surname='Scott', age='20', gender='male', nationality='Canadian', school='Princeton', subject='Algebra')\n",
    "\n",
    "princeton.add_student(name='Eli', surname='Torres', age='21', gender='female', nationality='Spanish', school='Princeton', subject='Algebra')\n",
    "\n",
    "princeton.add_student(name='Cameron', surname='Nguyen', age='18', gender='male', nationality='Thai', school='Princeton', subject='Algebra')\n",
    "\n",
    "princeton.add_student(name='Ezekiel', surname='Hill', age='20', gender='male', nationality='Danish', school='Princeton', subject='Geometry')\n",
    "\n",
    "princeton.add_student(name='Angel', surname='Green', age='21', gender='female', nationality='Canadian', school='Princeton', subject='Geometry')\n",
    "\n",
    "princeton.add_student(name='Elliott', surname='Smith', age='23', gender='male', nationality='Danish', school='Princeton', subject='Algebra')\n",
    "\n",
    "princeton.add_student(name='Emmanuel', surname='Baker', age='35', gender='male', nationality='', school='Princeton', subject='Geometry')\n",
    "\n",
    "princeton.add_student(name='Augusta', surname='Mitchell', age='18', gender='female', nationality='Danish', school='Princeton', subject='Biology')\n",
    "\n",
    "princeton.add_student(name='Erica', surname='Phillips', age='18', gender='female', nationality='Canadian', school='Princeton', subject='Biology')"
   ]
  },
  {
   "cell_type": "code",
   "execution_count": 7,
   "metadata": {},
   "outputs": [],
   "source": [
    "harvard.get_report()\n",
    "harvard.get_report_of_teachers()\n",
    "harvard.get_report_of_students()"
   ]
  },
  {
   "cell_type": "code",
   "execution_count": 8,
   "metadata": {},
   "outputs": [],
   "source": [
    "yale.get_report()\n",
    "yale.get_report_of_teachers()\n",
    "yale.get_report_of_students()"
   ]
  },
  {
   "cell_type": "code",
   "execution_count": 9,
   "metadata": {},
   "outputs": [],
   "source": [
    "princeton.get_report()\n",
    "princeton.get_report_of_teachers()\n",
    "princeton.get_report_of_students()"
   ]
  },
  {
   "cell_type": "code",
   "execution_count": 10,
   "metadata": {},
   "outputs": [],
   "source": [
    "harvard.add_student(name='Sam', surname='Smith', age='22', gender='male', nationality='USA', school='Harvard', subject='Data Science')\n",
    "princeton.add_student(name='Tom', surname='Brown', age='21', gender='male', nationality='New Zealand', school='Princeton', subject='Algebra')\n",
    "yale.add_student(name='Anna', surname='Somonova', age='18', gender='female', nationality='Slovak', school='Yale', subject='Precalculus')"
   ]
  },
  {
   "cell_type": "code",
   "execution_count": 11,
   "metadata": {},
   "outputs": [],
   "source": [
    "harvard.list_of_students[5].add_subject('Data Science', 'History')"
   ]
  },
  {
   "cell_type": "code",
   "execution_count": 12,
   "metadata": {},
   "outputs": [],
   "source": [
    "harvard.get_report()\n",
    "harvard.get_report_of_teachers()\n",
    "harvard.get_report_of_students()"
   ]
  },
  {
   "cell_type": "code",
   "execution_count": 13,
   "metadata": {},
   "outputs": [],
   "source": [
    "yale.get_report()\n",
    "yale.get_report_of_teachers()\n",
    "yale.get_report_of_students()"
   ]
  },
  {
   "cell_type": "code",
   "execution_count": 14,
   "metadata": {},
   "outputs": [],
   "source": [
    "princeton.get_report()\n",
    "princeton.get_report_of_teachers()\n",
    "princeton.get_report_of_students()"
   ]
  },
  {
   "cell_type": "code",
   "execution_count": 15,
   "metadata": {},
   "outputs": [],
   "source": [
    "org.School.get_info_schools()\n",
    "user.Teacher.get_info_teachers()\n",
    "user.Student.get_info_students()"
   ]
  },
  {
   "cell_type": "code",
   "execution_count": 16,
   "metadata": {},
   "outputs": [],
   "source": [
    "harvard.add_teacher(name='Liam', surname='Johnson', age=35, gender='male', nationality='Bulgarian', school='Harvard', subject='Data Science')\n",
    "harvard.add_teacher(name='Liam', surname='Johnson', age=35, gender='male', nationality='Bulgarian', school='Harvard', subject='Data Science')\n",
    "harvard.add_teacher(name='Liam', surname='Johnson', age=35, gender='male', nationality='Bulgarian', school='Harvard', subject='Data Science')"
   ]
  },
  {
   "cell_type": "code",
   "execution_count": 17,
   "metadata": {},
   "outputs": [],
   "source": [
    "harvard.get_report()\n",
    "harvard.get_report_of_teachers()"
   ]
  },
  {
   "cell_type": "code",
   "execution_count": 18,
   "metadata": {},
   "outputs": [
    {
     "output_type": "stream",
     "name": "stdout",
     "text": [
      "{'Name': 'Liam', 'Surname': 'Johnson', 'Age': 35, 'Gender': 'male', 'Nationality': 'Bulgarian', 'School': 'Harvard', 'Subjects': 'Data Science'}\n{'Name': 'Benjamin', 'Surname': 'Davis', 'Age': 43, 'Gender': 'male', 'Nationality': 'Canadian', 'School': 'Harvard', 'Subjects': 'Economics'}\n{'Name': 'Amelia', 'Surname': 'Taylor', 'Age': 33, 'Gender': 'female', 'Nationality': 'Czech', 'School': 'Harvard', 'Subjects': 'History'}\n{'Name': 'Liam', 'Surname': 'Johnson', 'Age': 35, 'Gender': 'male', 'Nationality': 'Bulgarian', 'School': 'Harvard', 'Subjects': 'Data Science'}\n{'Name': 'Liam', 'Surname': 'Johnson', 'Age': 35, 'Gender': 'male', 'Nationality': 'Bulgarian', 'School': 'Harvard', 'Subjects': 'Data Science'}\n{'Name': 'Liam', 'Surname': 'Johnson', 'Age': 35, 'Gender': 'male', 'Nationality': 'Bulgarian', 'School': 'Harvard', 'Subjects': 'Data Science'}\n"
     ]
    }
   ],
   "source": [
    "harvard.get_list_of_teachers()"
   ]
  },
  {
   "cell_type": "code",
   "execution_count": 19,
   "metadata": {},
   "outputs": [
    {
     "output_type": "stream",
     "name": "stdout",
     "text": [
      "{'Name': 'Liam', 'Surname': 'Martin', 'Age': '22', 'Gender': 'male', 'Nationality': 'Spanish', 'School': 'Harvard', 'Subjects': 'Data Science'}\n{'Name': 'William', 'Surname': 'Bernard', 'Age': '20', 'Gender': 'male', 'Nationality': 'Czech', 'School': 'Harvard', 'Subjects': 'Data Science'}\n{'Name': 'Elli', 'Surname': 'Dubois', 'Age': '19', 'Gender': 'female', 'Nationality': 'Spanish', 'School': 'Harvard', 'Subjects': 'Data Science'}\n{'Name': 'Lucas', 'Surname': 'Thomas', 'Age': '22', 'Gender': 'male', 'Nationality': 'Czech', 'School': 'Harvard', 'Subjects': 'Data Science'}\n{'Name': 'Ezra', 'Surname': 'Robert', 'Age': '21', 'Gender': 'female', 'Nationality': 'Slovak', 'School': 'Harvard', 'Subjects': 'Economics'}\n{'Name': 'Michael', 'Surname': 'Richard', 'Age': '30', 'Gender': 'male', 'Nationality': 'Danish', 'School': 'Harvard', 'Subjects': 'Economics,Data Science,History'}\n{'Name': 'Daniela', 'Surname': 'Petit', 'Age': '18', 'Gender': 'female', 'Nationality': 'Spanish', 'School': 'Harvard', 'Subjects': 'History'}\n{'Name': 'Logan', 'Surname': 'Scott', 'Age': '19', 'Gender': 'male', 'Nationality': 'Spanish', 'School': 'Harvard', 'Subjects': 'History'}\n{'Name': 'Jackson', 'Surname': 'Shala', 'Age': '20', 'Gender': 'male', 'Nationality': 'Danish', 'School': 'Harvard', 'Subjects': 'History'}\n{'Name': 'Levi', 'Surname': 'Bekim', 'Age': '21', 'Gender': 'female', 'Nationality': 'Slovak', 'School': 'Harvard', 'Subjects': 'History'}\n{'Name': 'Sam', 'Surname': 'Smith', 'Age': '22', 'Gender': 'male', 'Nationality': 'USA', 'School': 'Harvard', 'Subjects': 'Data Science'}\n"
     ]
    }
   ],
   "source": [
    "harvard.get_list_of_students()"
   ]
  },
  {
   "cell_type": "code",
   "execution_count": 21,
   "metadata": {},
   "outputs": [
    {
     "output_type": "execute_result",
     "data": {
      "text/plain": [
       "True"
      ]
     },
     "metadata": {},
     "execution_count": 21
    }
   ],
   "source": [
    "os.path.exists('reports/Harvard_students.csv')"
   ]
  },
  {
   "cell_type": "markdown",
   "metadata": {},
   "source": [
    "## Описание модулей приведено ниже:"
   ]
  },
  {
   "cell_type": "markdown",
   "metadata": {},
   "source": [
    "### Модуль **users** должен содержать классы **Human, Student(Human), Teacher(Human)**.\n",
    "\n",
    "1. Класс **Human** должен содержать следующую информацию: имя, фамилию, возраст, пол, национальность, а также способы задания этой информации.\n",
    " \n",
    ">``` \n",
    "> h1 = Human(name=\"John\", familyname=\"Wick\", age=35, gender=\"male\", nationality=\"USA\")\n",
    "> ``` \n",
    "\n",
    "Список методов:\n",
    "> ```\n",
    "set_name()\n",
    "set_family()\n",
    "set_age()\n",
    "set_gender()\n",
    "set_nationality()\n",
    "get_info() # возвращает словарь с личной информацией об объекте\n",
    "> ```\n",
    "\n",
    "2. Класс **Student** - это детский класс класса Human. Он должен содержать следующую информацию о каждом студенте: имя, фамилия, возраст, пол, национальность, название школы или университета, список предметов и соответствующие методы для установки этой информации.\n",
    "\n",
    "\n",
    "Список методов в дополнение к списку методов из родительского класса Human:\n",
    "> ```\n",
    "set_school()\n",
    "add_subject() # добавить предмет в список предметов\n",
    "> ```\n",
    "\n",
    "\n",
    "3. Класс **Teacher** - это детский класс класса Human. Он должен содержать следующую информацию о каждом преподавателе: имя, фамилия, возраст, пол, национальность, название школы или университета, предмет преподавания и соответствующие методы для установки этой информации.\n",
    "\n",
    "Список методов в дополнение к списку методов из родительского класса Human:\n",
    "> ```\n",
    "set_school()\n",
    "add_subject() # добавить предмет преподаваемый учителем\n",
    "> ```\n",
    "\n",
    "* При непосредственном запуске модуля **users** напрямую должен отображаться список классов, а также списки методов соответствующих классов, приведенных в модуле.\n",
    "\n",
    "* Когда вы импортируете модуль, он должен показать, что модуль был успешно импортирован.\n",
    "\n",
    "---"
   ]
  },
  {
   "cell_type": "markdown",
   "metadata": {},
   "source": [
    "### Модуль **organizations** должен содержать класс **School**.\n",
    "\n",
    "Класс **School** должен содержать следующую информацию: название или номер школы, адрес школы, номер телефона школы, электронный адрес учебного заведения, количество учеников, количество учителей, а также способы задания этой информации.\n",
    " \n",
    " \n",
    ">``` \n",
    "> s1 = School(name=\"NIS\", address=\"Astana, Kazakhstan\", phone=\"999999\", num_stud=1000, num_teachers=50)\n",
    "> ``` \n",
    "\n",
    "Список методов:\n",
    "> ```\n",
    "set_name()\n",
    "set_address()\n",
    "set_phone()\n",
    "set_email()\n",
    "set_num_stud()\n",
    "set_num_teachers()\n",
    "add_student()\n",
    "add_teacher()\n",
    "get_info() # возвращает словарь с информацией про школу без личной информации студентов / преподавателей\n",
    "get_report() # создает отчет (файл \"csv\") с информацией о школе и о каждом ученике, а также о преподавателе в этой школе. \n",
    "> ```\n",
    "\n",
    "**Пожалуйста, сделайте правильный формат файла CSV (который вы считаете наиболее понятным)**\n",
    "\n",
    "* При непосредственном запуске модуля **organizations** напрямую должен отображаться список классов, а также списки методов соответствующих классов, приведенных в модуле.\n",
    "\n",
    "* Когда вы импортируете модуль, он должен показать, что модуль был успешно импортирован.\n",
    "\n",
    "---"
   ]
  },
  {
   "cell_type": "markdown",
   "metadata": {},
   "source": [
    "### Что делать в jupyter notebook?\n",
    "\n",
    "В этом jupyter notebook, пожалуйста, проверьте все функциональные возможности вашего пакета. Как минимум создайте 2-3 школы, в каждой школе должно быть не менее 10 учеников (с разной информацией), а также как минимум 2 учителя разных предметов и личной информации. **Личная информация этих учеников, учителей и школ не должна быть правдивой (просто выдумайте).**\n",
    "\n",
    "**Пожалуйста, заархивируйте пакет и данный jupyter notebook вместе и отправьте архивный файл.**"
   ]
  },
  {
   "cell_type": "code",
   "execution_count": 22,
   "metadata": {},
   "outputs": [],
   "source": [
    "# Ваш код:"
   ]
  }
 ],
 "metadata": {
  "kernelspec": {
   "display_name": "Python 3",
   "language": "python",
   "name": "python3"
  },
  "language_info": {
   "codemirror_mode": {
    "name": "ipython",
    "version": 3
   },
   "file_extension": ".py",
   "mimetype": "text/x-python",
   "name": "python",
   "nbconvert_exporter": "python",
   "pygments_lexer": "ipython3",
   "version": "3.8.5-final"
  }
 },
 "nbformat": 4,
 "nbformat_minor": 2
}
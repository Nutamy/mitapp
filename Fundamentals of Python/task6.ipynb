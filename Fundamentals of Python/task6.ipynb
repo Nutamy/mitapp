{
 "cells": [
  {
   "cell_type": "markdown",
   "metadata": {},
   "source": [
    "### Основы: Условный оператор [Домашнее задание]\n",
    "\n",
    "Практика использования условного оператора (if-elif-else)."
   ]
  },
  {
   "cell_type": "code",
   "execution_count": 1,
   "metadata": {},
   "outputs": [],
   "source": [
    "num1 = 15\n",
    "num2 = 15.0"
   ]
  },
  {
   "cell_type": "markdown",
   "metadata": {},
   "source": [
    "### Каковы результаты следующих строк кода?\n",
    "```\n",
    "if num1 > num2:\n",
    "    print(\"{0} > {1}\".format(num1, num2))\n",
    "elif num1 < num2:\n",
    "    print(\"{0} < {1}\".format(num1, num2))\n",
    "else:\n",
    "    print(\"{0} == {1}\".format(num1, num2))\n",
    "```"
   ]
  },
  {
   "cell_type": "markdown",
   "metadata": {},
   "source": [
    "Теперь скопируйте код и выведите результаты этих операций.\n",
    "Результаты совпадают с вашими прогнозами?"
   ]
  },
  {
   "cell_type": "code",
   "execution_count": 4,
   "metadata": {},
   "outputs": [],
   "source": [
    "# Начало вашего кода \n",
    "if num1 > num2:\n",
    "    # Эта строчка кода не сработает потому как num1 не больше num2\n",
    "    print(\"{0} > {1}\".format(num1, num2))\n",
    "elif num1 < num2:\n",
    "    # тоже не сработает False\n",
    "    print(\"{0} < {1}\".format(num1, num2))\n",
    "else:\n",
    "    # True сработает\n",
    "    print(\"{0} == {1}\".format(num1, num2))\n",
    "# Конец вашего кода"
   ]
  },
  {
   "cell_type": "code",
   "execution_count": 2,
   "metadata": {},
   "outputs": [
    {
     "output_type": "stream",
     "name": "stdout",
     "text": [
      "Hello World\n"
     ]
    }
   ],
   "source": [
    "str1 = \"\"\n",
    "if str1:\n",
    "    print(\"Hello World\")\n",
    "else:\n",
    "    print(\"Error\")\n",
    "# str - не булевое значение. нет сравнения"
   ]
  },
  {
   "cell_type": "markdown",
   "metadata": {},
   "source": [
    "### Ожидаемые результаты:\n",
    "```\n",
    "15 == 15.0\n",
    "```"
   ]
  },
  {
   "cell_type": "code",
   "execution_count": 3,
   "metadata": {},
   "outputs": [
    {
     "output_type": "execute_result",
     "data": {
      "text/plain": [
       "True"
      ]
     },
     "metadata": {},
     "execution_count": 3
    }
   ],
   "source": [
    "15 == 15.0\n",
    "# True так как Python язык с динамической типизацией"
   ]
  },
  {
   "cell_type": "markdown",
   "metadata": {},
   "source": [
    "**Дополнительный вопрос:**\n",
    "\n",
    "```\n",
    "str1 = \"\"\n",
    "if str1:\n",
    "    print(\"Hello World\")\n",
    "else:\n",
    "    print(\"Error\")\n",
    "```"
   ]
  },
  {
   "cell_type": "code",
   "execution_count": null,
   "metadata": {},
   "outputs": [],
   "source": [
    "# Error нет оператора сравнения.\n",
    "# Строки сравнивают по числовым значениям символов в строке."
   ]
  }
 ],
 "metadata": {
  "kernelspec": {
   "display_name": "Python 3",
   "language": "python",
   "name": "python3"
  },
  "language_info": {
   "codemirror_mode": {
    "name": "ipython",
    "version": 3
   },
   "file_extension": ".py",
   "mimetype": "text/x-python",
   "name": "python",
   "nbconvert_exporter": "python",
   "pygments_lexer": "ipython3",
   "version": "3.8.5-final"
  }
 },
 "nbformat": 4,
 "nbformat_minor": 2
}
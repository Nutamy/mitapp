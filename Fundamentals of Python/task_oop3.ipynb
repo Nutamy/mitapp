{
 "cells": [
  {
   "cell_type": "markdown",
   "metadata": {},
   "source": [
    "### ООП: Подробности о методах [Домашнее  задание]\n",
    "\n",
    "---\n",
    "\n"
   ]
  },
  {
   "cell_type": "markdown",
   "metadata": {},
   "source": [
    "Пожалуйста, спроектируйте класс **Rectange** (Прямоугольник) таким образом, чтобы все следующие блоки кодов приводили к ожидаемым результатам.\n"
   ]
  },
  {
   "cell_type": "code",
   "execution_count": 25,
   "metadata": {},
   "outputs": [],
   "source": [
    "class Rectangle:\n",
    "    # Начало вашего кода \n",
    "    def __init__(self, width=3, height=5):\n",
    "        self.width = width\n",
    "        self.height = height\n",
    "    \n",
    "    def __str__(self):\n",
    "        return 'Rectangle with width {width} cm and height {height} cm'.format(width = self.width, height = self.height)\n",
    "    \n",
    "    def get_perimeter(self):\n",
    "        p = self.width * 2 + self.height * 2\n",
    "        return 'The perimeter of the rectangle is {p} cm'.format(p=p)\n",
    "    \n",
    "    def get_area(self):\n",
    "        area = self.width * self.height\n",
    "        return 'The area of the rectangle is {area} cm2'.format(area=area)\n",
    "        \n",
    "    @staticmethod\n",
    "    def get_info():\n",
    "        return 'This class calculates perimeter and area of the rectangles'\n",
    "    # Конец вашего кода"
   ]
  },
  {
   "cell_type": "code",
   "execution_count": 26,
   "metadata": {},
   "outputs": [
    {
     "output_type": "stream",
     "name": "stdout",
     "text": [
      "This class calculates perimeter and area of the rectangles\n"
     ]
    }
   ],
   "source": [
    "print(Rectangle.get_info())"
   ]
  },
  {
   "cell_type": "markdown",
   "metadata": {},
   "source": [
    "### Ожидаемый результат:\n",
    "```\n",
    "This class calculates perimeter and area of the rectangles\n",
    "```"
   ]
  },
  {
   "cell_type": "code",
   "execution_count": 27,
   "metadata": {},
   "outputs": [],
   "source": [
    "r1 = Rectangle(width=3, height=5)"
   ]
  },
  {
   "cell_type": "code",
   "execution_count": 28,
   "metadata": {},
   "outputs": [
    {
     "output_type": "stream",
     "name": "stdout",
     "text": [
      "Rectangle with width 3 cm and height 5 cm\n"
     ]
    }
   ],
   "source": [
    "print(r1)"
   ]
  },
  {
   "cell_type": "markdown",
   "metadata": {},
   "source": [
    "### Ожидаемый результат:\n",
    "```\n",
    "Rectangle with width 3 cm and height 5 cm\n",
    "```"
   ]
  },
  {
   "cell_type": "code",
   "execution_count": 29,
   "metadata": {},
   "outputs": [
    {
     "output_type": "stream",
     "name": "stdout",
     "text": [
      "The perimeter of the rectangle is 16 cm\n"
     ]
    }
   ],
   "source": [
    "print(r1.get_perimeter())"
   ]
  },
  {
   "cell_type": "markdown",
   "metadata": {},
   "source": [
    "### Ожидаемый результат:\n",
    "```\n",
    "The perimeter of the rectangle is 16 cm\n",
    "```"
   ]
  },
  {
   "cell_type": "code",
   "execution_count": 30,
   "metadata": {},
   "outputs": [
    {
     "output_type": "stream",
     "name": "stdout",
     "text": [
      "The area of the rectangle is 15 cm2\n"
     ]
    }
   ],
   "source": [
    "print(r1.get_area())"
   ]
  },
  {
   "cell_type": "markdown",
   "metadata": {},
   "source": [
    "### Ожидаемый результат:\n",
    "```\n",
    "The area of the rectangle is 15 cm2\n",
    "```"
   ]
  }
 ],
 "metadata": {
  "kernelspec": {
   "display_name": "Python 3",
   "language": "python",
   "name": "python3"
  },
  "language_info": {
   "codemirror_mode": {
    "name": "ipython",
    "version": 3
   },
   "file_extension": ".py",
   "mimetype": "text/x-python",
   "name": "python",
   "nbconvert_exporter": "python",
   "pygments_lexer": "ipython3",
   "version": "3.8.5-final"
  }
 },
 "nbformat": 4,
 "nbformat_minor": 2
}

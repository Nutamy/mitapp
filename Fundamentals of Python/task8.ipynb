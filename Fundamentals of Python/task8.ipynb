{
 "cells": [
  {
   "cell_type": "markdown",
   "metadata": {},
   "source": [
    "**1) Для заданного целого числа n выполнить следующие условные действия:**\n",
    "\n",
    "Если n нечетно, выведите Astana\n",
    "\n",
    "Если n чётно и находится в диапазоне от 2 до 5, выведите Алматы\n",
    "\n",
    "Если n чётно и находится в диапазоне от 6 до 20 включительно, выведите Astana\n",
    "\n",
    "Если n чётно и  больше 20, выведите Алматы"
   ]
  },
  {
   "cell_type": "code",
   "execution_count": null,
   "metadata": {},
   "outputs": [],
   "source": [
    "#Код\n",
    "n = int(input())\n",
    "if n % 2 == 1:\n",
    "    print('Astana')\n",
    "elif n % 2 == 0:\n",
    "    if 2 <= n <= 5:\n",
    "        print('Алматы')\n",
    "    elif 6 <= n <= 20:\n",
    "        print('Astana')\n",
    "    elif n > 20:\n",
    "        print('Алматы') \n"
   ]
  },
  {
   "cell_type": "markdown",
   "metadata": {},
   "source": [
    "**2) Дано целое число n. Для всех неотрицательных целых чисел i <n, выведите квадрат числа i.**"
   ]
  },
  {
   "cell_type": "code",
   "execution_count": null,
   "metadata": {},
   "outputs": [],
   "source": [
    "#Код\n",
    "n = int(input())\n",
    "for i in range(0, n+1):\n",
    "    print(i**2)"
   ]
  },
  {
   "cell_type": "markdown",
   "metadata": {},
   "source": [
    "**3) Дано целое число n.**\n",
    "\n",
    "Не используя строковые методы, попробуйте напечатать следующее:\n",
    "\n",
    "<code>123.....n</code>\n",
    "\n",
    "Обратите внимание, что <code> ... </code> представляет значения между ними."
   ]
  },
  {
   "cell_type": "code",
   "execution_count": null,
   "metadata": {},
   "outputs": [],
   "source": [
    "#Код\n",
    "n = int(input())\n",
    "for i in range(1, n+1):\n",
    "    print(i, end='')\n"
   ]
  },
  {
   "cell_type": "markdown",
   "metadata": {},
   "source": [
    "**4) Какова сумма первых 10 натуральных чисел?**"
   ]
  },
  {
   "cell_type": "code",
   "execution_count": 1,
   "metadata": {},
   "outputs": [
    {
     "output_type": "stream",
     "name": "stdout",
     "text": [
      "55\n"
     ]
    }
   ],
   "source": [
    "#Код\n",
    "sum = 0\n",
    "for i in range(0, 11):\n",
    "    sum += i\n",
    "print(sum)"
   ]
  },
  {
   "cell_type": "markdown",
   "metadata": {},
   "source": [
    "**5) Напишите программу на Python, которая принимает радиус круга от пользователя и вычисляет площадь.**\n",
    "\n",
    "**Tip**: <code>from math import pi</code>"
   ]
  },
  {
   "cell_type": "code",
   "execution_count": null,
   "metadata": {},
   "outputs": [],
   "source": [
    "#Код\n",
    "r = float(input())\n",
    "s = 3.14*r**2\n",
    "print(s)"
   ]
  },
  {
   "cell_type": "markdown",
   "metadata": {},
   "source": [
    "**6)  Напишите программу на Python, чтобы получить объем сферы с радиусом 7.**"
   ]
  },
  {
   "cell_type": "code",
   "execution_count": null,
   "metadata": {},
   "outputs": [],
   "source": [
    "#Код\n",
    "from math import pi\n",
    "r = float(input())\n",
    "v =(4/3) * pi * r**3\n",
    "print(v)"
   ]
  },
  {
   "cell_type": "markdown",
   "metadata": {},
   "source": [
    "**7) Напишите программу на Python, которая принимает целое число n и вычисляет значение n + nn + nnn. (nn-двузначное число)**"
   ]
  },
  {
   "cell_type": "code",
   "execution_count": null,
   "metadata": {},
   "outputs": [],
   "source": [
    "#Код\n",
    "n = input()\n",
    "print(int(n)+int(n+n)+int(n+n+n))"
   ]
  },
  {
   "cell_type": "markdown",
   "metadata": {},
   "source": [
    "**8) Напишите программу на Python, которая примет основание и высоту треугольника и вычислит площадь.**"
   ]
  },
  {
   "cell_type": "code",
   "execution_count": null,
   "metadata": {},
   "outputs": [],
   "source": [
    "#Код\n",
    "a = float(input())\n",
    "h = float(input())\n",
    "s = (1/2) * a * h\n",
    "print(s)"
   ]
  },
  {
   "cell_type": "markdown",
   "metadata": {},
   "source": [
    "**9) Напишите программу на Python для преобразования высоты (в футах и дюймах) в сантиметры.**"
   ]
  },
  {
   "cell_type": "code",
   "execution_count": null,
   "metadata": {},
   "outputs": [],
   "source": [
    "#Код\n",
    "f = float(input()) * 30.48\n",
    "d = float(input()) * 2.54\n",
    "sm = f + d\n",
    "print(sm)"
   ]
  },
  {
   "cell_type": "markdown",
   "metadata": {},
   "source": [
    "**10) Напишите программу на Python для вычисления расстояния между точками (x1, y1) и (x2, y2).**"
   ]
  },
  {
   "cell_type": "code",
   "execution_count": null,
   "metadata": {},
   "outputs": [],
   "source": [
    "#Код\n",
    "from math import hypot\n",
    "x1 = float(input())\n",
    "y1 = float(input())\n",
    "x2 = float(input())\n",
    "y2 = float(input())\n",
    "dist = hypot(x1, y1, x2, y2)"
   ]
  },
  {
   "cell_type": "markdown",
   "metadata": {},
   "source": [
    "**11) Напишите программу на Python для вычисления гипотенузы прямоугольного треугольника.**"
   ]
  },
  {
   "cell_type": "code",
   "execution_count": null,
   "metadata": {},
   "outputs": [],
   "source": [
    "#Код\n",
    "a = float(input())\n",
    "b = float(input())\n",
    "c = (a**2 + b**2)**(1/2)\n",
    "print(c)"
   ]
  },
  {
   "cell_type": "markdown",
   "metadata": {},
   "source": [
    "**12) Сколько натуральных чисел не больше 100 делиться на 7 и на 2?**"
   ]
  },
  {
   "cell_type": "code",
   "execution_count": 2,
   "metadata": {},
   "outputs": [
    {
     "output_type": "stream",
     "name": "stdout",
     "text": [
      "8\n"
     ]
    }
   ],
   "source": [
    "x = 0\n",
    "for i in range(0, 101):\n",
    "    if i%7==0 and i%2==0:\n",
    "        x +=1\n",
    "print(x)"
   ]
  },
  {
   "cell_type": "markdown",
   "metadata": {},
   "source": [
    "# Прекрасная работа!"
   ]
  }
 ],
 "metadata": {
  "kernelspec": {
   "display_name": "Python 3",
   "language": "python",
   "name": "python3"
  },
  "language_info": {
   "codemirror_mode": {
    "name": "ipython",
    "version": 3
   },
   "file_extension": ".py",
   "mimetype": "text/x-python",
   "name": "python",
   "nbconvert_exporter": "python",
   "pygments_lexer": "ipython3",
   "version": "3.8.5-final"
  }
 },
 "nbformat": 4,
 "nbformat_minor": 2
}

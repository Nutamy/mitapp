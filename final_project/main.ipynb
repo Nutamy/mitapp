{
 "cells": [
  {
   "cell_type": "markdown",
   "metadata": {},
   "source": [
    "Финальный Проект\n",
    "---"
   ]
  },
  {
   "cell_type": "markdown",
   "metadata": {},
   "source": [
    "Пожалуйста, создайте пакет **education**, который содержит следующие модули:\n",
    "\n",
    "1. users\n",
    "2. organizations\n",
    "\n",
    "Когда вы запускаете пакет напрямую, он должен показывать все модули, указанные в пакете."
   ]
  },
  {
   "cell_type": "code",
   "execution_count": 9,
   "metadata": {},
   "outputs": [
    {
     "output_type": "error",
     "ename": "ModuleNotFoundError",
     "evalue": "No module named 'users'",
     "traceback": [
      "\u001b[0;31m---------------------------------------------------------------------------\u001b[0m",
      "\u001b[0;31mModuleNotFoundError\u001b[0m                       Traceback (most recent call last)",
      "\u001b[0;32m<ipython-input-9-f7e1e4dd669c>\u001b[0m in \u001b[0;36m<module>\u001b[0;34m\u001b[0m\n\u001b[0;32m----> 1\u001b[0;31m \u001b[0;32mimport\u001b[0m \u001b[0meducation\u001b[0m\u001b[0;34m.\u001b[0m\u001b[0morganizations\u001b[0m \u001b[0;32mas\u001b[0m \u001b[0morg\u001b[0m\u001b[0;34m\u001b[0m\u001b[0;34m\u001b[0m\u001b[0m\n\u001b[0m\u001b[1;32m      2\u001b[0m \u001b[0;32mimport\u001b[0m \u001b[0meducation\u001b[0m\u001b[0;34m.\u001b[0m\u001b[0musers\u001b[0m \u001b[0;32mas\u001b[0m \u001b[0muser\u001b[0m\u001b[0;34m\u001b[0m\u001b[0;34m\u001b[0m\u001b[0m\n",
      "\u001b[0;32m~/Документы/PythonNutamy/Mitapp/final_project/education/organizations.py\u001b[0m in \u001b[0;36m<module>\u001b[0;34m\u001b[0m\n\u001b[1;32m      1\u001b[0m \u001b[0;32mimport\u001b[0m \u001b[0mcsv\u001b[0m\u001b[0;34m\u001b[0m\u001b[0;34m\u001b[0m\u001b[0m\n\u001b[0;32m----> 2\u001b[0;31m \u001b[0;32mimport\u001b[0m \u001b[0musers\u001b[0m\u001b[0;34m\u001b[0m\u001b[0;34m\u001b[0m\u001b[0m\n\u001b[0m\u001b[1;32m      3\u001b[0m \u001b[0;34m\u001b[0m\u001b[0m\n\u001b[1;32m      4\u001b[0m \u001b[0;32mclass\u001b[0m \u001b[0mSchool\u001b[0m\u001b[0;34m:\u001b[0m\u001b[0;34m\u001b[0m\u001b[0;34m\u001b[0m\u001b[0m\n\u001b[1;32m      5\u001b[0m     \u001b[0;32mdef\u001b[0m \u001b[0m__init__\u001b[0m\u001b[0;34m(\u001b[0m\u001b[0mself\u001b[0m\u001b[0;34m,\u001b[0m \u001b[0mname\u001b[0m\u001b[0;34m=\u001b[0m\u001b[0;32mNone\u001b[0m\u001b[0;34m,\u001b[0m \u001b[0maddress\u001b[0m\u001b[0;34m=\u001b[0m\u001b[0;32mNone\u001b[0m\u001b[0;34m,\u001b[0m \u001b[0mphone\u001b[0m\u001b[0;34m=\u001b[0m\u001b[0;32mNone\u001b[0m\u001b[0;34m,\u001b[0m \u001b[0memail\u001b[0m\u001b[0;34m=\u001b[0m\u001b[0;32mNone\u001b[0m\u001b[0;34m,\u001b[0m \u001b[0mnum_stud\u001b[0m\u001b[0;34m=\u001b[0m\u001b[0;32mNone\u001b[0m\u001b[0;34m,\u001b[0m \u001b[0mnum_teachers\u001b[0m\u001b[0;34m=\u001b[0m\u001b[0;32mNone\u001b[0m\u001b[0;34m)\u001b[0m\u001b[0;34m:\u001b[0m\u001b[0;34m\u001b[0m\u001b[0;34m\u001b[0m\u001b[0m\n",
      "\u001b[0;31mModuleNotFoundError\u001b[0m: No module named 'users'"
     ]
    }
   ],
   "source": [
    "import education.organizations as org\n",
    "import education.users as user"
   ]
  },
  {
   "cell_type": "code",
   "execution_count": 7,
   "metadata": {},
   "outputs": [
    {
     "output_type": "stream",
     "name": "stdout",
     "text": [
      "['__all__', '__builtins__', '__cached__', '__doc__', '__file__', '__loader__', '__name__', '__package__', '__path__', '__spec__']\n"
     ]
    }
   ],
   "source": [
    "print(dir(education))"
   ]
  },
  {
   "cell_type": "code",
   "execution_count": 8,
   "metadata": {},
   "outputs": [
    {
     "output_type": "error",
     "ename": "NameError",
     "evalue": "name 'org' is not defined",
     "traceback": [
      "\u001b[0;31m---------------------------------------------------------------------------\u001b[0m",
      "\u001b[0;31mNameError\u001b[0m                                 Traceback (most recent call last)",
      "\u001b[0;32m<ipython-input-8-f1483acaba33>\u001b[0m in \u001b[0;36m<module>\u001b[0;34m\u001b[0m\n\u001b[0;32m----> 1\u001b[0;31m \u001b[0mschool001\u001b[0m \u001b[0;34m=\u001b[0m \u001b[0morg\u001b[0m\u001b[0;34m.\u001b[0m\u001b[0mSchool\u001b[0m\u001b[0;34m(\u001b[0m\u001b[0mname\u001b[0m\u001b[0;34m=\u001b[0m\u001b[0;34m\"NIS\"\u001b[0m\u001b[0;34m,\u001b[0m \u001b[0maddress\u001b[0m\u001b[0;34m=\u001b[0m\u001b[0;34m\"Astana, Kazakhstan\"\u001b[0m\u001b[0;34m,\u001b[0m \u001b[0mphone\u001b[0m\u001b[0;34m=\u001b[0m\u001b[0;34m\"999999\"\u001b[0m\u001b[0;34m,\u001b[0m \u001b[0mnum_stud\u001b[0m\u001b[0;34m=\u001b[0m\u001b[0;36m1000\u001b[0m\u001b[0;34m,\u001b[0m \u001b[0mnum_teachers\u001b[0m\u001b[0;34m=\u001b[0m\u001b[0;36m50\u001b[0m\u001b[0;34m)\u001b[0m\u001b[0;34m\u001b[0m\u001b[0;34m\u001b[0m\u001b[0m\n\u001b[0m",
      "\u001b[0;31mNameError\u001b[0m: name 'org' is not defined"
     ]
    }
   ],
   "source": [
    "school001 = org.School(name=\"NIS\", address=\"Astana, Kazakhstan\", phone=\"999999\", num_stud=1000, num_teachers=50)"
   ]
  },
  {
   "cell_type": "code",
   "execution_count": 3,
   "metadata": {},
   "outputs": [
    {
     "output_type": "execute_result",
     "data": {
      "text/plain": [
       "{'Name': 'Nataly',\n",
       " 'Surname': 'Kozulina',\n",
       " 'Age': '22',\n",
       " 'Gender': 'female',\n",
       " 'Nationality': 'russian',\n",
       " 'School': 'Tumos',\n",
       " 'Subjects': ['Algebra', 'Biology']}"
      ]
     },
     "metadata": {},
     "execution_count": 3
    }
   ],
   "source": [
    "student001.get_info()"
   ]
  },
  {
   "cell_type": "code",
   "execution_count": 4,
   "metadata": {},
   "outputs": [
    {
     "output_type": "execute_result",
     "data": {
      "text/plain": [
       "{'School': 'NIS',\n",
       " 'Address': 'Astana, Kazakhstan',\n",
       " 'Phone': '999999',\n",
       " 'Email': None,\n",
       " 'Number of students': 1000,\n",
       " 'Number of teachers': 50}"
      ]
     },
     "metadata": {},
     "execution_count": 4
    }
   ],
   "source": [
    "school001.get_info()"
   ]
  },
  {
   "cell_type": "code",
   "execution_count": 5,
   "metadata": {},
   "outputs": [
    {
     "output_type": "execute_result",
     "data": {
      "text/plain": [
       "{'Name': 'John',\n",
       " 'Surname': 'Wick',\n",
       " 'Age': 35,\n",
       " 'Gender': 'male',\n",
       " 'Nationality': 'USA'}"
      ]
     },
     "metadata": {},
     "execution_count": 5
    }
   ],
   "source": [
    "h1 = user.Human(name=\"John\", surname=\"Wick\", age=35, gender=\"male\", nationality=\"USA\")\n",
    "\n",
    "h1.get_info()"
   ]
  },
  {
   "cell_type": "code",
   "execution_count": 6,
   "metadata": {},
   "outputs": [],
   "source": [
    "student001.set_school('Molly')"
   ]
  },
  {
   "cell_type": "code",
   "execution_count": 7,
   "metadata": {},
   "outputs": [],
   "source": [
    "student001.add_subject('History')"
   ]
  },
  {
   "cell_type": "code",
   "execution_count": 8,
   "metadata": {},
   "outputs": [
    {
     "output_type": "execute_result",
     "data": {
      "text/plain": [
       "{'Name': 'Nataly',\n",
       " 'Surname': 'Kozulina',\n",
       " 'Age': '22',\n",
       " 'Gender': 'female',\n",
       " 'Nationality': 'russian',\n",
       " 'School': 'Molly',\n",
       " 'Subjects': ['Algebra', 'Biology', 'History']}"
      ]
     },
     "metadata": {},
     "execution_count": 8
    }
   ],
   "source": [
    "student001.get_info()"
   ]
  },
  {
   "cell_type": "code",
   "execution_count": 9,
   "metadata": {},
   "outputs": [],
   "source": [
    "school001.get_report()"
   ]
  },
  {
   "cell_type": "markdown",
   "metadata": {},
   "source": [
    "## Описание модулей приведено ниже:"
   ]
  },
  {
   "cell_type": "markdown",
   "metadata": {},
   "source": [
    "### Модуль **users** должен содержать классы **Human, Student(Human), Teacher(Human)**.\n",
    "\n",
    "1. Класс **Human** должен содержать следующую информацию: имя, фамилию, возраст, пол, национальность, а также способы задания этой информации.\n",
    " \n",
    ">``` \n",
    "> h1 = Human(name=\"John\", familyname=\"Wick\", age=35, gender=\"male\", nationality=\"USA\")\n",
    "> ``` \n",
    "\n",
    "Список методов:\n",
    "> ```\n",
    "set_name()\n",
    "set_family()\n",
    "set_age()\n",
    "set_gender()\n",
    "set_nationality()\n",
    "get_info() # возвращает словарь с личной информацией об объекте\n",
    "> ```\n",
    "\n",
    "2. Класс **Student** - это детский класс класса Human. Он должен содержать следующую информацию о каждом студенте: имя, фамилия, возраст, пол, национальность, название школы или университета, список предметов и соответствующие методы для установки этой информации.\n",
    "\n",
    "\n",
    "Список методов в дополнение к списку методов из родительского класса Human:\n",
    "> ```\n",
    "set_school()\n",
    "add_subject() # добавить предмет в список предметов\n",
    "> ```\n",
    "\n",
    "\n",
    "3. Класс **Teacher** - это детский класс класса Human. Он должен содержать следующую информацию о каждом преподавателе: имя, фамилия, возраст, пол, национальность, название школы или университета, предмет преподавания и соответствующие методы для установки этой информации.\n",
    "\n",
    "Список методов в дополнение к списку методов из родительского класса Human:\n",
    "> ```\n",
    "set_school()\n",
    "add_subject() # добавить предмет преподаваемый учителем\n",
    "> ```\n",
    "\n",
    "* При непосредственном запуске модуля **users** напрямую должен отображаться список классов, а также списки методов соответствующих классов, приведенных в модуле.\n",
    "\n",
    "* Когда вы импортируете модуль, он должен показать, что модуль был успешно импортирован.\n",
    "\n",
    "---"
   ]
  },
  {
   "cell_type": "markdown",
   "metadata": {},
   "source": [
    "### Модуль **organizations** должен содержать класс **School**.\n",
    "\n",
    "Класс **School** должен содержать следующую информацию: название или номер школы, адрес школы, номер телефона школы, электронный адрес учебного заведения, количество учеников, количество учителей, а также способы задания этой информации.\n",
    " \n",
    " \n",
    ">``` \n",
    "> s1 = School(name=\"NIS\", address=\"Astana, Kazakhstan\", phone=\"999999\", num_stud=1000, num_teachers=50)\n",
    "> ``` \n",
    "\n",
    "Список методов:\n",
    "> ```\n",
    "set_name()\n",
    "set_address()\n",
    "set_phone()\n",
    "set_email()\n",
    "set_num_stud()\n",
    "set_num_teachers()\n",
    "add_student()\n",
    "add_teacher()\n",
    "get_info() # возвращает словарь с информацией про школу без личной информации студентов / преподавателей\n",
    "get_report() # создает отчет (файл \"csv\") с информацией о школе и о каждом ученике, а также о преподавателе в этой школе. \n",
    "> ```\n",
    "\n",
    "**Пожалуйста, сделайте правильный формат файла CSV (который вы считаете наиболее понятным)**\n",
    "\n",
    "* При непосредственном запуске модуля **organizations** напрямую должен отображаться список классов, а также списки методов соответствующих классов, приведенных в модуле.\n",
    "\n",
    "* Когда вы импортируете модуль, он должен показать, что модуль был успешно импортирован.\n",
    "\n",
    "---"
   ]
  },
  {
   "cell_type": "markdown",
   "metadata": {},
   "source": [
    "### Что делать в jupyter notebook?\n",
    "\n",
    "В этом jupyter notebook, пожалуйста, проверьте все функциональные возможности вашего пакета. Как минимум создайте 2-3 школы, в каждой школе должно быть не менее 10 учеников (с разной информацией), а также как минимум 2 учителя разных предметов и личной информации. **Личная информация этих учеников, учителей и школ не должна быть правдивой (просто выдумайте).**\n",
    "\n",
    "**Пожалуйста, заархивируйте пакет и данный jupyter notebook вместе и отправьте архивный файл.**"
   ]
  },
  {
   "cell_type": "code",
   "execution_count": 10,
   "metadata": {},
   "outputs": [],
   "source": [
    "# Ваш код:"
   ]
  }
 ],
 "metadata": {
  "kernelspec": {
   "display_name": "Python 3",
   "language": "python",
   "name": "python3"
  },
  "language_info": {
   "codemirror_mode": {
    "name": "ipython",
    "version": 3
   },
   "file_extension": ".py",
   "mimetype": "text/x-python",
   "name": "python",
   "nbconvert_exporter": "python",
   "pygments_lexer": "ipython3",
   "version": "3.8.5-final"
  }
 },
 "nbformat": 4,
 "nbformat_minor": 2
}
{
 "cells": [
  {
   "cell_type": "markdown",
   "metadata": {},
   "source": [
    "### ООП: Наследование [Домашнее задание]\n",
    "\n",
    "---"
   ]
  },
  {
   "cell_type": "markdown",
   "metadata": {},
   "source": [
    "### Шаг 1:\n",
    "\n",
    "Пожалуйста, спроектируйте родительский класс **Rectange** (Прямоугольник) таким образом, чтобы все следующие блоки кодов приводили к ожидаемым результатам."
   ]
  },
  {
   "cell_type": "code",
   "execution_count": 1,
   "metadata": {},
   "outputs": [],
   "source": [
    "class Rectangle:\n",
    "    def __init__(self, width=None, height=None):\n",
    "        # Начало вашего кода\n",
    "        self.__width = width\n",
    "        self.__height = height\n",
    "        # Конец вашего кода\n",
    "    \n",
    "    def __str__(self):\n",
    "        # Начало вашего кода\n",
    "        return 'Rectangle with width {width} cm and height {height} cm'.format(width = self.__width, height = self.__height)\n",
    "        # Конец вашего кода\n",
    "    \n",
    "    def get_area(self):\n",
    "        # Начало вашего кода\n",
    "        area = self.__width * self.__height\n",
    "        return area\n",
    "        # Конец вашего кода\n",
    "        \n",
    "    def get_perimeter(self):\n",
    "        # Начало вашего кода\n",
    "        p = self.__width * 2 + self.__height * 2\n",
    "        return p\n",
    "        # Конец вашего кода\n",
    "    \n",
    "    @staticmethod\n",
    "    def get_info():\n",
    "        # Начало вашего кода\n",
    "        return 'This class calculates perimeter and area of the rectangles'\n",
    "        # Конец вашего кода"
   ]
  },
  {
   "cell_type": "code",
   "execution_count": 2,
   "metadata": {},
   "outputs": [
    {
     "output_type": "stream",
     "name": "stdout",
     "text": [
      "['__class__', '__delattr__', '__dict__', '__dir__', '__doc__', '__eq__', '__format__', '__ge__', '__getattribute__', '__gt__', '__hash__', '__init__', '__init_subclass__', '__le__', '__lt__', '__module__', '__ne__', '__new__', '__reduce__', '__reduce_ex__', '__repr__', '__setattr__', '__sizeof__', '__str__', '__subclasshook__', '__weakref__', 'get_area', 'get_info', 'get_perimeter']\n"
     ]
    }
   ],
   "source": [
    "print(dir(Rectangle))"
   ]
  },
  {
   "cell_type": "markdown",
   "metadata": {},
   "source": [
    "### Ожидаемый результат:\n",
    "```\n",
    "['__class__', '__delattr__', '__dict__', '__dir__', '__doc__', '__eq__', '__format__', '__ge__', '__getattribute__', '__gt__', '__hash__', '__init__', '__init_subclass__', '__le__', '__lt__', '__module__', '__ne__', '__new__', '__reduce__', '__reduce_ex__', '__repr__', '__setattr__', '__sizeof__', '__str__', '__subclasshook__', '__weakref__', 'get_area', 'get_info', 'get_perimeter']\n",
    "```"
   ]
  },
  {
   "cell_type": "code",
   "execution_count": 3,
   "metadata": {},
   "outputs": [
    {
     "output_type": "stream",
     "name": "stdout",
     "text": [
      "This class calculates perimeter and area of the rectangles\n"
     ]
    }
   ],
   "source": [
    "print(Rectangle.get_info())"
   ]
  },
  {
   "cell_type": "markdown",
   "metadata": {},
   "source": [
    "### Ожидаемый результат:\n",
    "```\n",
    "This class calculates perimeter and area of the rectangles\n",
    "```"
   ]
  },
  {
   "cell_type": "code",
   "execution_count": 4,
   "metadata": {},
   "outputs": [],
   "source": [
    "r1 = Rectangle(width=3, height=5)"
   ]
  },
  {
   "cell_type": "code",
   "execution_count": 5,
   "metadata": {},
   "outputs": [
    {
     "output_type": "stream",
     "name": "stdout",
     "text": [
      "Rectangle with width 3 cm and height 5 cm\n"
     ]
    }
   ],
   "source": [
    "print(r1)"
   ]
  },
  {
   "cell_type": "markdown",
   "metadata": {},
   "source": [
    "### Ожидаемый результат:\n",
    "```\n",
    "Rectangle with width 3 cm and height 5 cm\n",
    "```"
   ]
  },
  {
   "cell_type": "code",
   "execution_count": 6,
   "metadata": {},
   "outputs": [
    {
     "output_type": "stream",
     "name": "stdout",
     "text": [
      "The perimeter is 16 cm\n"
     ]
    }
   ],
   "source": [
    "print(\"The perimeter is {} cm\".format(r1.get_perimeter()))"
   ]
  },
  {
   "cell_type": "markdown",
   "metadata": {},
   "source": [
    "### Ожидаемый результат:\n",
    "```\n",
    "The perimeter is 16 cm\n",
    "```"
   ]
  },
  {
   "cell_type": "code",
   "execution_count": 7,
   "metadata": {},
   "outputs": [
    {
     "output_type": "stream",
     "name": "stdout",
     "text": [
      "The area is 15 cm2\n"
     ]
    }
   ],
   "source": [
    "print(\"The area is {} cm2\".format(r1.get_area()))"
   ]
  },
  {
   "cell_type": "markdown",
   "metadata": {},
   "source": [
    "### Ожидаемый результат:\n",
    "```\n",
    "The area is 15 cm2\n",
    "```"
   ]
  },
  {
   "cell_type": "markdown",
   "metadata": {},
   "source": [
    "---\n",
    "### Шаг 2:\n",
    "\n",
    "Пожалуйста, спроектируйте детский класс **Square** (Квадрат) таким образом, чтобы все следующие блоки кодов приводили к ожидаемым результатам."
   ]
  },
  {
   "cell_type": "code",
   "execution_count": 8,
   "metadata": {},
   "outputs": [],
   "source": [
    "class Square(Rectangle):\n",
    "    def __init__(self, side = None):\n",
    "        # Начало вашего кода        \n",
    "        self.side = side\n",
    "        super().__init__(width=self.side, height=self.side)\n",
    "        # Конец вашего кода\n",
    "        \n",
    "    def __str__(self):\n",
    "        # Начало вашего кода\n",
    "        return 'Square with side {side} cm'.format(side = self.side)\n",
    "        # Конец вашего кода\n",
    "        \n",
    "    @staticmethod\n",
    "    def get_info():\n",
    "        # Начало вашего кода\n",
    "        return 'This class calculates perimeter and area of the square'\n",
    "        # Конец вашего кода"
   ]
  },
  {
   "cell_type": "code",
   "execution_count": 9,
   "metadata": {},
   "outputs": [
    {
     "output_type": "stream",
     "name": "stdout",
     "text": [
      "['__class__', '__delattr__', '__dict__', '__dir__', '__doc__', '__eq__', '__format__', '__ge__', '__getattribute__', '__gt__', '__hash__', '__init__', '__init_subclass__', '__le__', '__lt__', '__module__', '__ne__', '__new__', '__reduce__', '__reduce_ex__', '__repr__', '__setattr__', '__sizeof__', '__str__', '__subclasshook__', '__weakref__', 'get_area', 'get_info', 'get_perimeter']\n"
     ]
    }
   ],
   "source": [
    "print(dir(Square))"
   ]
  },
  {
   "cell_type": "markdown",
   "metadata": {},
   "source": [
    "### Ожидаемый результат:\n",
    "```\n",
    "['__class__', '__delattr__', '__dict__', '__dir__', '__doc__', '__eq__', '__format__', '__ge__', '__getattribute__', '__gt__', '__hash__', '__init__', '__init_subclass__', '__le__', '__lt__', '__module__', '__ne__', '__new__', '__reduce__', '__reduce_ex__', '__repr__', '__setattr__', '__sizeof__', '__str__', '__subclasshook__', '__weakref__', 'get_area', 'get_info', 'get_perimeter']\n",
    "```"
   ]
  },
  {
   "cell_type": "code",
   "execution_count": 10,
   "metadata": {},
   "outputs": [
    {
     "output_type": "stream",
     "name": "stdout",
     "text": [
      "This class calculates perimeter and area of the square\n"
     ]
    }
   ],
   "source": [
    "print(Square.get_info())"
   ]
  },
  {
   "cell_type": "markdown",
   "metadata": {},
   "source": [
    "### Ожидаемый результат:\n",
    "```\n",
    "This class calculates perimeter and area of the square\n",
    "```"
   ]
  },
  {
   "cell_type": "code",
   "execution_count": 11,
   "metadata": {},
   "outputs": [],
   "source": [
    "s1 = Square(side = 10)"
   ]
  },
  {
   "cell_type": "code",
   "execution_count": 12,
   "metadata": {},
   "outputs": [
    {
     "output_type": "stream",
     "name": "stdout",
     "text": [
      "Square with side 10 cm\n"
     ]
    }
   ],
   "source": [
    "print(s1)"
   ]
  },
  {
   "cell_type": "markdown",
   "metadata": {},
   "source": [
    "### Ожидаемый результат:\n",
    "```\n",
    "Square with side 10 cm\n",
    "```"
   ]
  },
  {
   "cell_type": "code",
   "execution_count": 13,
   "metadata": {},
   "outputs": [
    {
     "output_type": "stream",
     "name": "stdout",
     "text": [
      "The perimeter is 40 cm\n"
     ]
    }
   ],
   "source": [
    "print(\"The perimeter is {} cm\".format(s1.get_perimeter()))"
   ]
  },
  {
   "cell_type": "markdown",
   "metadata": {},
   "source": [
    "### Ожидаемый результат:\n",
    "```\n",
    "The perimeter is 40 cm\n",
    "```"
   ]
  },
  {
   "cell_type": "code",
   "execution_count": 14,
   "metadata": {},
   "outputs": [
    {
     "output_type": "stream",
     "name": "stdout",
     "text": [
      "The area is 100 cm2\n"
     ]
    }
   ],
   "source": [
    "print(\"The area is {} cm2\".format(s1.get_area()))"
   ]
  },
  {
   "cell_type": "markdown",
   "metadata": {},
   "source": [
    "### Ожидаемый результат:\n",
    "```\n",
    "The area is 100 cm2\n",
    "```"
   ]
  },
  {
   "cell_type": "markdown",
   "metadata": {},
   "source": [
    "---\n",
    "### Шаг 3:\n",
    "\n",
    "Пожалуйста, спроектируйте детский класс  **Cube** (Куб) таким образом, чтобы все следующие блоки кодов приводили к ожидаемым результатам. "
   ]
  },
  {
   "cell_type": "code",
   "execution_count": 113,
   "metadata": {},
   "outputs": [],
   "source": [
    "class Cube(Square):\n",
    "    def __init__(self, side=None):\n",
    "        # Начало вашего кода\n",
    "        self.side = side\n",
    "        # Конец вашего кода\n",
    "    \n",
    "    def __str__(self):\n",
    "        # Начало вашего кода\n",
    "        return 'Cube with side {side} cm'.format(side = self.side)\n",
    "        # Конец вашего кода\n",
    "    \n",
    "    def get_surface_area(self):\n",
    "        # Начало вашего кода\n",
    "        sur_area = self.side**2 * 6\n",
    "        return sur_area\n",
    "        # Конец вашего кода\n",
    "    \n",
    "    def get_volume(self):\n",
    "        # Начало вашего кода\n",
    "        v = self.side**3\n",
    "        return v\n",
    "        # Конец вашего кода\n",
    "    \n",
    "    @staticmethod\n",
    "    def get_info():\n",
    "        # Начало вашего кода\n",
    "        return 'This class calculates surface area and volume of the cube'\n",
    "        # Конец вашего кода"
   ]
  },
  {
   "cell_type": "code",
   "execution_count": 114,
   "metadata": {},
   "outputs": [
    {
     "output_type": "stream",
     "name": "stdout",
     "text": [
      "['__class__', '__delattr__', '__dict__', '__dir__', '__doc__', '__eq__', '__format__', '__ge__', '__getattribute__', '__gt__', '__hash__', '__init__', '__init_subclass__', '__le__', '__lt__', '__module__', '__ne__', '__new__', '__reduce__', '__reduce_ex__', '__repr__', '__setattr__', '__sizeof__', '__str__', '__subclasshook__', '__weakref__', 'get_area', 'get_info', 'get_perimeter', 'get_surface_area', 'get_volume']\n"
     ]
    }
   ],
   "source": [
    "print(dir(Cube))"
   ]
  },
  {
   "cell_type": "markdown",
   "metadata": {},
   "source": [
    "### Ожидаемый результат:\n",
    "```\n",
    "['__class__', '__delattr__', '__dict__', '__dir__', '__doc__', '__eq__', '__format__', '__ge__', '__getattribute__', '__gt__', '__hash__', '__init__', '__init_subclass__', '__le__', '__lt__', '__module__', '__ne__', '__new__', '__reduce__', '__reduce_ex__', '__repr__', '__setattr__', '__sizeof__', '__str__', '__subclasshook__', '__weakref__', 'get_area', 'get_info', 'get_perimeter', 'get_surface_area', 'get_volume']\n",
    "```"
   ]
  },
  {
   "cell_type": "code",
   "execution_count": 115,
   "metadata": {},
   "outputs": [
    {
     "output_type": "stream",
     "name": "stdout",
     "text": [
      "This class calculates surface area and volume of the cube\n"
     ]
    }
   ],
   "source": [
    "print(Cube.get_info())"
   ]
  },
  {
   "cell_type": "markdown",
   "metadata": {},
   "source": [
    "### Ожидаемый результат:\n",
    "```\n",
    "This class calculates surface area and volume of the cube\n",
    "```"
   ]
  },
  {
   "cell_type": "code",
   "execution_count": 116,
   "metadata": {},
   "outputs": [],
   "source": [
    "c1 = Cube(side = 10)"
   ]
  },
  {
   "cell_type": "code",
   "execution_count": 117,
   "metadata": {},
   "outputs": [
    {
     "output_type": "stream",
     "name": "stdout",
     "text": [
      "Cube with side 10 cm\n"
     ]
    }
   ],
   "source": [
    "print(c1)"
   ]
  },
  {
   "cell_type": "markdown",
   "metadata": {},
   "source": [
    "### Ожидаемый результат:\n",
    "```\n",
    "Cube with side 10 cm\n",
    "```"
   ]
  },
  {
   "cell_type": "code",
   "execution_count": 118,
   "metadata": {},
   "outputs": [
    {
     "output_type": "stream",
     "name": "stdout",
     "text": [
      "The surface area is 600 cm2\n"
     ]
    }
   ],
   "source": [
    "print(\"The surface area is {} cm2\".format(c1.get_surface_area()))"
   ]
  },
  {
   "cell_type": "markdown",
   "metadata": {},
   "source": [
    "### Ожидаемый результат:\n",
    "```\n",
    "The surface area is 600 cm2\n",
    "```"
   ]
  },
  {
   "cell_type": "code",
   "execution_count": 119,
   "metadata": {},
   "outputs": [
    {
     "output_type": "stream",
     "name": "stdout",
     "text": [
      "The volume is 1000 cm2\n"
     ]
    }
   ],
   "source": [
    "print(\"The volume is {} cm2\".format(c1.get_volume()))"
   ]
  },
  {
   "cell_type": "markdown",
   "metadata": {},
   "source": [
    "### Ожидаемый результат:\n",
    "```\n",
    "The volume is 1000 cm2\n",
    "```"
   ]
  }
 ],
 "metadata": {
  "kernelspec": {
   "display_name": "Python 3",
   "language": "python",
   "name": "python3"
  },
  "language_info": {
   "codemirror_mode": {
    "name": "ipython",
    "version": 3
   },
   "file_extension": ".py",
   "mimetype": "text/x-python",
   "name": "python",
   "nbconvert_exporter": "python",
   "pygments_lexer": "ipython3",
   "version": "3.8.5-final"
  }
 },
 "nbformat": 4,
 "nbformat_minor": 2
}